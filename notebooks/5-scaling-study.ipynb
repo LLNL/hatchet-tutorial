{
 "cells": [
  {
   "cell_type": "code",
   "execution_count": null,
   "metadata": {},
   "outputs": [],
   "source": [
    "import hatchet as ht\n",
    "import sys\n",
    "import glob\n",
    "import re \n",
    "\n",
    "import matplotlib.pyplot as plt\n",
    "import pandas as pd\n",
    "from hatchet.util.timer import Timer\n",
    "\n",
    "datasets = glob.glob('../data/lulesh-scaling' + '/lulesh*.json')\n",
    "datasets.sort()\n",
    "\n",
    "dataframes = []\n",
    "\n",
    "for dataset in datasets:\n",
    "    gf = ht.GraphFrame.from_caliper_json(dataset)\n",
    "    gf.drop_index_levels()\n",
    "    \n",
    "    num_pes = int(re.match('(.*)-(\\d+)(.*)', dataset).group(2))\n",
    "    gf.dataframe['pes'] = num_pes\n",
    "    filtered_gf = gf.filter(lambda x: x['time'] > 1e6)\n",
    "    \n",
    "    dataframes.append(filtered_gf.dataframe)"
   ]
  },
  {
   "cell_type": "code",
   "execution_count": null,
   "metadata": {},
   "outputs": [],
   "source": [
    "result = pd.concat(dataframes)\n",
    "\n",
    "pivot_df = result.pivot(index='pes', columns='name', values='time')\n",
    "display(pivot_df)\n",
    "\n",
    "pivot_df.loc[:,:].plot.bar(stacked=True, figsize=(10,7))\n",
    "\n",
    "ax = plt.subplot(111)\n",
    "\n",
    "# Shrink current axis by 20%\n",
    "box = ax.get_position()\n",
    "ax.set_position([box.x0, box.y0, box.width * 0.8, box.height])\n",
    "\n",
    "# Put a legend to the right of the current axis\n",
    "ax.legend(loc='center left', bbox_to_anchor=(1, 0.5))\n",
    "\n",
    "plt.xlabel('Number of processes')\n",
    "plt.ylabel('Time (us)')"
   ]
  }
 ],
 "metadata": {
  "kernelspec": {
   "display_name": "Python 3 (ipykernel)",
   "language": "python",
   "name": "python3"
  },
  "language_info": {
   "codemirror_mode": {
    "name": "ipython",
    "version": 3
   },
   "file_extension": ".py",
   "mimetype": "text/x-python",
   "name": "python",
   "nbconvert_exporter": "python",
   "pygments_lexer": "ipython3",
   "version": "3.9.4"
  }
 },
 "nbformat": 4,
 "nbformat_minor": 2
}
