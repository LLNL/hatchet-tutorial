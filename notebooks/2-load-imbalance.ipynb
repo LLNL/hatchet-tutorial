{
 "cells": [
  {
   "cell_type": "code",
   "execution_count": null,
   "metadata": {},
   "outputs": [],
   "source": [
    "import hatchet as ht\n",
    "import numpy as np\n",
    "\n",
    "filename = '../data/lulesh-16nodes/lulesh-annotation-profile-512cores-nompi.json'\n",
    "\n",
    "gf1 = ht.GraphFrame.from_caliper_json(filename)\n",
    "gf2 = gf1.copy()\n",
    "\n",
    "gf1.drop_index_levels(function=np.mean)\n",
    "gf2.drop_index_levels(function=np.max)"
   ]
  },
  {
   "cell_type": "code",
   "execution_count": null,
   "metadata": {},
   "outputs": [],
   "source": [
    "gf1.dataframe['imbalance'] = gf2.dataframe['time'].div(gf1.dataframe['time'])"
   ]
  },
  {
   "cell_type": "code",
   "execution_count": null,
   "metadata": {},
   "outputs": [],
   "source": [
    "sorted_df = gf1.dataframe.sort_values(by=['imbalance'], ascending=False)\n",
    "display(sorted_df)"
   ]
  }
 ],
 "metadata": {
  "kernelspec": {
   "display_name": "Python 3 (ipykernel)",
   "language": "python",
   "name": "python3"
  },
  "language_info": {
   "codemirror_mode": {
    "name": "ipython",
    "version": 3
   },
   "file_extension": ".py",
   "mimetype": "text/x-python",
   "name": "python",
   "nbconvert_exporter": "python",
   "pygments_lexer": "ipython3",
   "version": "3.9.4"
  }
 },
 "nbformat": 4,
 "nbformat_minor": 2
}
