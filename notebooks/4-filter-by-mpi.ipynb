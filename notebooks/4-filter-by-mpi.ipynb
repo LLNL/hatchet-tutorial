{
 "cells": [
  {
   "cell_type": "code",
   "execution_count": null,
   "metadata": {},
   "outputs": [],
   "source": [
    "import hatchet as ht\n",
    "\n",
    "filename1 = '../data/lulesh-1node/lulesh-annotation-profile-27cores.json'\n",
    "filename2 = '../data/lulesh-16nodes/lulesh-annotation-profile-512cores.json'\n",
    "\n",
    "gf1 = ht.GraphFrame.from_caliper(filename1)\n",
    "gf2 = ht.GraphFrame.from_caliper(filename2)\n",
    "\n",
    "gf1.drop_index_levels()\n",
    "gf2.drop_index_levels()"
   ]
  },
  {
   "cell_type": "code",
   "execution_count": null,
   "metadata": {},
   "outputs": [],
   "source": [
    "squashed_gf1 = gf1.filter(lambda x: x['name'].startswith('MPI'))\n",
    "squashed_gf2 = gf2.filter(lambda x: x['name'].startswith('MPI'))"
   ]
  },
  {
   "cell_type": "code",
   "execution_count": null,
   "metadata": {},
   "outputs": [],
   "source": [
    "new_gf = squashed_gf2 - squashed_gf1\n",
    "sorted_df = new_gf.dataframe.sort_values(by=['time'], ascending=False)\n",
    "display(sorted_df)"
   ]
  }
 ],
 "metadata": {
  "kernelspec": {
   "display_name": "Python 3 (ipykernel)",
   "language": "python",
   "name": "python3"
  },
  "language_info": {
   "codemirror_mode": {
    "name": "ipython",
    "version": 3
   },
   "file_extension": ".py",
   "mimetype": "text/x-python",
   "name": "python",
   "nbconvert_exporter": "python",
   "pygments_lexer": "ipython3",
   "version": "3.9.4"
  }
 },
 "nbformat": 4,
 "nbformat_minor": 2
}
