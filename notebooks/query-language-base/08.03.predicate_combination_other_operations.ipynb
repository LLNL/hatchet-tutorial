{
 "cells": [
  {
   "cell_type": "markdown",
   "id": "95205a8c-82b9-4644-8331-a2cb1a90f542",
   "metadata": {
    "tags": []
   },
   "source": [
    "# Hatchet Query Language\n",
    "\n",
    "This notebook explores [Hatchet](https://github.com/LLNL/hatchet) queries from its [**Call Path Query Language**](https://hatchet.readthedocs.io/en/latest/query_lang.html), specifically **Category 8: Predicate Combination through Other Operations**. The notebook covers different query types that are capable of finding nodes from [GraphFrame](https://hatchet.readthedocs.io/en/latest/user_guide.html) objects matching an exclusive disjunction (XOR) of two or more query node predicates."
   ]
  },
  {
   "cell_type": "code",
   "execution_count": 1,
   "id": "fec414a7-7b4d-403b-98e0-b362f6ede832",
   "metadata": {
    "jupyter": {
     "source_hidden": true
    },
    "tags": [
     "hide-input"
    ]
   },
   "outputs": [
    {
     "data": {
      "text/markdown": [
       "Hatchet supports eight different categories for the query language, as shown in Fig. 1.  \n",
       "\n",
       "|Category ID|Category Description|\n",
       "|:---------:|:-------------------|\n",
       "|1          |Quantifier Capabilities|\n",
       "|2          |String Equivalence and Regex Matching Predicates|\n",
       "|3          |String Containment Predicates (contains, starts with, ends with)|\n",
       "|4          |Basic Numeric Comparison Predicates (==, >, >=, etc.)|\n",
       "|5          |Special Value Identification Predicates (NaN, Inf, None)|\n",
       "|6          |Predicate Combination through Conjunction (AND)|\n",
       "|7          |Predicate Combination through Disjunction and Complement (OR, NOT)|\n",
       "|8          |Predicate Combination through Other Operations (e.g., XOR)|\n",
       "\n",
       "**Figure 1**: A table of the Hatchet Query Language capabilities, distinguished into categories and their corresponding category ID.\n",
       "\n",
       "Hatchet offers multiple interfaces to define queries with different trade-offs to verbosity and expressiveness. An entire catalog of queries, use cases, categories and capabilities can be found [here](https://docs.google.com/spreadsheets/d/1fKNlHmDJdDbnE4jyMcaFqdnw6ZSaexgm33rOcVAj0do/edit#gid=0).\n",
       "\n",
       "Hatchet query language consumes a GraphFrame and a sequence of queries. Each query can comprise a **predicate** and a **quantifier**. Hatchet query language finds all **matching paths** from a provided GraphFrame. For example, in Fig.2, for the query (any with A or B), the output would comprise of 2 paths, [1, 2, 4] and [1, 3, 4].\n",
       "\n",
       "![Graph frames and queries](../common/images/hatchet_query_graphframe.PNG)\n",
       "\n",
       "**Figure 2**: A diagram to provide an overview of queries and an example of how queries filter GraphFrames.\n",
       "\n",
       "***\n",
       "\n",
       "\n"
      ],
      "text/plain": [
       "<IPython.core.display.Markdown object>"
      ]
     },
     "metadata": {},
     "output_type": "display_data"
    }
   ],
   "source": [
    "# display documentation for Hatchet GraphFrame\n",
    "from IPython.display import Markdown, display\n",
    "display(Markdown(\"../common/documentation/hatchet-query-language.md\"))"
   ]
  },
  {
   "cell_type": "code",
   "execution_count": 2,
   "id": "7805eb40-6a83-49b3-a5ee-b588c203772c",
   "metadata": {
    "jupyter": {
     "source_hidden": true
    },
    "tags": [
     "hide-input"
    ]
   },
   "outputs": [
    {
     "data": {
      "text/markdown": [
       "The **Query Language** finds all paths in a call graph that match properties described by the query applied to profiling data. It enables Hatchet’s Jupyter notebook-based interactive visualization to provide users with a simple and intuitive way to massively reduce the profiling data interactively. The **Query Language** has two dialects (Object-based Dialect and String-based Dialect), that simplify its use under diverse circumstances. \n",
       "\n",
       "## Category 8: Predicate Combination through Other Operations (e.g., XOR)\n",
       "\n",
       "Category 8 expands on combining query predicates through exclusive disjunction or exclusive OR with the `XOR` logical operator.The Hatchet base Query Language allows us to use more complex logic than AND, OR, and NOT in query node predicates. A complex logic we explore in this notebook is `XOR`.\n",
       "\n"
      ],
      "text/plain": [
       "<IPython.core.display.Markdown object>"
      ]
     },
     "metadata": {},
     "output_type": "display_data"
    }
   ],
   "source": [
    "# display documentation for object-based dialect\n",
    "display(Markdown(\"../common/documentation/base-query-language-08.md\"))"
   ]
  },
  {
   "cell_type": "code",
   "execution_count": 3,
   "id": "64741f6e-18fc-4fd2-8846-94df5e8acb8e",
   "metadata": {
    "jupyter": {
     "source_hidden": true
    },
    "tags": [
     "hide-inputs"
    ]
   },
   "outputs": [
    {
     "data": {
      "text/markdown": [
       "### Loading profile data as Hatchet GraphFrame\n",
       "\n",
       "Hatchet queries are only defined on Hatchet GraphFrames. \n",
       "Obtaining a hatchet GraphFrame is straight forward:\n",
       "\n",
       "1. Import hatchet\n",
       "2. Import [python regular expression operations](https://docs.python.org/3/library/re.html) \n",
       "3. Use the appropriate reader for the profile/trace at hand\n",
       "\n",
       "We first load a [Caliper](https://github.com/LLNL/Caliper) profile in JSON format, where Caliper is a performance profiling library developed by the Lawrence Livermore National Lab (LLNL).\n",
       "\n",
       "This example profile is profiled from [LULESH (Livermore Unstructured Lagrangian Explicit Shock Hydrodynamics)](https://asc.llnl.gov/codes/proxy-apps/lulesh), a performance report data generated by Caliper. LULESH is a highly simplified application designed to solve the Sedov Blast problem, which is a standard hydrodynamics test problem. It performs a hydrodynamics stencil calculation using both MPI and OpenMP to achieve parallelism. \n",
       "\n",
       "This is an interesting profile because it covers a relatively large number of nodes (45 nodes) and spends considerable time in MPI communication routines.\n"
      ],
      "text/plain": [
       "<IPython.core.display.Markdown object>"
      ]
     },
     "metadata": {},
     "output_type": "display_data"
    }
   ],
   "source": [
    "# display dataset information \n",
    "display(Markdown(\"../common/documentation/dataset-information-with-regex.md\"))"
   ]
  },
  {
   "cell_type": "code",
   "execution_count": null,
   "id": "eeaff794-d717-4e04-8096-ed030ac7b394",
   "metadata": {},
   "outputs": [],
   "source": [
    "import hatchet as ht\n",
    "import re\n",
    "gf = ht.GraphFrame.from_caliper(\"../../data/lulesh-16nodes/lulesh-annotation-profile-512cores.json\")"
   ]
  },
  {
   "cell_type": "code",
   "execution_count": 5,
   "id": "c5e9190a-22fd-4461-b4e1-ff1978a3f872",
   "metadata": {
    "jupyter": {
     "source_hidden": true
    },
    "tags": [
     "hide-input"
    ]
   },
   "outputs": [
    {
     "data": {
      "text/markdown": [
       "### Displaying a Hatchet GraphFrame\n",
       "A compact overview of a hatchet GraphFrame can be obtained using the `gf.tree()` function. We use this throughout the notebook to display the differences between an original GraphFrame and the resulting GraphFrame after applying a query."
      ],
      "text/plain": [
       "<IPython.core.display.Markdown object>"
      ]
     },
     "metadata": {},
     "output_type": "display_data"
    }
   ],
   "source": [
    "# display GraphFrame information \n",
    "display(Markdown(\"../common/documentation/graph-tree-information.md\"))"
   ]
  },
  {
   "cell_type": "code",
   "execution_count": null,
   "id": "90a77f18-6e86-4664-b5de-feff043b216c",
   "metadata": {},
   "outputs": [],
   "source": [
    "print(gf.tree())"
   ]
  },
  {
   "cell_type": "code",
   "execution_count": 7,
   "id": "f3f5c0c7-4820-475e-a9d9-a5fc1de4c26c",
   "metadata": {
    "jupyter": {
     "source_hidden": true
    },
    "tags": [
     "hide-input"
    ]
   },
   "outputs": [
    {
     "data": {
      "text/markdown": [
       "### Displaying a DataFrame\n",
       "An additional detail perspective can be obtained by viewing the underlying data using a **DataFrame**. A Hatchet **DataFrame** holds all the numerical and categorical data associated with each node. "
      ],
      "text/plain": [
       "<IPython.core.display.Markdown object>"
      ]
     },
     "metadata": {},
     "output_type": "display_data"
    }
   ],
   "source": [
    "# display DataFrame information \n",
    "display(Markdown(\"../common/documentation/dataframe-information.md\"))"
   ]
  },
  {
   "cell_type": "code",
   "execution_count": null,
   "id": "5b16c7b1-6457-4de0-861a-5afe5d1eb2cd",
   "metadata": {
    "tags": []
   },
   "outputs": [],
   "source": [
    "gf.dataframe"
   ]
  },
  {
   "cell_type": "code",
   "execution_count": 9,
   "id": "7769f313-1b69-48aa-b11a-02e504c4fd65",
   "metadata": {
    "jupyter": {
     "source_hidden": true
    },
    "tags": [
     "hide-input"
    ]
   },
   "outputs": [
    {
     "data": {
      "text/markdown": [
       "### Dropping index levels\n",
       "\n",
       "As a precursor to defining queries, we drop the index level of the GraphFrame using the `drop_index_levels()` Hatchet function. Hatchet hierarchical indexing can be of two types, depending on whether there is a single metric per node or multiple set of metrics per node.  \n",
       "\n",
       "If a node contains a single metric, the DataFrame will use an `Index` object containing the node column. If a node has an additional level of information, Hatchet creates a `MultiIndex` to store the information pertaining to multiple sets of metrics per node. `MultiIndex` stores the node column as the \"top\" level of the index, followed by additional information on the levels below. \n",
       "\n",
       "Based on the types of indexing (`Index or MultiIndex`), retrieving data from a DataFrame corresponding to a particular node either retrieves a single or multiple rows. This difference can cause issues when applying query node predicates.\n",
       "Therefore, it is necessary to get rid of all index levels besides the node column through an aggregation operation on the GraphFrame. Then, a query node predicate can be applied to the GraphFrame. "
      ],
      "text/plain": [
       "<IPython.core.display.Markdown object>"
      ]
     },
     "metadata": {},
     "output_type": "display_data"
    }
   ],
   "source": [
    "# why use drop index levels\n",
    "display(Markdown(\"../common/documentation/drop-index-information.md\"))"
   ]
  },
  {
   "cell_type": "code",
   "execution_count": 10,
   "id": "46175968-7de5-4e22-8d1d-60e6278c935b",
   "metadata": {},
   "outputs": [],
   "source": [
    "gf.drop_index_levels()"
   ]
  },
  {
   "cell_type": "code",
   "execution_count": 16,
   "id": "fcebfa9b-d356-4a22-95e5-b909605e33f9",
   "metadata": {
    "jupyter": {
     "source_hidden": true
    },
    "tags": [
     "hide-input"
    ]
   },
   "outputs": [
    {
     "data": {
      "text/markdown": [
       "### Use more complex logic than AND, OR, and NOT in query node predicates \n",
       "\n",
       "This query type allows a user to search for nodes that meet the requirements of a complex logical operator, specifically `XOR` for this example. The predicates are combined using the XOR logical operator, which means that `only one` of the two predicates must be satisfied by a node. One can apply an XOR logic to predicates by using the following combination of AND, OR, and NOT logical operators:\n",
       "\n",
       "(predicate 1 **AND** **NOT** predicate 2) **OR** (**NOT** predicate 1 **AND** predicate 2)\n",
       "\n",
       "The following query matches all nodes where either the `name` metric `starts with MPI_` **AND** the `time` metric `is NOT less than 10000` **OR** the `name` metric does `NOT start with MPI_` **AND** the `time` metric `is less than 10000`. In this way, we accomplish the application of an `XOR` logical operation on the query node predicates such that:\n",
       "\n",
       "* the `name` metric `starts with MPI_` **XOR** the `time` metric `is less than 10000`"
      ],
      "text/plain": [
       "<IPython.core.display.Markdown object>"
      ]
     },
     "metadata": {},
     "output_type": "display_data"
    }
   ],
   "source": [
    "# display query type 1 documentation\n",
    "display(Markdown(\"../common/documentation/predicate-combination-other-operations.md\"))"
   ]
  },
  {
   "cell_type": "code",
   "execution_count": 12,
   "id": "83c28c99-c418-442f-bbe6-8ec3a577a817",
   "metadata": {},
   "outputs": [],
   "source": [
    "query_1 = ht.QueryMatcher().match(\"*\", lambda row: (re.match(\"P?MPI_.*\", row[\"name\"]) is not None and not row[\"time\"] < 10000) or (not re.match(\"P?MPI_.*\", row[\"name\"]) is not None and row[\"time\"] < 10000))"
   ]
  },
  {
   "cell_type": "markdown",
   "id": "45b01f7f-556f-422e-9ac2-7e97f665e202",
   "metadata": {},
   "source": [
    "The above query is passed to Hatchet’s `filter()` function to filter the input GraphFrame. The `filter()` function takes a user-supplied function or query object and applies that to all rows in the DataFrame. The resulting Series or DataFrame is used to filter the DataFrame to only return rows that are true."
   ]
  },
  {
   "cell_type": "code",
   "execution_count": 13,
   "id": "878ec2a0",
   "metadata": {},
   "outputs": [],
   "source": [
    "gf_filt = gf.filter(query_1)"
   ]
  },
  {
   "cell_type": "markdown",
   "id": "99df8476-2a7a-488d-895a-9e1b7fc7f95a",
   "metadata": {},
   "source": [
    "The resulting GraphFrame now only lists the  nodes that matched the query:"
   ]
  },
  {
   "cell_type": "code",
   "execution_count": null,
   "id": "ed507339",
   "metadata": {},
   "outputs": [],
   "source": [
    "print(gf_filt.tree())"
   ]
  },
  {
   "cell_type": "markdown",
   "id": "73d6c6ea-848f-4b33-86cf-fbc18e655578",
   "metadata": {},
   "source": [
    "The query match is also reflected in the DataFrame:"
   ]
  },
  {
   "cell_type": "code",
   "execution_count": null,
   "id": "e96db2b3-b2a2-47f2-9144-4d01d08383c1",
   "metadata": {
    "scrolled": true
   },
   "outputs": [],
   "source": [
    "gf_filt.dataframe"
   ]
  }
 ],
 "metadata": {
  "kernelspec": {
   "display_name": "Python 3 (ipykernel)",
   "language": "python",
   "name": "python3"
  },
  "language_info": {
   "codemirror_mode": {
    "name": "ipython",
    "version": 3
   },
   "file_extension": ".py",
   "mimetype": "text/x-python",
   "name": "python",
   "nbconvert_exporter": "python",
   "pygments_lexer": "ipython3",
   "version": "3.9.12"
  }
 },
 "nbformat": 4,
 "nbformat_minor": 5
}
