{
 "cells": [
  {
   "cell_type": "markdown",
   "id": "0acd6f9c-3e0f-4a37-bea8-ec2faf1ce7c8",
   "metadata": {},
   "source": [
    "# Hatchet Query Language\n",
    "\n",
    "This notebook explores [Hatchet](https://github.com/LLNL/hatchet) queries from its [**Call Path Query Language**](https://hatchet.readthedocs.io/en/latest/query_lang.html), specifically **Category 1: Quantifier Capabilities**. The notebook covers different query types that are capable of matching various number of nodes from [GraphFrame](https://hatchet.readthedocs.io/en/latest/user_guide.html) objects."
   ]
  },
  {
   "cell_type": "code",
   "execution_count": 1,
   "id": "37b6fa1e-2ab5-46c4-81ec-d33d9f26ac3d",
   "metadata": {
    "jupyter": {
     "source_hidden": true
    },
    "tags": [
     "hide-input"
    ]
   },
   "outputs": [
    {
     "data": {
      "text/markdown": [
       "Hatchet supports eight different categories for the query language, as shown in Fig. 1.  \n",
       "\n",
       "|Category ID|Category Description|\n",
       "|:---------:|:-------------------|\n",
       "|1          |Quantifier Capabilities|\n",
       "|2          |String Equivalence and Regex Matching Predicates|\n",
       "|3          |String Containment Predicates (contains, starts with, ends with)|\n",
       "|4          |Basic Numeric Comparison Predicates (==, >, >=, etc.)|\n",
       "|5          |Special Value Identification Predicates (NaN, Inf, None)|\n",
       "|6          |Predicate Combination through Conjunction (AND)|\n",
       "|7          |Predicate Combination through Disjunction and Complement (OR, NOT)|\n",
       "|8          |Predicate Combination through Other Operations (e.g., XOR)|\n",
       "\n",
       "**Figure 1**: A table of the Hatchet Query Language capabilities, distinguished into categories and their corresponding category ID.\n",
       "\n",
       "Hatchet offers multiple interfaces to define queries with different trade-offs to verbosity and expressiveness. An entire catalog of queries, use cases, categories and capabilities can be found [here](https://docs.google.com/spreadsheets/d/1fKNlHmDJdDbnE4jyMcaFqdnw6ZSaexgm33rOcVAj0do/edit#gid=0).\n",
       "\n",
       "Hatchet query language consumes a GraphFrame and a sequence of queries. Each query can comprise a **predicate** and a **quantifier**. Hatchet query language finds all **matching paths** from a provided GraphFrame. For example, in Fig.2, for the query (any with A or B), the output would comprise of 2 paths, [1, 2, 4] and [1, 3, 4].\n",
       "\n",
       "![Graph frames and queries](../common/images/hatchet_query_graphframe.png)\n",
       "\n",
       "**Figure 2**: A diagram to provide an overview of queries and an example of how queries filter GraphFrames.\n",
       "\n",
       "***\n",
       "\n",
       "\n"
      ],
      "text/plain": [
       "<IPython.core.display.Markdown object>"
      ]
     },
     "metadata": {},
     "output_type": "display_data"
    }
   ],
   "source": [
    "# display documentation for Hatchet GraphFrame\n",
    "from IPython.display import Markdown, display\n",
    "display(Markdown(\"../common/documentation/hatchet-query-language.md\"))"
   ]
  },
  {
   "cell_type": "code",
   "execution_count": 2,
   "id": "4047ee95-f135-46c4-87bc-82fc767f4f8e",
   "metadata": {
    "jupyter": {
     "source_hidden": true
    },
    "tags": [
     "hide-input"
    ]
   },
   "outputs": [
    {
     "data": {
      "text/markdown": [
       "The **Query Language** finds all paths in a call graph that match properties described by the query applied to profiling data. It enables Hatchet’s Jupyter notebook-based interactive visualization to provide users with a simple and intuitive way to massively reduce the profiling data interactively. The **Query Language** has two dialects (Object-based Dialect and String-based Dialect), that simplify its use under diverse circumstances. \n",
       "\n",
       "## Category 1: Quantifier Capabilities\n",
       "\n",
       "A valid hatchet query requires a **quantifier**. The accepted values for query node quantifiers in the **Object-based Dialect** are:\n",
       "\n",
       "1. `\".\"`: Match a single node\n",
       "2. `\"*\"`: Match 0 or more nodes\n",
       "3. `\"+\"`: Match 1 or more nodes\n",
       "4. `Integer`: Match an exact number of nodes\n",
       "\n",
       "\n"
      ],
      "text/plain": [
       "<IPython.core.display.Markdown object>"
      ]
     },
     "metadata": {},
     "output_type": "display_data"
    }
   ],
   "source": [
    "# display documentation for object-based dialect\n",
    "display(Markdown(\"../common/documentation/base-query-language-01.md\"))"
   ]
  },
  {
   "cell_type": "code",
   "execution_count": 3,
   "id": "844c042b-fda3-45fb-b2b3-3efdb63bb31d",
   "metadata": {
    "jupyter": {
     "source_hidden": true
    },
    "tags": [
     "hide-input"
    ]
   },
   "outputs": [
    {
     "data": {
      "text/markdown": [
       "### Loading profile data as Hatchet GraphFrame\n",
       "\n",
       "Hatchet queries are only defined on Hatchet GraphFrames. \n",
       "Obtaining a hatchet GraphFrame is straight forward:\n",
       "\n",
       "1. Import hatchet\n",
       "2. Import [python regular expression operations](https://docs.python.org/3/library/re.html) \n",
       "3. Use the appropriate reader for the profile/trace at hand\n",
       "\n",
       "We first load a [Caliper](https://github.com/LLNL/Caliper) profile in JSON format, where Caliper is a performance profiling library developed by the Lawrence Livermore National Lab (LLNL).\n",
       "\n",
       "This example profile is profiled from [LULESH (Livermore Unstructured Lagrangian Explicit Shock Hydrodynamics)](https://asc.llnl.gov/codes/proxy-apps/lulesh), a performance report data generated by Caliper. LULESH is a highly simplified application designed to solve the Sedov Blast problem, which is a standard hydrodynamics test problem. It performs a hydrodynamics stencil calculation using both MPI and OpenMP to achieve parallelism. \n",
       "\n",
       "This is an interesting profile because it covers a relatively large number of nodes (45 nodes) and spends considerable time in MPI communication routines.\n"
      ],
      "text/plain": [
       "<IPython.core.display.Markdown object>"
      ]
     },
     "metadata": {},
     "output_type": "display_data"
    }
   ],
   "source": [
    "# display dataset information \n",
    "display(Markdown(\"../common/documentation/dataset-information-with-regex.md\"))"
   ]
  },
  {
   "cell_type": "code",
   "execution_count": null,
   "id": "04ab3f46",
   "metadata": {
    "tags": []
   },
   "outputs": [],
   "source": [
    "import hatchet as ht\n",
    "import re\n",
    "gf = ht.GraphFrame.from_caliper(\"../../data/lulesh-16nodes/lulesh-annotation-profile-512cores.json\")"
   ]
  },
  {
   "cell_type": "code",
   "execution_count": 4,
   "id": "fba32f48-7566-4128-b34c-6a0583dd7f39",
   "metadata": {
    "jupyter": {
     "source_hidden": true
    },
    "tags": [
     "hide-input"
    ]
   },
   "outputs": [
    {
     "data": {
      "text/markdown": [
       "### Displaying a Hatchet GraphFrame\n",
       "A compact overview of a hatchet GraphFrame can be obtained using the `gf.tree()` function. We use this throughout the notebook to display the differences between an original GraphFrame and the resulting GraphFrame after applying a query."
      ],
      "text/plain": [
       "<IPython.core.display.Markdown object>"
      ]
     },
     "metadata": {},
     "output_type": "display_data"
    }
   ],
   "source": [
    "# display GraphFrame information \n",
    "display(Markdown(\"../common/documentation/graph-tree-information.md\"))"
   ]
  },
  {
   "cell_type": "code",
   "execution_count": null,
   "id": "a64232ca-c1ad-4ac5-8d12-f42e44f644b8",
   "metadata": {},
   "outputs": [],
   "source": [
    "print(gf.tree())"
   ]
  },
  {
   "cell_type": "code",
   "execution_count": 5,
   "id": "13262151-83b6-42eb-b44e-9868eb5dffd6",
   "metadata": {
    "jupyter": {
     "source_hidden": true
    },
    "tags": [
     "hide-input"
    ]
   },
   "outputs": [
    {
     "data": {
      "text/markdown": [
       "### Displaying a DataFrame\n",
       "An additional detail perspective can be obtained by viewing the underlying data using a **DataFrame**. A Hatchet **DataFrame** holds all the numerical and categorical data associated with each node. "
      ],
      "text/plain": [
       "<IPython.core.display.Markdown object>"
      ]
     },
     "metadata": {},
     "output_type": "display_data"
    }
   ],
   "source": [
    "# display DataFrame information \n",
    "display(Markdown(\"../common/documentation/dataframe-information.md\"))"
   ]
  },
  {
   "cell_type": "code",
   "execution_count": null,
   "id": "846a6f64-4e0f-44b6-b26d-b783680d9d41",
   "metadata": {},
   "outputs": [],
   "source": [
    "gf.dataframe"
   ]
  },
  {
   "cell_type": "code",
   "execution_count": 6,
   "id": "0d85d6e7-bba0-462c-b984-6d29c1cbb034",
   "metadata": {
    "jupyter": {
     "source_hidden": true
    },
    "tags": [
     "hide-input"
    ]
   },
   "outputs": [
    {
     "data": {
      "text/markdown": [
       "### Dropping index levels\n",
       "\n",
       "As a precursor to defining queries, we drop the index level of the GraphFrame using the `drop_index_levels()` Hatchet function. Hatchet hierarchical indexing can be of two types, depending on whether there is a single metric per node or multiple set of metrics per node.  \n",
       "\n",
       "If a node contains a single metric, the DataFrame will use an `Index` object containing the node column. If a node has an additional level of information, Hatchet creates a `MultiIndex` to store the information pertaining to multiple sets of metrics per node. `MultiIndex` stores the node column as the \"top\" level of the index, followed by additional information on the levels below. \n",
       "\n",
       "Based on the types of indexing (`Index or MultiIndex`), retrieving data from a DataFrame corresponding to a particular node either retrieves a single or multiple rows. This difference can cause issues when applying query node predicates.\n",
       "Therefore, it is necessary to get rid of all index levels besides the node column through an aggregation operation on the GraphFrame. Then, a query node predicate can be applied to the GraphFrame. "
      ],
      "text/plain": [
       "<IPython.core.display.Markdown object>"
      ]
     },
     "metadata": {},
     "output_type": "display_data"
    }
   ],
   "source": [
    "# why use drop index levels\n",
    "display(Markdown(\"../common/documentation/drop-index-information.md\"))"
   ]
  },
  {
   "cell_type": "code",
   "execution_count": 3,
   "id": "f5611303-df08-4c9b-ac41-c3c46f36cb83",
   "metadata": {},
   "outputs": [],
   "source": [
    "gf.drop_index_levels()"
   ]
  },
  {
   "cell_type": "code",
   "execution_count": 7,
   "id": "661dd6a9-4f74-4bee-8194-48e1edfb443a",
   "metadata": {
    "jupyter": {
     "source_hidden": true
    },
    "tags": [
     "hide-input"
    ]
   },
   "outputs": [
    {
     "data": {
      "text/markdown": [
       "### Query type 1: Match a single node\n",
       "\n",
       "In the simplest case, a user can use this query type to match all single nodes that belong to function calls of a particular library (e.g., MPI). \n",
       "\n",
       "The following query matches all single nodes where the predicate that the `name` metric `starts with \"MPI_Barrier\"` is satisfied:\n"
      ],
      "text/plain": [
       "<IPython.core.display.Markdown object>"
      ]
     },
     "metadata": {},
     "output_type": "display_data"
    }
   ],
   "source": [
    "# display query type 1 documentation\n",
    "display(Markdown(\"../common/documentation/quantifier-capabilities-01.md\"))"
   ]
  },
  {
   "cell_type": "code",
   "execution_count": 4,
   "id": "a1adf78c",
   "metadata": {},
   "outputs": [],
   "source": [
    "# single node with names starting with MPI_Barrier\n",
    "query_1 = ht.QueryMatcher().match (\".\", lambda row: re.match(\"MPI_Barrier\", row[\"name\"]) is not None)"
   ]
  },
  {
   "cell_type": "markdown",
   "id": "542c08bc-1df4-4f1c-b112-00596f712060",
   "metadata": {},
   "source": [
    "The above query is passed to Hatchet’s `filter()` function to filter the input GraphFrame. The `filter()` function takes a user-supplied function or query object and applies that to all rows in the DataFrame. The resulting Series or DataFrame is used to filter the DataFrame to only return rows that are true."
   ]
  },
  {
   "cell_type": "code",
   "execution_count": 5,
   "id": "878ec2a0",
   "metadata": {},
   "outputs": [],
   "source": [
    "gf_filt = gf.filter(query_1)"
   ]
  },
  {
   "cell_type": "markdown",
   "id": "fb071748-6f29-4450-ab0c-4f3b2895c266",
   "metadata": {},
   "source": [
    "The resulting GraphFrame now only lists the  nodes that matched the query:"
   ]
  },
  {
   "cell_type": "code",
   "execution_count": null,
   "id": "7ef7369a-1968-43a6-b53a-a01b2a4785fe",
   "metadata": {},
   "outputs": [],
   "source": [
    "print(gf_filt.tree())"
   ]
  },
  {
   "cell_type": "markdown",
   "id": "aba91ada-0f7e-4dff-ab73-560e1421cc19",
   "metadata": {},
   "source": [
    "The query match is also reflected in the DataFrame:"
   ]
  },
  {
   "cell_type": "code",
   "execution_count": null,
   "id": "a36d95f9",
   "metadata": {},
   "outputs": [],
   "source": [
    "gf_filt.dataframe"
   ]
  },
  {
   "cell_type": "code",
   "execution_count": 8,
   "id": "836f103c-61d5-43a7-9b27-1a2d32cfed35",
   "metadata": {
    "jupyter": {
     "source_hidden": true
    },
    "tags": [
     "hide-input"
    ]
   },
   "outputs": [
    {
     "data": {
      "text/markdown": [
       "### Query type 2: Match zero or more nodes\n",
       "\n",
       "In many cases, a user may not know how many nodes to match. For this reason, hatchet provides the `\"*\"` and `\"+\"` literals as a quantifier `match zero or more nodes` and `match one or more nodes`, respectively.\n",
       "\n",
       "This query type filters a GraphFrame with the object syntax to find all query paths with zero or more nodes that meet a query predicate. This notebook contains two examples for this query use case. The purpose of the second example is to illustrate the difference between the query use cases that `match zero or more nodes` and `match one or more nodes`.\n",
       "\n",
       "**Example 1:**\n",
       "\n",
       "For the first example, the following query matches all zero or more nodes where the predicate that the `name` metric `starts with \"Calc\"` is satisfied.\n"
      ],
      "text/plain": [
       "<IPython.core.display.Markdown object>"
      ]
     },
     "metadata": {},
     "output_type": "display_data"
    }
   ],
   "source": [
    "# display query type 2 documentation\n",
    "display(Markdown(\"../common/documentation/quantifier-capabilities-02-01.md\"))"
   ]
  },
  {
   "cell_type": "code",
   "execution_count": 8,
   "id": "d6003b64",
   "metadata": {},
   "outputs": [],
   "source": [
    "# zero or more nodes with name starting with Calc\n",
    "query_2_1 = ht.QueryMatcher().match(\"*\", lambda row: re.match(\"Calc.*\", row[\"name\"]) is not None)"
   ]
  },
  {
   "cell_type": "markdown",
   "id": "fe62d350-23a9-42c8-9f49-0eb955fdee85",
   "metadata": {},
   "source": [
    "Just as before, the above query is passed to Hatchet’s filter() function to filter the input GraphFrame."
   ]
  },
  {
   "cell_type": "code",
   "execution_count": 9,
   "id": "ba6fef83",
   "metadata": {},
   "outputs": [],
   "source": [
    "gf_filt = gf.filter(query_2_1)"
   ]
  },
  {
   "cell_type": "markdown",
   "id": "d7a2eb28-091a-4543-9c26-03e411391a89",
   "metadata": {},
   "source": [
    "Here, instead of matching only single nodes, entire call stacks can be matched. The resulting GraphFrame now only lists the nodes that matched the query:"
   ]
  },
  {
   "cell_type": "code",
   "execution_count": null,
   "id": "72815615",
   "metadata": {},
   "outputs": [],
   "source": [
    "print(gf_filt.tree())"
   ]
  },
  {
   "cell_type": "markdown",
   "id": "e2ac98ca-1574-4def-b22b-c8dce2fbb4bc",
   "metadata": {},
   "source": [
    "The query match is also reflected in the DataFrame:"
   ]
  },
  {
   "cell_type": "code",
   "execution_count": null,
   "id": "598ca08c-8a0a-44a9-aa4f-58c43457da26",
   "metadata": {},
   "outputs": [],
   "source": [
    "gf_filt.dataframe"
   ]
  },
  {
   "cell_type": "code",
   "execution_count": 9,
   "id": "56b7479c",
   "metadata": {
    "jupyter": {
     "source_hidden": true
    },
    "tags": [
     "hide-input"
    ]
   },
   "outputs": [
    {
     "data": {
      "text/markdown": [
       "**Example 2:**\n",
       "\n",
       "In some cases, it is necessary to constrain which nodes to match. In other cases, it may be unknown which functions are called before a particular routine.\n",
       "\n",
       "For this second example, the first quantifier (`\".\"`) constrains the filter to single node with the predicate that the metric `name`, `starts with lulesh`. The second quantifier (`\".\"`) all nodes matching any node, before only `matching zero or more nodes` that satisfy the predicate that the metric `name`, `starts with Calc`.  "
      ],
      "text/plain": [
       "<IPython.core.display.Markdown object>"
      ]
     },
     "metadata": {},
     "output_type": "display_data"
    }
   ],
   "source": [
    "# display query type 2 documentation\n",
    "display(Markdown(\"../common/documentation/quantifier-capabilities-02-02.md\"))"
   ]
  },
  {
   "cell_type": "code",
   "execution_count": 11,
   "id": "e44f75f7",
   "metadata": {},
   "outputs": [],
   "source": [
    "# zero or more nodes with several query nodes\n",
    "query_2_2 = ht.QueryMatcher().match(\".\", lambda row: re.match(\"lulesh.*\", row[\"name\"]) is not None).rel(\".\").rel(\"*\", lambda row: re.match(\"Calc.*\", row[\"name\"]) is not None)"
   ]
  },
  {
   "cell_type": "markdown",
   "id": "3d0707e3-397a-4cd3-bb3a-884ac6cfdcc2",
   "metadata": {},
   "source": [
    "Just as before, the above query is passed to Hatchet’s filter() function to filter the input GraphFrame."
   ]
  },
  {
   "cell_type": "code",
   "execution_count": 12,
   "id": "65ede8ca",
   "metadata": {},
   "outputs": [],
   "source": [
    "gf_filt = gf.filter(query_2_2)"
   ]
  },
  {
   "cell_type": "markdown",
   "id": "385576d9-32ae-476f-b505-1fe4dabe8866",
   "metadata": {},
   "source": [
    "The resulting GraphFrame now only lists the nodes that matched the query:"
   ]
  },
  {
   "cell_type": "code",
   "execution_count": null,
   "id": "2f326371",
   "metadata": {},
   "outputs": [],
   "source": [
    "print(gf_filt.tree())"
   ]
  },
  {
   "cell_type": "code",
   "execution_count": 10,
   "id": "e2fd8161-c683-4663-9b2b-e42195335a14",
   "metadata": {
    "jupyter": {
     "source_hidden": true
    },
    "tags": [
     "hide-input"
    ]
   },
   "outputs": [
    {
     "data": {
      "text/markdown": [
       "The above graph tree demonstrates that when the query to `match zero or more nodes` is executed with the constraints mentioned above, the node with `name \"TimeIncrement\"` is included, as it satisfies the third quantifier and predicate in the example. This specific node is omitted when the third quantifier in this example is changed to match one or more nodes instead. \n",
       "\n",
       "The query match is also reflected in the DataFrame: \n"
      ],
      "text/plain": [
       "<IPython.core.display.Markdown object>"
      ]
     },
     "metadata": {},
     "output_type": "display_data"
    }
   ],
   "source": [
    "# display query type 2 documentation\n",
    "display(Markdown(\"../common/documentation/quantifier-capabilities-02-03.md\"))"
   ]
  },
  {
   "cell_type": "code",
   "execution_count": null,
   "id": "183463e5-9bcd-4861-a5c2-3ecaf8adbfea",
   "metadata": {},
   "outputs": [],
   "source": [
    "gf_filt.dataframe"
   ]
  },
  {
   "cell_type": "code",
   "execution_count": 11,
   "id": "3946ab9e-4b79-408c-bcde-c5336d935d4f",
   "metadata": {
    "jupyter": {
     "source_hidden": true
    },
    "tags": [
     "hide-input"
    ]
   },
   "outputs": [
    {
     "data": {
      "text/markdown": [
       "### Query type 3: Match one or more nodes\n",
       "\n",
       "This query type filters a GraphFrame with the object syntax to find all query paths with one or more nodes that meet a query predicate. \n",
       "\n",
       "The notebook contains two examples for this query type. The purpose of the second example is to illustrate the difference between the query types that `match zero or more nodes` and `match one or more nodes`.\n",
       "\n",
       "**Example 1:**\n",
       "\n",
       "For the first example, the metric used for the query is `name` and the predicate is that the `name` metric `starts with \"CalcMonotonic\"`."
      ],
      "text/plain": [
       "<IPython.core.display.Markdown object>"
      ]
     },
     "metadata": {},
     "output_type": "display_data"
    }
   ],
   "source": [
    "# display query type 3 documentation\n",
    "display(Markdown(\"../common/documentation/quantifier-capabilities-03-01.md\"))"
   ]
  },
  {
   "cell_type": "code",
   "execution_count": 14,
   "id": "5ebf041b",
   "metadata": {},
   "outputs": [],
   "source": [
    "# one or more nodes with name starting with CalcMonotonic\n",
    "query_3_1 = ht.QueryMatcher().match(\"+\", lambda row: re.match(\"CalcMonotonic\", row[\"name\"]) is not None)"
   ]
  },
  {
   "cell_type": "markdown",
   "id": "3855abbb-5191-48df-88ee-01724be0f18d",
   "metadata": {},
   "source": [
    "Just as before, the above query is passed to Hatchet’s `filter()` function to filter the input GraphFrame."
   ]
  },
  {
   "cell_type": "code",
   "execution_count": 15,
   "id": "2b794a30",
   "metadata": {},
   "outputs": [],
   "source": [
    "gf_filt = gf.filter(query_3_1)"
   ]
  },
  {
   "cell_type": "markdown",
   "id": "f4ef66a0-63db-4977-aa59-efb5a853c6be",
   "metadata": {},
   "source": [
    "The resulting GraphFrame now only lists the nodes that matched the query:"
   ]
  },
  {
   "cell_type": "code",
   "execution_count": null,
   "id": "47d68bd2",
   "metadata": {},
   "outputs": [],
   "source": [
    "print(gf_filt.tree())"
   ]
  },
  {
   "cell_type": "markdown",
   "id": "91b9cd75-42ef-4856-b67b-c7da45ec6326",
   "metadata": {},
   "source": [
    "The query match is also reflected in the DataFrame:"
   ]
  },
  {
   "cell_type": "code",
   "execution_count": null,
   "id": "f9750db3-fb9c-4de1-94e4-429cf6863021",
   "metadata": {},
   "outputs": [],
   "source": [
    "gf_filt.dataframe"
   ]
  },
  {
   "cell_type": "code",
   "execution_count": 12,
   "id": "690f202f-1c07-464b-8305-3924c172bb72",
   "metadata": {
    "jupyter": {
     "source_hidden": true
    },
    "tags": [
     "hide-input"
    ]
   },
   "outputs": [
    {
     "data": {
      "text/markdown": [
       "**Example 2:**\n",
       "\n",
       "For the second example, we repeat the second example in the previous section but replace the final query node to 'match one or more nodes'. The first quantifier (`\".\"`) constrains the filter to a single node with the predicate that the metric `name`, `starts with lulesh`. The second quantifier (`\".\"`) all nodes matching any node, before only `matching one or more nodes` that satisfy the predicate that the metric `name`, `starts with Calc`.  "
      ],
      "text/plain": [
       "<IPython.core.display.Markdown object>"
      ]
     },
     "metadata": {},
     "output_type": "display_data"
    }
   ],
   "source": [
    "# display query type 3 documentation\n",
    "display(Markdown(\"../common/documentation/quantifier-capabilities-03-02.md\"))"
   ]
  },
  {
   "cell_type": "code",
   "execution_count": 19,
   "id": "18f67ac7",
   "metadata": {},
   "outputs": [],
   "source": [
    "# one or more nodes with several query nodes\n",
    "query_3_2 = ht.QueryMatcher().match(\".\", lambda row: re.match(\"lulesh.*\", row[\"name\"]) is not None).rel(\".\").rel(\"+\", lambda row: re.match(\"Calc.*\", row[\"name\"]) is not None)"
   ]
  },
  {
   "cell_type": "markdown",
   "id": "2217438f-5dc0-4959-a745-2a37761e1f8f",
   "metadata": {},
   "source": [
    "Just as before, the above query is passed to Hatchet’s `filter()` function to filter the input GraphFrame."
   ]
  },
  {
   "cell_type": "code",
   "execution_count": 20,
   "id": "c800513f",
   "metadata": {},
   "outputs": [],
   "source": [
    "gf_filt = gf.filter(query_3_2)"
   ]
  },
  {
   "cell_type": "markdown",
   "id": "5d465c61-3195-4e24-be5d-99351e93a986",
   "metadata": {},
   "source": [
    "The resulting GraphFrame now only lists the nodes that matched the query:"
   ]
  },
  {
   "cell_type": "code",
   "execution_count": null,
   "id": "846c541b",
   "metadata": {},
   "outputs": [],
   "source": [
    "print(gf_filt.tree())"
   ]
  },
  {
   "cell_type": "code",
   "execution_count": 13,
   "id": "438c0b1c-4b0d-4704-8a18-99bbdd447c1e",
   "metadata": {
    "jupyter": {
     "source_hidden": true
    },
    "tags": [
     "hide-input"
    ]
   },
   "outputs": [
    {
     "data": {
      "text/markdown": [
       "Execution of the second examples for query type 2 (match zero or more nodes) and query type 3 (match one or more nodes) demonstrate the difference between the two query types when used in combination with other quantifiers and predicates. \n",
       "\n",
       "The predicate that the metric `name`, `starts with Calc` for this dataset demonstrates that when we `match one or more nodes`, the filter omits the node with the `name \"TimeIncrement\"`, as it does not satisfy the third quantifier and predicate in this example. \n",
       "\n",
       "This specific node is included when the third quantifier in this example is changed to match zero or more nodes instead. The query match is also reflected in the DataFrame: \n"
      ],
      "text/plain": [
       "<IPython.core.display.Markdown object>"
      ]
     },
     "metadata": {},
     "output_type": "display_data"
    }
   ],
   "source": [
    "# display query type 3 documentation\n",
    "display(Markdown(\"../common/documentation/quantifier-capabilities-03-03.md\"))"
   ]
  },
  {
   "cell_type": "code",
   "execution_count": null,
   "id": "ff7fbfb2-dfe3-4718-939c-b7606ea65cf4",
   "metadata": {},
   "outputs": [],
   "source": [
    "gf_filt.dataframe"
   ]
  },
  {
   "cell_type": "code",
   "execution_count": 14,
   "id": "cc7274e9-b97e-432b-a750-165589d6a877",
   "metadata": {
    "jupyter": {
     "source_hidden": true
    },
    "tags": [
     "hide-input"
    ]
   },
   "outputs": [
    {
     "data": {
      "text/markdown": [
       "### Query type 4: Match exact number of nodes\n",
       "\n",
       "\n",
       "This query type filters a GraphFrame with the object syntax to find all query paths with an exact number of nodes, provided as an integer, that meets a query predicate.\n",
       "\n",
       "The metric used for the query is `name` and the predicate is that the `name` metric `starts with \"Calc\"`. We have previously applied a query use case to match zero or more nodes that start with the name Calc. However, the user can use the following query to concisely match only those nodes that contain `exactly three nodes` that `start with name Calc`. The resulting GraphFrame should be relatively smaller, considering the original GraphFrame and the previous example."
      ],
      "text/plain": [
       "<IPython.core.display.Markdown object>"
      ]
     },
     "metadata": {},
     "output_type": "display_data"
    }
   ],
   "source": [
    "# display query type 4 documentation\n",
    "display(Markdown(\"../common/documentation/quantifier-capabilities-04.md\"))"
   ]
  },
  {
   "cell_type": "code",
   "execution_count": 22,
   "id": "edc988d1",
   "metadata": {},
   "outputs": [],
   "source": [
    "# exactly three nodes with names starting with Calc\n",
    "query_4 = ht.QueryMatcher().match(3, lambda row: re.match(\"Calc\", row[\"name\"]) is not None)"
   ]
  },
  {
   "cell_type": "markdown",
   "id": "6b68c0c2-8a3c-4f97-afd9-be84f448e697",
   "metadata": {},
   "source": [
    "Just as before, the above query is passed to Hatchet’s `filter()` function to filter the input GraphFrame."
   ]
  },
  {
   "cell_type": "code",
   "execution_count": 23,
   "id": "fa3334a5",
   "metadata": {},
   "outputs": [],
   "source": [
    "gf_filt = gf.filter(query_4)"
   ]
  },
  {
   "cell_type": "markdown",
   "id": "7a506cb0-2307-44eb-b828-5490ad457a43",
   "metadata": {},
   "source": [
    "The resulting GraphFrame now only lists the nodes that matched the query:"
   ]
  },
  {
   "cell_type": "code",
   "execution_count": null,
   "id": "8a85a901",
   "metadata": {},
   "outputs": [],
   "source": [
    "print(gf_filt.tree())"
   ]
  },
  {
   "cell_type": "markdown",
   "id": "55dd4d7a-4b35-43b6-98aa-7719700ddb20",
   "metadata": {},
   "source": [
    "The query match is also reflected in the DataFrame:"
   ]
  },
  {
   "cell_type": "code",
   "execution_count": null,
   "id": "d85198c9-e4d5-4989-9fed-6f2a85aebfc5",
   "metadata": {},
   "outputs": [],
   "source": [
    "gf_filt.dataframe"
   ]
  }
 ],
 "metadata": {
  "kernelspec": {
   "display_name": "Python 3 (ipykernel)",
   "language": "python",
   "name": "python3"
  },
  "language_info": {
   "codemirror_mode": {
    "name": "ipython",
    "version": 3
   },
   "file_extension": ".py",
   "mimetype": "text/x-python",
   "name": "python",
   "nbconvert_exporter": "python",
   "pygments_lexer": "ipython3",
   "version": "3.9.12"
  }
 },
 "nbformat": 4,
 "nbformat_minor": 5
}
