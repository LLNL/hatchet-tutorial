{
 "cells": [
  {
   "cell_type": "markdown",
   "id": "aceff8e8-3884-47e9-b138-7a67858be3d8",
   "metadata": {},
   "source": [
    "# Hatchet Query Language\n",
    "\n",
    "This notebook explores [Hatchet](https://github.com/LLNL/hatchet) queries from its [**Call Path Query Language**](https://hatchet.readthedocs.io/en/latest/query_lang.html), specifically **Category 3: String Containment Predicates**. The notebook covers different query types that check the nodes of [GraphFrame](https://hatchet.readthedocs.io/en/latest/user_guide.html) objects for string metrics that contain a certain substring."
   ]
  },
  {
   "cell_type": "code",
   "execution_count": 1,
   "id": "d5b25b23-1fc5-4208-bfcd-0119f7016958",
   "metadata": {
    "jupyter": {
     "source_hidden": true
    },
    "tags": [
     "hide-input"
    ]
   },
   "outputs": [
    {
     "data": {
      "text/markdown": [
       "Hatchet supports eight different categories for the query language, as shown in Fig. 1.  \n",
       "\n",
       "|Category ID|Category Description|\n",
       "|:---------:|:-------------------|\n",
       "|1          |Quantifier Capabilities|\n",
       "|2          |String Equivalence and Regex Matching Predicates|\n",
       "|3          |String Containment Predicates (contains, starts with, ends with)|\n",
       "|4          |Basic Numeric Comparison Predicates (==, >, >=, etc.)|\n",
       "|5          |Special Value Identification Predicates (NaN, Inf, None)|\n",
       "|6          |Predicate Combination through Conjunction (AND)|\n",
       "|7          |Predicate Combination through Disjunction and Complement (OR, NOT)|\n",
       "|8          |Predicate Combination through Other Operations (e.g., XOR)|\n",
       "\n",
       "**Figure 1**: A table of the Hatchet Query Language capabilities, distinguished into categories and their corresponding category ID.\n",
       "\n",
       "Hatchet offers multiple interfaces to define queries with different trade-offs to verbosity and expressiveness. An entire catalog of queries, use cases, categories and capabilities can be found [here](https://docs.google.com/spreadsheets/d/1fKNlHmDJdDbnE4jyMcaFqdnw6ZSaexgm33rOcVAj0do/edit#gid=0).\n",
       "\n",
       "Hatchet query language consumes a GraphFrame and a sequence of queries. Each query can comprise a **predicate** and a **quantifier**. Hatchet query language finds all **matching paths** from a provided GraphFrame. For example, in Fig.2, for the query (any with A or B), the output would comprise of 2 paths, [1, 2, 4] and [1, 3, 4].\n",
       "\n",
       "![Graph frames and queries](../common/images/hatchet_query_graphframe.PNG)\n",
       "\n",
       "**Figure 2**: A diagram to provide an overview of queries and an example of how queries filter GraphFrames.\n",
       "\n",
       "***\n",
       "\n",
       "\n"
      ],
      "text/plain": [
       "<IPython.core.display.Markdown object>"
      ]
     },
     "metadata": {},
     "output_type": "display_data"
    }
   ],
   "source": [
    "# display documentation for Hatchet GraphFrame\n",
    "from IPython.display import Markdown, display\n",
    "display(Markdown(\"../common/documentation/hatchet-query-language.md\"))"
   ]
  },
  {
   "cell_type": "code",
   "execution_count": 2,
   "id": "a06cc552-e958-4a59-9f91-df257e48c930",
   "metadata": {
    "jupyter": {
     "source_hidden": true
    },
    "tags": [
     "hide-input"
    ]
   },
   "outputs": [
    {
     "data": {
      "text/markdown": [
       "The **Query Language** finds all paths in a call graph that match properties described by the query applied to profiling data. It enables Hatchet’s Jupyter notebook-based interactive visualization to provide users with a simple and intuitive way to massively reduce the profiling data interactively. The **Query Language** has two dialects (Object-based Dialect and String-based Dialect), that simplify its use under diverse circumstances. \n",
       "\n",
       "## Category 3: String Containment Predicates (contains, starts with, ends with)\n",
       "\n",
       "Category 3 expands on a user friendly alternative to using regex in query node predicates to check for string metrics that match a certain subtring. This alternative method is exclusive to Hatchet's base Query Language and it's String-based dialect, providing a simpler approach to defining query node predicates and removing dependency on regex knowledge.\n",
       "\n",
       "The Hatchet base Query Language allows us to `check if string metric`:\n",
       "\n",
       "1. Starts with substring in query node predicates\n",
       "2. Ends with substring in query node predicates\n",
       "3. Contains substring in query node predicates\n"
      ],
      "text/plain": [
       "<IPython.core.display.Markdown object>"
      ]
     },
     "metadata": {},
     "output_type": "display_data"
    }
   ],
   "source": [
    "# display documentation for object-based dialect\n",
    "display(Markdown(\"../common/documentation/base-query-language-03.md\"))"
   ]
  },
  {
   "cell_type": "code",
   "execution_count": 3,
   "id": "87134efc-3ce1-452c-9d25-f49ffccccfc4",
   "metadata": {
    "jupyter": {
     "source_hidden": true
    },
    "tags": [
     "hide-input"
    ]
   },
   "outputs": [
    {
     "data": {
      "text/markdown": [
       "### Loading profile data as Hatchet GraphFrame\n",
       "\n",
       "Hatchet queries are only defined on Hatchet GraphFrames. \n",
       "Obtaining a hatchet GraphFrame is straight forward:\n",
       "\n",
       "1. Import hatchet\n",
       "2. Import [python regular expression operations](https://docs.python.org/3/library/re.html) \n",
       "3. Use the appropriate reader for the profile/trace at hand\n",
       "\n",
       "We first load a [Caliper](https://github.com/LLNL/Caliper) profile in JSON format, where Caliper is a performance profiling library developed by the Lawrence Livermore National Lab (LLNL).\n",
       "\n",
       "This example profile is profiled from [LULESH (Livermore Unstructured Lagrangian Explicit Shock Hydrodynamics)](https://asc.llnl.gov/codes/proxy-apps/lulesh), a performance report data generated by Caliper. LULESH is a highly simplified application designed to solve the Sedov Blast problem, which is a standard hydrodynamics test problem. It performs a hydrodynamics stencil calculation using both MPI and OpenMP to achieve parallelism. \n",
       "\n",
       "This is an interesting profile because it covers a relatively large number of nodes (45 nodes) and spends considerable time in MPI communication routines.\n"
      ],
      "text/plain": [
       "<IPython.core.display.Markdown object>"
      ]
     },
     "metadata": {},
     "output_type": "display_data"
    }
   ],
   "source": [
    "# display dataset information \n",
    "display(Markdown(\"../common/documentation/dataset-information-with-regex.md\"))"
   ]
  },
  {
   "cell_type": "code",
   "execution_count": null,
   "id": "f702424d-705c-4bc0-8b95-3dc3eed949fd",
   "metadata": {},
   "outputs": [],
   "source": [
    "import hatchet as ht\n",
    "import re\n",
    "gf = ht.GraphFrame.from_caliper(\"../../data/lulesh-16nodes/lulesh-annotation-profile-512cores.json\")"
   ]
  },
  {
   "cell_type": "code",
   "execution_count": 5,
   "id": "7ff55310-457a-4d30-b56e-c74cdc35fa20",
   "metadata": {
    "jupyter": {
     "source_hidden": true
    },
    "tags": [
     "hide-input"
    ]
   },
   "outputs": [
    {
     "data": {
      "text/markdown": [
       "### Displaying a Hatchet GraphFrame\n",
       "A compact overview of a hatchet GraphFrame can be obtained using the `gf.tree()` function. We use this throughout the notebook to display the differences between an original GraphFrame and the resulting GraphFrame after applying a query."
      ],
      "text/plain": [
       "<IPython.core.display.Markdown object>"
      ]
     },
     "metadata": {},
     "output_type": "display_data"
    }
   ],
   "source": [
    "# display GraphFrame information \n",
    "display(Markdown(\"../common/documentation/graph-tree-information.md\"))"
   ]
  },
  {
   "cell_type": "code",
   "execution_count": null,
   "id": "db3cc915-387d-48d8-99b5-1b171e4744ae",
   "metadata": {},
   "outputs": [],
   "source": [
    "print(gf.tree())"
   ]
  },
  {
   "cell_type": "code",
   "execution_count": 7,
   "id": "892e3706-1355-405e-b10e-29cd28e3e17f",
   "metadata": {
    "jupyter": {
     "source_hidden": true
    },
    "tags": [
     "hide-input"
    ]
   },
   "outputs": [
    {
     "data": {
      "text/markdown": [
       "### Displaying a DataFrame\n",
       "An additional detail perspective can be obtained by viewing the underlying data using a **DataFrame**. A Hatchet **DataFrame** holds all the numerical and categorical data associated with each node. "
      ],
      "text/plain": [
       "<IPython.core.display.Markdown object>"
      ]
     },
     "metadata": {},
     "output_type": "display_data"
    }
   ],
   "source": [
    "# display DataFrame information \n",
    "display(Markdown(\"../common/documentation/dataframe-information.md\"))"
   ]
  },
  {
   "cell_type": "code",
   "execution_count": null,
   "id": "5533c52c-a9fc-4892-8a1c-c1cc3d49e8eb",
   "metadata": {
    "tags": []
   },
   "outputs": [],
   "source": [
    "gf.dataframe"
   ]
  },
  {
   "cell_type": "code",
   "execution_count": 9,
   "id": "07ec6305-f3ff-4744-b8ed-f9e142c27353",
   "metadata": {
    "jupyter": {
     "source_hidden": true
    },
    "tags": [
     "hide-input"
    ]
   },
   "outputs": [
    {
     "data": {
      "text/markdown": [
       "### Dropping index levels\n",
       "\n",
       "As a precursor to defining queries, we drop the index level of the GraphFrame using the `drop_index_levels()` Hatchet function. Hatchet hierarchical indexing can be of two types, depending on whether there is a single metric per node or multiple set of metrics per node.  \n",
       "\n",
       "If a node contains a single metric, the DataFrame will use an `Index` object containing the node column. If a node has an additional level of information, Hatchet creates a `MultiIndex` to store the information pertaining to multiple sets of metrics per node. `MultiIndex` stores the node column as the \"top\" level of the index, followed by additional information on the levels below. \n",
       "\n",
       "Based on the types of indexing (`Index or MultiIndex`), retrieving data from a DataFrame corresponding to a particular node either retrieves a single or multiple rows. This difference can cause issues when applying query node predicates.\n",
       "Therefore, it is necessary to get rid of all index levels besides the node column through an aggregation operation on the GraphFrame. Then, a query node predicate can be applied to the GraphFrame. "
      ],
      "text/plain": [
       "<IPython.core.display.Markdown object>"
      ]
     },
     "metadata": {},
     "output_type": "display_data"
    }
   ],
   "source": [
    "# why use drop index levels\n",
    "display(Markdown(\"../common/documentation/drop-index-information.md\"))"
   ]
  },
  {
   "cell_type": "code",
   "execution_count": null,
   "id": "34e8af5c-6c66-4396-bc14-ef24f7b7d3d4",
   "metadata": {},
   "outputs": [],
   "source": [
    "gf.drop_index_levels()"
   ]
  },
  {
   "cell_type": "code",
   "execution_count": 11,
   "id": "4b4eb0d0-b22a-47b5-b3bc-cea48e37292b",
   "metadata": {
    "jupyter": {
     "source_hidden": true
    },
    "tags": [
     "hide-input"
    ]
   },
   "outputs": [
    {
     "data": {
      "text/markdown": [
       "### Query type 1: Check if string metric starts with substring in query node predicates\n",
       "\n",
       "\n",
       "This type of query provides an understanding of function calls that `start with` a certain substring provided by the user. The String-based Dialect and the base Query Language facilitate this query type with a `'STARTS WITH'` keyword and `startswith` function, respectively.  \n",
       "\n",
       "For comparison, the following query checks for all single nodes with the name metric that `starts with Lagrange` using regex:"
      ],
      "text/plain": [
       "<IPython.core.display.Markdown object>"
      ]
     },
     "metadata": {},
     "output_type": "display_data"
    }
   ],
   "source": [
    "# display query type 1 documentation\n",
    "display(Markdown(\"../common/documentation/string-containment-01-01.md\"))"
   ]
  },
  {
   "cell_type": "code",
   "execution_count": null,
   "id": "8be776e5-0db0-4574-a98b-4efbf659f252",
   "metadata": {},
   "outputs": [],
   "source": [
    "query_1 = ht.QueryMatcher().match (\".\", lambda row: re.match(\"Lagrange.*\", row[\"name\"]))"
   ]
  },
  {
   "cell_type": "code",
   "execution_count": 13,
   "id": "f1175937-e6ce-410a-9c06-77a09b62dbaa",
   "metadata": {
    "jupyter": {
     "source_hidden": true
    },
    "tags": [
     "hide-input"
    ]
   },
   "outputs": [
    {
     "data": {
      "text/markdown": [
       "The query defined below also checks for all single nodes with the name metric that `starts with Lagrange`:"
      ],
      "text/plain": [
       "<IPython.core.display.Markdown object>"
      ]
     },
     "metadata": {},
     "output_type": "display_data"
    }
   ],
   "source": [
    "# display query type 1 documentation\n",
    "display(Markdown(\"../common/documentation/string-containment-01-02.md\"))"
   ]
  },
  {
   "cell_type": "code",
   "execution_count": null,
   "id": "83c28c99-c418-442f-bbe6-8ec3a577a817",
   "metadata": {},
   "outputs": [],
   "source": [
    "query_1 = ht.QueryMatcher().match(\".\", lambda row: row[\"name\"].startswith(\"Lagrange\")) "
   ]
  },
  {
   "cell_type": "markdown",
   "id": "2dd5a297-0e89-4740-80a3-da158a3c1501",
   "metadata": {},
   "source": [
    "The above query is passed to Hatchet’s `filter()` function to filter the input GraphFrame. The `filter()` function takes a user-supplied function or query object and applies that to all rows in the DataFrame. The resulting Series or DataFrame is used to filter the DataFrame to only return rows that are true."
   ]
  },
  {
   "cell_type": "code",
   "execution_count": null,
   "id": "878ec2a0",
   "metadata": {},
   "outputs": [],
   "source": [
    "gf_filt = gf.filter(query_1)"
   ]
  },
  {
   "cell_type": "markdown",
   "id": "fc6b1ed1-7888-4165-9203-a6c3dc1aeff2",
   "metadata": {},
   "source": [
    "The resulting GraphFrame now only lists the  nodes that matched the query:"
   ]
  },
  {
   "cell_type": "code",
   "execution_count": null,
   "id": "ed507339",
   "metadata": {},
   "outputs": [],
   "source": [
    "print(gf_filt.tree())"
   ]
  },
  {
   "cell_type": "markdown",
   "id": "b577e043-76c3-4ff4-bf26-9187ed74e257",
   "metadata": {},
   "source": [
    "The query match is also reflected in the DataFrame:"
   ]
  },
  {
   "cell_type": "code",
   "execution_count": null,
   "id": "b327f23e-4365-4e5a-9681-f2de50cae0ca",
   "metadata": {},
   "outputs": [],
   "source": [
    "gf_filt.dataframe"
   ]
  },
  {
   "cell_type": "code",
   "execution_count": 18,
   "id": "40a21247-89b2-44f1-96de-196eac9bfb37",
   "metadata": {
    "jupyter": {
     "source_hidden": true
    },
    "tags": [
     "hide-input"
    ]
   },
   "outputs": [
    {
     "data": {
      "text/markdown": [
       "### Query type 2: Check if string metric ends with substring in query node predicates\n",
       "\n",
       "\n",
       "This type of query provides an understanding of function calls that `end with` a certain substring provided by the user. The String-based Dialect and the base Query Language facilitate this query type with a `'ENDS WITH'` keyword and `endswith` function, respectively. This notebook contains two examples for this query use case. The purpose of the second example is to illustrate a relatively complex example of a query that is comparable to the notebook example on string regex matching.\n",
       "\n",
       "**Example 1:**\n",
       "\n",
       "For the first example, the following query checks for all single nodes with the name metric that `ends with Elems`:"
      ],
      "text/plain": [
       "<IPython.core.display.Markdown object>"
      ]
     },
     "metadata": {},
     "output_type": "display_data"
    }
   ],
   "source": [
    "# display query type 1 documentation\n",
    "display(Markdown(\"../common/documentation/string-containment-02-01.md\"))"
   ]
  },
  {
   "cell_type": "code",
   "execution_count": null,
   "id": "3ffcb04b-ed33-4280-9969-fbfb4843406b",
   "metadata": {},
   "outputs": [],
   "source": [
    "query_2_1 = ht.QueryMatcher().match(\".\", lambda row: row[\"name\"].endswith(\"Elems\")) "
   ]
  },
  {
   "cell_type": "markdown",
   "id": "11e17cdb-01e1-44f6-ba30-46f221f06a20",
   "metadata": {},
   "source": [
    "Just as before, the above query is passed to Hatchet’s `filter()` function to filter the input GraphFrame."
   ]
  },
  {
   "cell_type": "code",
   "execution_count": null,
   "id": "bd7bb94f-f0a9-46cf-b47e-27c82e737146",
   "metadata": {},
   "outputs": [],
   "source": [
    "gf_filt = gf.filter(query_2_1)"
   ]
  },
  {
   "cell_type": "markdown",
   "id": "10ca3bf7-1061-4aae-be22-65fc9aa8bdc2",
   "metadata": {},
   "source": [
    "The resulting graph frame now only lists the  node/s that matched the query:"
   ]
  },
  {
   "cell_type": "code",
   "execution_count": null,
   "id": "a6324f0d-4be5-4519-9c79-189caa8222d8",
   "metadata": {},
   "outputs": [],
   "source": [
    "print(gf_filt.tree())"
   ]
  },
  {
   "cell_type": "markdown",
   "id": "d3de98b3-7e1d-4396-8b54-cffb1dc14ceb",
   "metadata": {},
   "source": [
    "The query match is also reflected in the dataframe:"
   ]
  },
  {
   "cell_type": "code",
   "execution_count": null,
   "id": "672c811a-0963-417b-b445-8ae10d70df86",
   "metadata": {},
   "outputs": [],
   "source": [
    "gf_filt.dataframe"
   ]
  },
  {
   "cell_type": "code",
   "execution_count": 23,
   "id": "808afe3f-1568-4459-8ddd-e6b35e39d3e6",
   "metadata": {
    "jupyter": {
     "source_hidden": true
    },
    "tags": [
     "hide-input"
    ]
   },
   "outputs": [
    {
     "data": {
      "text/markdown": [
       "**Example 2:**\n",
       "\n",
       "In some cases, one is aware that the functions to search for `starts with` and `ends with` a certain string value. This example provides a scenario where the user knows to search functions that `end with Elems`, then further restrict the query to only include functions that `start with Apply or Calc`.\n",
       "\n",
       "The following query matches all single nodes where the name metric `starts with Apply or Calc` and `ends with Elems`."
      ],
      "text/plain": [
       "<IPython.core.display.Markdown object>"
      ]
     },
     "metadata": {},
     "output_type": "display_data"
    }
   ],
   "source": [
    "# display query type 2 documentation\n",
    "display(Markdown(\"../common/documentation/string-containment-02-02.md\"))"
   ]
  },
  {
   "cell_type": "code",
   "execution_count": null,
   "id": "8137d78e-96ef-491f-ae55-52cd2c1d6458",
   "metadata": {},
   "outputs": [],
   "source": [
    "query_2_2 = ht.QueryMatcher().match(\".\", lambda row: (row[\"name\"].endswith(\"Elems\")) and (row[\"name\"].startswith(\"Apply\") or row[\"name\"].startswith(\"Calc\"))) "
   ]
  },
  {
   "cell_type": "markdown",
   "id": "b465eca4-04b3-4d15-b6b4-2217ab0e21fe",
   "metadata": {},
   "source": [
    "Just as before, the above query is passed to Hatchet’s `filter()` function to filter the input graph frame."
   ]
  },
  {
   "cell_type": "code",
   "execution_count": null,
   "id": "2d545d81-2861-434e-bb49-189b39fe719a",
   "metadata": {},
   "outputs": [],
   "source": [
    "gf_filt = gf.filter(query_2_2)"
   ]
  },
  {
   "cell_type": "markdown",
   "id": "7dae0e55-8e2e-4429-b472-6d42153b3283",
   "metadata": {},
   "source": [
    "The resulting graph frame now only lists the  nodes that matched the query:"
   ]
  },
  {
   "cell_type": "code",
   "execution_count": null,
   "id": "ad581761-a4bf-4343-bfcd-a33b8296333b",
   "metadata": {},
   "outputs": [],
   "source": [
    "print(gf_filt.tree())"
   ]
  },
  {
   "cell_type": "markdown",
   "id": "03de84ad-dcf3-4ba2-8a2a-7b41a7df1fb1",
   "metadata": {},
   "source": [
    "The query match is also reflected in the dataframe:"
   ]
  },
  {
   "cell_type": "code",
   "execution_count": null,
   "id": "1590c06e-73aa-4fe0-97fa-4e0b25b3b0c3",
   "metadata": {},
   "outputs": [],
   "source": [
    "gf_filt.dataframe"
   ]
  },
  {
   "cell_type": "code",
   "execution_count": 28,
   "id": "d7e1bdd5-6032-4a82-8a67-f1b4c409334e",
   "metadata": {
    "jupyter": {
     "source_hidden": true
    },
    "tags": [
     "hide-input"
    ]
   },
   "outputs": [
    {
     "data": {
      "text/markdown": [
       "### Query type 3: Check if string metric contains substring in query node predicates\n",
       "\n",
       "\n",
       "This type of query provides an understanding of function calls that `contain` a certain substring provided by the user. The String-based Dialect and the base Query Language facilitate this query type with the `'CONTAINS'` and `'in'` keywords, respectively.  \n",
       "\n",
       "The following query checks for all single nodes with the name metric that `contains Volume`:"
      ],
      "text/plain": [
       "<IPython.core.display.Markdown object>"
      ]
     },
     "metadata": {},
     "output_type": "display_data"
    }
   ],
   "source": [
    "# display query type 1 documentation\n",
    "display(Markdown(\"../common/documentation/string-containment-03.md\"))"
   ]
  },
  {
   "cell_type": "code",
   "execution_count": null,
   "id": "252831b1-ec5b-47d9-8870-67339841bbde",
   "metadata": {
    "tags": []
   },
   "outputs": [],
   "source": [
    "query_3 = ht.QueryMatcher().match(\".\", lambda row: \"Volume\" in row[\"name\"]) "
   ]
  },
  {
   "cell_type": "markdown",
   "id": "8c52a5aa-9a93-425e-8c43-581c6eae5203",
   "metadata": {},
   "source": [
    "Just as before, the above query is passed to Hatchet’s `filter()` function to filter the input GraphFrame."
   ]
  },
  {
   "cell_type": "code",
   "execution_count": null,
   "id": "36ea0da4-a9fc-4fad-a184-1944fdc86265",
   "metadata": {},
   "outputs": [],
   "source": [
    "gf_filt = gf.filter(query_3)"
   ]
  },
  {
   "cell_type": "markdown",
   "id": "2480be3c-839c-4c9e-b4d4-29a935b8cffb",
   "metadata": {},
   "source": [
    "The resulting graph frame now only lists the  node/s that matched the query:"
   ]
  },
  {
   "cell_type": "code",
   "execution_count": null,
   "id": "c4870d56-19b4-4103-9dd6-f7d388ea8450",
   "metadata": {},
   "outputs": [],
   "source": [
    "print(gf_filt.tree())"
   ]
  },
  {
   "cell_type": "markdown",
   "id": "fc83cc99-68d8-418b-9ad1-25371c1bae8a",
   "metadata": {},
   "source": [
    "The query match is also reflected in the dataframe:"
   ]
  },
  {
   "cell_type": "code",
   "execution_count": null,
   "id": "15995bed-aec5-433b-998c-d5a3048bdbf0",
   "metadata": {},
   "outputs": [],
   "source": [
    "gf_filt.dataframe"
   ]
  }
 ],
 "metadata": {
  "kernelspec": {
   "display_name": "Python 3 (ipykernel)",
   "language": "python",
   "name": "python3"
  },
  "language_info": {
   "codemirror_mode": {
    "name": "ipython",
    "version": 3
   },
   "file_extension": ".py",
   "mimetype": "text/x-python",
   "name": "python",
   "nbconvert_exporter": "python",
   "pygments_lexer": "ipython3",
   "version": "3.9.12"
  }
 },
 "nbformat": 4,
 "nbformat_minor": 5
}
