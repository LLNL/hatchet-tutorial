{
 "cells": [
  {
   "cell_type": "markdown",
   "id": "b0f5e933",
   "metadata": {},
   "source": [
    "# Hatchet Query Language\n",
    "\n",
    "This notebook explores [Hatchet](https://github.com/LLNL/hatchet) queries from its [**Object-based Dialect**](https://hatchet.readthedocs.io/en/latest/query_lang.html), specifically **Category 2: String Equivalence and Regex Matching**. The notebook covers different query types that are capable of finding string metrics that satisfy a pattern match from [GraphFrame](https://hatchet.readthedocs.io/en/latest/user_guide.html) objects."
   ]
  },
  {
   "cell_type": "code",
   "execution_count": 1,
   "id": "28eaf795-d79c-4c4e-a40d-2ebd1b1ac7ff",
   "metadata": {
    "jupyter": {
     "source_hidden": true
    },
    "tags": [
     "hide-input"
    ]
   },
   "outputs": [
    {
     "data": {
      "text/markdown": [
       "Hatchet supports eight different categories for the query language, as shown in Fig. 1.  \n",
       "\n",
       "|Category ID|Category Description|\n",
       "|:---------:|:-------------------|\n",
       "|1          |Quantifier Capabilities|\n",
       "|2          |String Equivalence and Regex Matching Predicates|\n",
       "|3          |String Containment Predicates (contains, starts with, ends with)|\n",
       "|4          |Basic Numeric Comparison Predicates (==, >, >=, etc.)|\n",
       "|5          |Special Value Identification Predicates (NaN, Inf, None)|\n",
       "|6          |Predicate Combination through Conjunction (AND)|\n",
       "|7          |Predicate Combination through Disjunction and Complement (OR, NOT)|\n",
       "|8          |Predicate Combination through Other Operations (e.g., XOR)|\n",
       "\n",
       "**Figure 1**: A table of the Hatchet Query Language capabilities, distinguished into categories and their corresponding category ID.\n",
       "\n",
       "Hatchet offers multiple interfaces to define queries with different trade-offs to verbosity and expressiveness. An entire catalog of queries, use cases, categories and capabilities can be found [here](https://docs.google.com/spreadsheets/d/1fKNlHmDJdDbnE4jyMcaFqdnw6ZSaexgm33rOcVAj0do/edit#gid=0).\n",
       "\n",
       "Hatchet query language consumes a GraphFrame and a sequence of queries. Each query can comprise a **predicate** and a **quantifier**. Hatchet query language finds all **matching paths** from a provided GraphFrame. For example, in Fig.2, for the query (any with A or B), the output would comprise of 2 paths, [1, 2, 4] and [1, 3, 4].\n",
       "\n",
       "![Graph frames and queries](../common/images/hatchet_query_graphframe.PNG)\n",
       "\n",
       "**Figure 2**: A diagram to provide an overview of queries and an example of how queries filter GraphFrames.\n",
       "\n",
       "***\n",
       "\n",
       "\n"
      ],
      "text/plain": [
       "<IPython.core.display.Markdown object>"
      ]
     },
     "metadata": {},
     "output_type": "display_data"
    }
   ],
   "source": [
    "# display documentation for Hatchet GraphFrame\n",
    "from IPython.display import Markdown, display\n",
    "display(Markdown(\"../common/documentation/hatchet-query-language.md\"))"
   ]
  },
  {
   "cell_type": "code",
   "execution_count": 3,
   "id": "b2b4921f-d444-4241-b2bf-0e418d21c554",
   "metadata": {
    "jupyter": {
     "source_hidden": true
    },
    "tags": [
     "hide-inputs"
    ]
   },
   "outputs": [
    {
     "data": {
      "text/markdown": [
       "The **Object-based Dialect** is a formal language that is built around Python’s built-in objects. Queries are composed using Python’s list, tuple, and dict built-in data structures within **Object-based Dialect** of Hatchet query language. \n",
       "\n",
       "## Category 2: String Equivalence and Regex Matching\n",
       "\n",
       "Category 2 expands on query conditions by exploring string equivalence and regex matching. The Object-based Dialect of the Hatchet Query Language allows us to:\n",
       "\n",
       "1. Check for string metric equivalence in query node predicates\n",
       "2. Check for regex match on string metric in query node predicates\n"
      ],
      "text/plain": [
       "<IPython.core.display.Markdown object>"
      ]
     },
     "metadata": {},
     "output_type": "display_data"
    }
   ],
   "source": [
    "# display documentation for object-based dialect\n",
    "display(Markdown(\"../common/documentation/object-based-dialect-02.md\"))"
   ]
  },
  {
   "cell_type": "code",
   "execution_count": 10,
   "id": "5fe8e4f3-962e-48d6-b2e6-387d76826c8d",
   "metadata": {
    "jupyter": {
     "source_hidden": true
    },
    "tags": [
     "hide-inputs"
    ]
   },
   "outputs": [
    {
     "data": {
      "text/markdown": [
       "### Loading profile data as Hatchet GraphFrame\n",
       "\n",
       "Hatchet queries are only defined on Hatchet GraphFrames. \n",
       "Obtaining a hatchet GraphFrame is straight forward:\n",
       "\n",
       "1. Import hatchet\n",
       "2. Use the appropriate reader for the profile/trace at hand\n",
       "\n",
       "We first load a [Caliper](https://github.com/LLNL/Caliper) profile in JSON format, where Caliper is a performance profiling library developed by the Lawrence Livermore National Lab (LLNL).\n",
       "\n",
       "This example profile is profiled from [LULESH (Livermore Unstructured Lagrangian Explicit Shock Hydrodynamics)](https://asc.llnl.gov/codes/proxy-apps/lulesh), a performance report data generated by Caliper. LULESH is a highly simplified application designed to solve the Sedov Blast problem, which is a standard hydrodynamics test problem. It performs a hydrodynamics stencil calculation using both MPI and OpenMP to achieve parallelism. \n",
       "\n",
       "This is an interesting profile because it covers a relatively large number of nodes (45 nodes) and spends considerable time in MPI communication routines.\n"
      ],
      "text/plain": [
       "<IPython.core.display.Markdown object>"
      ]
     },
     "metadata": {},
     "output_type": "display_data"
    }
   ],
   "source": [
    "# display dataset information \n",
    "display(Markdown(\"../common/documentation/dataset-information.md\"))"
   ]
  },
  {
   "cell_type": "code",
   "execution_count": null,
   "id": "860a78ab-c400-49e3-9629-dd6a83899f62",
   "metadata": {},
   "outputs": [],
   "source": [
    "import hatchet as ht\n",
    "gf = ht.GraphFrame.from_caliper(\"../../data/lulesh-16nodes/lulesh-annotation-profile-512cores.json\")"
   ]
  },
  {
   "cell_type": "code",
   "execution_count": 11,
   "id": "648a93d1-d5be-4677-ad73-54239641a6e3",
   "metadata": {
    "jupyter": {
     "source_hidden": true
    },
    "tags": [
     "hide-inputs"
    ]
   },
   "outputs": [
    {
     "data": {
      "text/markdown": [
       "### Displaying a Hatchet GraphFrame\n",
       "A compact overview of a hatchet GraphFrame can be obtained using the `gf.tree()` function. We use this throughout the notebook to display the differences between an original GraphFrame and the resulting GraphFrame after applying a query."
      ],
      "text/plain": [
       "<IPython.core.display.Markdown object>"
      ]
     },
     "metadata": {},
     "output_type": "display_data"
    }
   ],
   "source": [
    "# display GraphFrame information \n",
    "display(Markdown(\"../common/documentation/graph-tree-information.md\"))"
   ]
  },
  {
   "cell_type": "code",
   "execution_count": null,
   "id": "4d29e959",
   "metadata": {},
   "outputs": [],
   "source": [
    "print(gf.tree())"
   ]
  },
  {
   "cell_type": "code",
   "execution_count": 12,
   "id": "db01ec78-db94-4560-9c05-4c2837708d8c",
   "metadata": {
    "jupyter": {
     "source_hidden": true
    },
    "tags": [
     "hide-inputs"
    ]
   },
   "outputs": [
    {
     "data": {
      "text/markdown": [
       "### Displaying a DataFrame\n",
       "An additional detail perspective can be obtained by viewing the underlying data using a **DataFrame**. A Hatchet **DataFrame** holds all the numerical and categorical data associated with each node. "
      ],
      "text/plain": [
       "<IPython.core.display.Markdown object>"
      ]
     },
     "metadata": {},
     "output_type": "display_data"
    }
   ],
   "source": [
    "# display DataFrame information \n",
    "display(Markdown(\"../common/documentation/dataframe-information.md\"))"
   ]
  },
  {
   "cell_type": "code",
   "execution_count": null,
   "id": "3bc1a4c7",
   "metadata": {},
   "outputs": [],
   "source": [
    "gf.dataframe"
   ]
  },
  {
   "cell_type": "code",
   "execution_count": 13,
   "id": "bdfe3e86-18c5-46ba-b354-842d7ea0b521",
   "metadata": {
    "jupyter": {
     "source_hidden": true
    },
    "tags": [
     "hide-inputs"
    ]
   },
   "outputs": [
    {
     "data": {
      "text/markdown": [
       "### Dropping index levels\n",
       "\n",
       "As a precursor to defining queries, we drop the index level of the GraphFrame using the `drop_index_levels()` Hatchet function. Hatchet hierarchical indexing can be of two types, depending on whether there is a single metric per node or multiple set of metrics per node.  \n",
       "\n",
       "If a node contains a single metric, the DataFrame will use an `Index` object containing the node column. If a node has an additional level of information, Hatchet creates a `MultiIndex` to store the information pertaining to multiple sets of metrics per node. `MultiIndex` stores the node column as the \"top\" level of the index, followed by additional information on the levels below. \n",
       "\n",
       "Based on the types of indexing (`Index or MultiIndex`), retrieving data from a DataFrame corresponding to a particular node either retrieves a single or multiple rows. This difference can cause issues when applying query node predicates.\n",
       "Therefore, it is necessary to get rid of all index levels besides the node column through an aggregation operation on the GraphFrame. Then, a query node predicate can be applied to the GraphFrame. "
      ],
      "text/plain": [
       "<IPython.core.display.Markdown object>"
      ]
     },
     "metadata": {},
     "output_type": "display_data"
    }
   ],
   "source": [
    "# why use drop index levels\n",
    "display(Markdown(\"../common/documentation/drop-index-information.md\"))"
   ]
  },
  {
   "cell_type": "code",
   "execution_count": null,
   "id": "f216dbef",
   "metadata": {},
   "outputs": [],
   "source": [
    "gf.drop_index_levels()"
   ]
  },
  {
   "cell_type": "code",
   "execution_count": 2,
   "id": "b251b41a-52c4-47d2-9af9-3be4d83ba4ae",
   "metadata": {
    "jupyter": {
     "source_hidden": true
    },
    "tags": [
     "hide-inputs"
    ]
   },
   "outputs": [
    {
     "data": {
      "text/markdown": [
       "### Use Case 1: Check for string metric equivalence in query node conditions\n",
       "\n",
       "\n",
       "This query type covers cases when comparing string equivalence to filter a graph tree is helpful. Object-based Dialect is used to find query nodes that are equivalent to a provided string metric. The following query matches all single nodes where the metric used for the query predicate is `name` and the equivalent string to find is `MPI_Finalize`. \n",
       "\n",
       "Note: The query condition to find string metric equivalence can be written as `{\"metric_name\": \"string_to_check\"}`.\n"
      ],
      "text/plain": [
       "<IPython.core.display.Markdown object>"
      ]
     },
     "metadata": {},
     "output_type": "display_data"
    }
   ],
   "source": [
    "# display query type 1 documentation\n",
    "display(Markdown(\"../common/documentation/string-equivalence-regex-matching-01.md\"))"
   ]
  },
  {
   "cell_type": "code",
   "execution_count": null,
   "id": "a1adf78c",
   "metadata": {},
   "outputs": [],
   "source": [
    "# find all nodes where the name metric is equivalent to MPI_Finalize\n",
    "query_1 = [\n",
    "    (\".\", {\"name\": \"MPI_Finalize\"}),\n",
    "]"
   ]
  },
  {
   "cell_type": "markdown",
   "id": "f5a5784e",
   "metadata": {},
   "source": [
    "The above query is passed to Hatchet’s `filter()` function to filter the input graph frame. The `filter()` function takes a user-supplied function or query object and applies that to all rows in the DataFrame. The resulting Series or DataFrame is used to filter the DataFrame to only return rows that are true."
   ]
  },
  {
   "cell_type": "code",
   "execution_count": null,
   "id": "878ec2a0",
   "metadata": {},
   "outputs": [],
   "source": [
    "gf_filt = gf.filter(query_1)"
   ]
  },
  {
   "cell_type": "markdown",
   "id": "8b6068c3",
   "metadata": {},
   "source": [
    "The resulting graph frame now only lists the  nodes that matched the query:"
   ]
  },
  {
   "cell_type": "code",
   "execution_count": null,
   "id": "ed507339",
   "metadata": {},
   "outputs": [],
   "source": [
    "print(gf_filt.tree())"
   ]
  },
  {
   "cell_type": "markdown",
   "id": "98849fb9",
   "metadata": {},
   "source": [
    "The query match is also reflected in the dataframe:"
   ]
  },
  {
   "cell_type": "code",
   "execution_count": null,
   "id": "082afe16",
   "metadata": {},
   "outputs": [],
   "source": [
    "gf_filt.dataframe"
   ]
  },
  {
   "cell_type": "code",
   "execution_count": 3,
   "id": "a36d95f9",
   "metadata": {
    "jupyter": {
     "source_hidden": true
    },
    "tags": [
     "hide-inputs"
    ]
   },
   "outputs": [
    {
     "data": {
      "text/markdown": [
       "### Use Case 2: Check for regex match on string metric in query node predicates\n",
       "\n",
       "This query type covers cases when matching a string using regex can provide an understanding of function calls with a certain string metric pattern. Object-based Dialect is used to find query nodes that match a provided regex expression. \n",
       "\n",
       "The notebook contains two examples for this query type. The purpose of the second example is to illustrate a relatively complex example, when compared to the first example of regex that is used to match a pattern on the `name` metric.\n",
       "\n",
       "**Example 1:**\n",
       "\n",
       "The following query matches all single nodes where the metric `name` matches the regex expression `MPI_.*`. The expression translates to matching nodes with the `name` metric starting with `MPI_`.\n"
      ],
      "text/plain": [
       "<IPython.core.display.Markdown object>"
      ]
     },
     "metadata": {},
     "output_type": "display_data"
    }
   ],
   "source": [
    "# display query type 2 documentation\n",
    "display(Markdown(\"../common/documentation/string-equivalence-regex-matching-02-01.md\"))"
   ]
  },
  {
   "cell_type": "code",
   "execution_count": null,
   "id": "d6003b64",
   "metadata": {},
   "outputs": [],
   "source": [
    "# find all single nodes where the name metric starts with MPI_\n",
    "query_2_1 = [\n",
    "    (\".\", {\"name\": \"MPI_.*\"}),\n",
    "]"
   ]
  },
  {
   "cell_type": "markdown",
   "id": "0050ee57",
   "metadata": {},
   "source": [
    "Just as before, the above query is passed to Hatchet’s `filter()` function to filter the input graph frame."
   ]
  },
  {
   "cell_type": "code",
   "execution_count": null,
   "id": "ba6fef83",
   "metadata": {},
   "outputs": [],
   "source": [
    "gf_filt = gf.filter(query_2_1)"
   ]
  },
  {
   "cell_type": "markdown",
   "id": "2e0dda03",
   "metadata": {},
   "source": [
    "The resulting graph frame now only lists the  nodes that matched the query:"
   ]
  },
  {
   "cell_type": "code",
   "execution_count": null,
   "id": "72815615",
   "metadata": {},
   "outputs": [],
   "source": [
    "print(gf_filt.tree())"
   ]
  },
  {
   "cell_type": "markdown",
   "id": "4c4041d9",
   "metadata": {},
   "source": [
    "The query match is also reflected in the dataframe:"
   ]
  },
  {
   "cell_type": "code",
   "execution_count": null,
   "id": "1377e388",
   "metadata": {},
   "outputs": [],
   "source": [
    "gf_filt.dataframe"
   ]
  },
  {
   "cell_type": "code",
   "execution_count": 16,
   "id": "288ecac4-b977-46c9-9bdb-41fc8a6f9a26",
   "metadata": {
    "jupyter": {
     "source_hidden": true
    },
    "tags": [
     "hide-inputs"
    ]
   },
   "outputs": [
    {
     "data": {
      "text/markdown": [
       "**Example 2:**\n",
       "\n",
       "In some cases, one is aware that the functions to search for `starts with` and `ends with` a certain string value. This example provides a scenario where the user knows to search functions that `end with Elems`, then further restrict the query to only include functions that `start with Apply or Calc`.\n",
       "\n",
       "The following query matches all single nodes where the metric `name` matches the regex expression `(Apply|Calc).*Elems$`. The expression translates to matching nodes with the `name` that starts with either `Apply or Calc` and ends with `Elems`."
      ],
      "text/plain": [
       "<IPython.core.display.Markdown object>"
      ]
     },
     "metadata": {},
     "output_type": "display_data"
    }
   ],
   "source": [
    "# display query type 2 documentation\n",
    "display(Markdown(\"../common/documentation/string-equivalence-regex-matching-02-02.md\"))"
   ]
  },
  {
   "cell_type": "code",
   "execution_count": null,
   "id": "55592018",
   "metadata": {},
   "outputs": [],
   "source": [
    "# find all single nodes where the name metric starts with either Apply or Calc and ends with Elems\n",
    "query_2_2 = [\n",
    "    (\".\", {\"name\": \"(Apply|Calc).*Elems$\"}),\n",
    "]"
   ]
  },
  {
   "cell_type": "markdown",
   "id": "30e375f0",
   "metadata": {},
   "source": [
    "Just as before, the above query is passed to Hatchet’s `filter()` function to filter the input graph frame."
   ]
  },
  {
   "cell_type": "code",
   "execution_count": null,
   "id": "57186ef9",
   "metadata": {},
   "outputs": [],
   "source": [
    "gf_filt = gf.filter(query_2_2)"
   ]
  },
  {
   "cell_type": "markdown",
   "id": "a3a8198d",
   "metadata": {},
   "source": [
    "The resulting graph frame now only lists the  nodes that matched the query:"
   ]
  },
  {
   "cell_type": "code",
   "execution_count": null,
   "id": "0ce5f307",
   "metadata": {},
   "outputs": [],
   "source": [
    "print(gf_filt.tree())"
   ]
  },
  {
   "cell_type": "markdown",
   "id": "dfdeae63",
   "metadata": {},
   "source": [
    "The query match is also reflected in the dataframe:"
   ]
  },
  {
   "cell_type": "code",
   "execution_count": null,
   "id": "429ed2e2",
   "metadata": {},
   "outputs": [],
   "source": [
    "gf_filt.dataframe"
   ]
  }
 ],
 "metadata": {
  "kernelspec": {
   "display_name": "Python 3 (ipykernel)",
   "language": "python",
   "name": "python3"
  },
  "language_info": {
   "codemirror_mode": {
    "name": "ipython",
    "version": 3
   },
   "file_extension": ".py",
   "mimetype": "text/x-python",
   "name": "python",
   "nbconvert_exporter": "python",
   "pygments_lexer": "ipython3",
   "version": "3.9.12"
  }
 },
 "nbformat": 4,
 "nbformat_minor": 5
}
