{
 "cells": [
  {
   "cell_type": "markdown",
   "id": "8b22fc6a-b870-4854-9142-0e74a2a0a34b",
   "metadata": {
    "tags": []
   },
   "source": [
    "# Hatchet Query Language\n",
    "\n",
    "This notebook explores [Hatchet](https://github.com/LLNL/hatchet) queries from its [**Object-based Dialect**](https://hatchet.readthedocs.io/en/latest/query_lang.html), specifically **Category 4: Basic Numeric Comparison Predicates**. The notebook covers different query types that are capable of comparing numeric metrics from [GraphFrame](https://hatchet.readthedocs.io/en/latest/user_guide.html) objects with given predicates in the query node."
   ]
  },
  {
   "cell_type": "code",
   "execution_count": 23,
   "id": "ee202981-a1f7-4eb4-9a26-9359e465a843",
   "metadata": {
    "jupyter": {
     "source_hidden": true
    },
    "tags": [
     "hide-input"
    ]
   },
   "outputs": [
    {
     "data": {
      "text/markdown": [
       "Hatchet supports eight different categories for the query language, as shown in Fig. 1.  \n",
       "\n",
       "|Category ID|Category Description|\n",
       "|:---------:|:-------------------|\n",
       "|1          |Quantifier Capabilities|\n",
       "|2          |String Equivalence and Regex Matching Predicates|\n",
       "|3          |String Containment Predicates (contains, starts with, ends with)|\n",
       "|4          |Basic Numeric Comparison Predicates (==, >, >=, etc.)|\n",
       "|5          |Special Value Identification Predicates (NaN, Inf, None)|\n",
       "|6          |Predicate Combination through Conjunction (AND)|\n",
       "|7          |Predicate Combination through Disjunction and Complement (OR, NOT)|\n",
       "|8          |Predicate Combination through Other Operations (e.g., XOR)|\n",
       "\n",
       "**Figure 1**: A table of the Hatchet Query Language capabilities, distinguished into categories and their corresponding category ID.\n",
       "\n",
       "Hatchet offers multiple interfaces to define queries with different trade-offs to verbosity and expressiveness. An entire catalog of queries, use cases, categories and capabilities can be found [here](https://docs.google.com/spreadsheets/d/1fKNlHmDJdDbnE4jyMcaFqdnw6ZSaexgm33rOcVAj0do/edit#gid=0).\n",
       "\n",
       "Hatchet query language consumes a GraphFrame and a sequence of queries. Each query can comprise a **predicate** and a **quantifier**. Hatchet query language finds all **matching paths** from a provided GraphFrame. For example, in Fig.2, for the query (any with A or B), the output would comprise of 2 paths, [1, 2, 4] and [1, 3, 4].\n",
       "\n",
       "![Graph frames and queries](../common/images/hatchet_query_graphframe.PNG)\n",
       "\n",
       "**Figure 2**: A diagram to provide an overview of queries and an example of how queries filter GraphFrames.\n",
       "\n",
       "***\n",
       "\n",
       "\n"
      ],
      "text/plain": [
       "<IPython.core.display.Markdown object>"
      ]
     },
     "metadata": {},
     "output_type": "display_data"
    }
   ],
   "source": [
    "# display documentation for Hatchet GraphFrame\n",
    "from IPython.display import Markdown, display\n",
    "display(Markdown(\"../common/documentation/hatchet-query-language.md\"))"
   ]
  },
  {
   "cell_type": "code",
   "execution_count": 24,
   "id": "1f337c2c-9d77-4d5f-8b67-260d426f8e8a",
   "metadata": {
    "jupyter": {
     "source_hidden": true
    },
    "tags": [
     "hide-input"
    ]
   },
   "outputs": [
    {
     "data": {
      "text/markdown": [
       "The **Object-based Dialect** is a formal language that is built around Python’s built-in objects. Queries are composed using Python’s list, tuple, and dict built-in data structures within **Object-based Dialect** of Hatchet query language. \n",
       "\n",
       "## Category 4: Basic Numeric Comparison Predicates (==, >, >=, <, <=)\n",
       "\n",
       "Category 4 expands on query conditions by exploring predicates that compare numerical metrics of performance data. An example of a numerical metric is \"time\". The Object-based Dialect of the Hatchet Query Language allows us to:\n",
       "\n",
       "1. Evaluate numeric metric comparison (e.g., greater than) in query node predicates\n",
       "2. Check for numeric metric equivalence in query node predicates\n"
      ],
      "text/plain": [
       "<IPython.core.display.Markdown object>"
      ]
     },
     "metadata": {},
     "output_type": "display_data"
    }
   ],
   "source": [
    "# display documentation for object-based dialect\n",
    "display(Markdown(\"../common/documentation/object-based-dialect-04.md\"))"
   ]
  },
  {
   "cell_type": "code",
   "execution_count": 25,
   "id": "fd913d29-ae14-4eaf-86f6-e95e84dce774",
   "metadata": {
    "jupyter": {
     "source_hidden": true
    },
    "tags": [
     "hide-input"
    ]
   },
   "outputs": [
    {
     "data": {
      "text/markdown": [
       "### Loading profile data as Hatchet GraphFrame\n",
       "\n",
       "Hatchet queries are only defined on Hatchet GraphFrames. \n",
       "Obtaining a hatchet GraphFrame is straight forward:\n",
       "\n",
       "1. Import hatchet\n",
       "2. Use the appropriate reader for the profile/trace at hand\n",
       "\n",
       "We first load a [Caliper](https://github.com/LLNL/Caliper) profile in JSON format, where Caliper is a performance profiling library developed by the Lawrence Livermore National Lab (LLNL).\n",
       "\n",
       "This example profile is profiled from [LULESH (Livermore Unstructured Lagrangian Explicit Shock Hydrodynamics)](https://asc.llnl.gov/codes/proxy-apps/lulesh), a performance report data generated by Caliper. LULESH is a highly simplified application designed to solve the Sedov Blast problem, which is a standard hydrodynamics test problem. It performs a hydrodynamics stencil calculation using both MPI and OpenMP to achieve parallelism. \n",
       "\n",
       "This is an interesting profile because it covers a relatively large number of nodes (45 nodes) and spends considerable time in MPI communication routines.\n"
      ],
      "text/plain": [
       "<IPython.core.display.Markdown object>"
      ]
     },
     "metadata": {},
     "output_type": "display_data"
    }
   ],
   "source": [
    "# display dataset information \n",
    "display(Markdown(\"../common/documentation/dataset-information.md\"))"
   ]
  },
  {
   "cell_type": "code",
   "execution_count": null,
   "id": "860a78ab-c400-49e3-9629-dd6a83899f62",
   "metadata": {},
   "outputs": [],
   "source": [
    "import hatchet as ht\n",
    "gf = ht.GraphFrame.from_caliper(\"../../data/lulesh-16nodes/lulesh-annotation-profile-512cores.json\")"
   ]
  },
  {
   "cell_type": "code",
   "execution_count": 27,
   "id": "3107d188-c1b9-4d04-a6cc-c0bfa3d34ce5",
   "metadata": {
    "jupyter": {
     "source_hidden": true
    },
    "tags": [
     "hide-input"
    ]
   },
   "outputs": [
    {
     "data": {
      "text/markdown": [
       "### Displaying a Hatchet GraphFrame\n",
       "A compact overview of a hatchet GraphFrame can be obtained using the `gf.tree()` function. We use this throughout the notebook to display the differences between an original GraphFrame and the resulting GraphFrame after applying a query."
      ],
      "text/plain": [
       "<IPython.core.display.Markdown object>"
      ]
     },
     "metadata": {},
     "output_type": "display_data"
    }
   ],
   "source": [
    "# display GraphFrame information \n",
    "display(Markdown(\"../common/documentation/graph-tree-information.md\"))"
   ]
  },
  {
   "cell_type": "code",
   "execution_count": null,
   "id": "ad4b99ff-be0f-4050-8766-71c206fe3d36",
   "metadata": {},
   "outputs": [],
   "source": [
    "print(gf.tree())"
   ]
  },
  {
   "cell_type": "code",
   "execution_count": 28,
   "id": "e062d372-19c6-49d4-b729-c18fcf3986d9",
   "metadata": {
    "jupyter": {
     "source_hidden": true
    },
    "tags": [
     "hide-input"
    ]
   },
   "outputs": [
    {
     "data": {
      "text/markdown": [
       "### Displaying a DataFrame\n",
       "An additional detail perspective can be obtained by viewing the underlying data using a **DataFrame**. A Hatchet **DataFrame** holds all the numerical and categorical data associated with each node. "
      ],
      "text/plain": [
       "<IPython.core.display.Markdown object>"
      ]
     },
     "metadata": {},
     "output_type": "display_data"
    }
   ],
   "source": [
    "# display DataFrame information \n",
    "display(Markdown(\"../common/documentation/dataframe-information.md\"))"
   ]
  },
  {
   "cell_type": "code",
   "execution_count": null,
   "id": "2159ed09-46bf-4578-9d6f-88035bd073d3",
   "metadata": {
    "tags": []
   },
   "outputs": [],
   "source": [
    "gf.dataframe"
   ]
  },
  {
   "cell_type": "code",
   "execution_count": 29,
   "id": "3e8773dc-dcf4-4d41-ae07-a2c07bcb0c4e",
   "metadata": {
    "jupyter": {
     "source_hidden": true
    },
    "tags": [
     "hide-input"
    ]
   },
   "outputs": [
    {
     "data": {
      "text/markdown": [
       "### Dropping index levels\n",
       "\n",
       "As a precursor to defining queries, we drop the index level of the GraphFrame using the `drop_index_levels()` Hatchet function. Hatchet hierarchical indexing can be of two types, depending on whether there is a single metric per node or multiple set of metrics per node.  \n",
       "\n",
       "If a node contains a single metric, the DataFrame will use an `Index` object containing the node column. If a node has an additional level of information, Hatchet creates a `MultiIndex` to store the information pertaining to multiple sets of metrics per node. `MultiIndex` stores the node column as the \"top\" level of the index, followed by additional information on the levels below. \n",
       "\n",
       "Based on the types of indexing (`Index or MultiIndex`), retrieving data from a DataFrame corresponding to a particular node either retrieves a single or multiple rows. This difference can cause issues when applying query node predicates.\n",
       "Therefore, it is necessary to get rid of all index levels besides the node column through an aggregation operation on the GraphFrame. Then, a query node predicate can be applied to the GraphFrame. "
      ],
      "text/plain": [
       "<IPython.core.display.Markdown object>"
      ]
     },
     "metadata": {},
     "output_type": "display_data"
    }
   ],
   "source": [
    "# why use drop index levels\n",
    "display(Markdown(\"../common/documentation/drop-index-information.md\"))"
   ]
  },
  {
   "cell_type": "code",
   "execution_count": null,
   "id": "f50aec9a-c6a8-420c-8d2d-0ff3d643b92b",
   "metadata": {},
   "outputs": [],
   "source": [
    "gf.drop_index_levels()"
   ]
  },
  {
   "cell_type": "code",
   "execution_count": 30,
   "id": "06ce6daf-b98e-4006-b3d4-d56f7cd959c3",
   "metadata": {
    "jupyter": {
     "source_hidden": true
    },
    "tags": [
     "hide-input"
    ]
   },
   "outputs": [
    {
     "data": {
      "text/markdown": [
       "### Query type 1: Evaluate numeric metric comparison (e.g., greater than) in query node predicates\n",
       "\n",
       "\n",
       "In the simplest case, a user can use this query type to find GraphFrame nodes where the time spent on the nodes is comparable to a numerical value using inequalities (<, >, <=, >=). A practical use case of such type of query is to constrain which nodes to match before conducting a numeric metric comparison. Below, we take a look at an example with a similar use case.\n",
       "\n",
       "The following query first filters all single nodes with the name metric `lulesh.cycle`. Then, the second query node includes all nodes below the lulesh.cycle node in the GraphFrame. The final query node matches single nodes in the GraphFrame where the numeric comparison is satisfied when the `time` metric `is greater than 100000`:"
      ],
      "text/plain": [
       "<IPython.core.display.Markdown object>"
      ]
     },
     "metadata": {},
     "output_type": "display_data"
    }
   ],
   "source": [
    "# display query type 1 documentation\n",
    "display(Markdown(\"../common/documentation/basic-numeric-comparison-01.md\"))"
   ]
  },
  {
   "cell_type": "code",
   "execution_count": null,
   "id": "83c28c99-c418-442f-bbe6-8ec3a577a817",
   "metadata": {},
   "outputs": [],
   "source": [
    "query_1 = [\n",
    "    (\".\", {\"name\": \"lulesh.cycle\"}),\n",
    "    (\"*\"),\n",
    "    (\".\", {\"time\": \"> 100000\"})\n",
    "]"
   ]
  },
  {
   "cell_type": "markdown",
   "id": "7b9f7c95-d259-4828-9721-35f288913089",
   "metadata": {},
   "source": [
    "The above query is passed to Hatchet’s `filter()` function to filter the input GraphFrame. The `filter()` function takes a user-supplied function or query object and applies that to all rows in the DataFrame. The resulting Series or DataFrame is used to filter the DataFrame to only return rows that are true."
   ]
  },
  {
   "cell_type": "code",
   "execution_count": null,
   "id": "878ec2a0",
   "metadata": {},
   "outputs": [],
   "source": [
    "gf_filt = gf.filter(query_1)"
   ]
  },
  {
   "cell_type": "markdown",
   "id": "8118ddeb-88e7-4a41-8eae-2cf649bda921",
   "metadata": {},
   "source": [
    "The resulting GraphFrame now only lists the  nodes that matched the query:"
   ]
  },
  {
   "cell_type": "code",
   "execution_count": null,
   "id": "ed507339",
   "metadata": {},
   "outputs": [],
   "source": [
    "print(gf_filt.tree())"
   ]
  },
  {
   "cell_type": "markdown",
   "id": "82e4e83e-eed2-49d5-a51c-6931d558a18a",
   "metadata": {},
   "source": [
    "The query match is also reflected in the DataFrame:"
   ]
  },
  {
   "cell_type": "code",
   "execution_count": null,
   "id": "f3e87005-ab1a-4afb-8ea9-805289f02341",
   "metadata": {
    "scrolled": true
   },
   "outputs": [],
   "source": [
    "gf_filt.dataframe"
   ]
  },
  {
   "cell_type": "code",
   "execution_count": 31,
   "id": "aacff056-fa60-4c4f-9749-07cc61717eeb",
   "metadata": {
    "jupyter": {
     "source_hidden": true
    },
    "tags": [
     "hide-input"
    ]
   },
   "outputs": [
    {
     "data": {
      "text/markdown": [
       "### Query type 2: Check for numeric metric equivalence in query node predicates\n",
       "\n",
       "This query type covers cases where the user provides a numerical value that has an equivalence relationship with a numeric metric of the nodes. Since, the query node predicates find numeric metrics that match a numerical value exactly, it is required to set this numeric metric of all the rows of the DataFrame to their floor value. This allows for a successful application of the query even when the numeric metric has a higher precision number than the numeric value provided in the query node predicate.\n",
       "\n",
       "For the example below, we check for time metric equivalence. Hence we:\n",
       "\n",
       "1. Import the numpy library for python\n",
       "2. Use the numpy library to set the time metric of all rows of the DataFrame to their floor values\n",
       "\n",
       "\n"
      ],
      "text/plain": [
       "<IPython.core.display.Markdown object>"
      ]
     },
     "metadata": {},
     "output_type": "display_data"
    }
   ],
   "source": [
    "# display query type 1 documentation\n",
    "display(Markdown(\"../common/documentation/basic-numeric-comparison-02-01.md\"))"
   ]
  },
  {
   "cell_type": "code",
   "execution_count": null,
   "id": "f420323d-b57f-4f8a-8ba6-02fa25ea5262",
   "metadata": {},
   "outputs": [],
   "source": [
    "import numpy as np\n",
    "gf.dataframe[\"time\"] = gf.dataframe[\"time\"].apply(np.floor)"
   ]
  },
  {
   "cell_type": "code",
   "execution_count": 32,
   "id": "682a88bd-c606-4c5b-8cfa-220191bb284b",
   "metadata": {
    "jupyter": {
     "source_hidden": true
    },
    "tags": [
     "hide-input"
    ]
   },
   "outputs": [
    {
     "data": {
      "text/markdown": [
       "The following query matches zero or more nodes where the numeric comparison is satisfied when the `time` metric `is equivalent to 4686`:\n"
      ],
      "text/plain": [
       "<IPython.core.display.Markdown object>"
      ]
     },
     "metadata": {},
     "output_type": "display_data"
    }
   ],
   "source": [
    "# display query type 1 documentation\n",
    "display(Markdown(\"../common/documentation/basic-numeric-comparison-02-02.md\"))"
   ]
  },
  {
   "cell_type": "code",
   "execution_count": null,
   "id": "3ffcb04b-ed33-4280-9969-fbfb4843406b",
   "metadata": {},
   "outputs": [],
   "source": [
    "query_2 = [\n",
    "    (\"*\", {\"time\": \"== 4686\"})\n",
    "]"
   ]
  },
  {
   "cell_type": "markdown",
   "id": "9157131b-1bde-46d5-8924-4074883bb4ac",
   "metadata": {},
   "source": [
    "Just as before, the above query is passed to Hatchet’s `filter()` function to filter the input GraphFrame."
   ]
  },
  {
   "cell_type": "code",
   "execution_count": null,
   "id": "bd7bb94f-f0a9-46cf-b47e-27c82e737146",
   "metadata": {},
   "outputs": [],
   "source": [
    "gf_filt = gf.filter(query_2)"
   ]
  },
  {
   "cell_type": "markdown",
   "id": "0724d48a-dc56-43ef-a0af-ee102898379e",
   "metadata": {},
   "source": [
    "The resulting graph frame now only lists the  node/s that matched the query:"
   ]
  },
  {
   "cell_type": "code",
   "execution_count": null,
   "id": "a6324f0d-4be5-4519-9c79-189caa8222d8",
   "metadata": {},
   "outputs": [],
   "source": [
    "print(gf_filt.tree())"
   ]
  },
  {
   "cell_type": "markdown",
   "id": "86a23eae-e083-4f50-8a03-04281e794400",
   "metadata": {},
   "source": [
    "The query match is also reflected in the dataframe:"
   ]
  },
  {
   "cell_type": "code",
   "execution_count": null,
   "id": "eccb9bdf-28ce-4814-bf03-661b7b41d027",
   "metadata": {},
   "outputs": [],
   "source": [
    "gf_filt.dataframe"
   ]
  }
 ],
 "metadata": {
  "kernelspec": {
   "display_name": "Python 3 (ipykernel)",
   "language": "python",
   "name": "python3"
  },
  "language_info": {
   "codemirror_mode": {
    "name": "ipython",
    "version": 3
   },
   "file_extension": ".py",
   "mimetype": "text/x-python",
   "name": "python",
   "nbconvert_exporter": "python",
   "pygments_lexer": "ipython3",
   "version": "3.9.12"
  }
 },
 "nbformat": 4,
 "nbformat_minor": 5
}
