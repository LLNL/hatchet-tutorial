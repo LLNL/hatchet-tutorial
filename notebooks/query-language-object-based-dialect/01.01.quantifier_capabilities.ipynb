{
 "cells": [
  {
   "cell_type": "markdown",
   "id": "b0f5e933",
   "metadata": {
    "tags": []
   },
   "source": [
    "# Hatchet Query Language\n",
    "\n",
    "This notebook explores [Hatchet](https://github.com/LLNL/hatchet) queries from its [**Object-based Dialect**](https://hatchet.readthedocs.io/en/latest/query_lang.html), specifically **Category 1: Quantifier Capabilities**. The notebook covers different query types that are capable of matching various number of nodes from [GraphFrame](https://hatchet.readthedocs.io/en/latest/user_guide.html) objects."
   ]
  },
  {
   "cell_type": "code",
   "execution_count": 7,
   "id": "2d17d0f1-abbb-4488-88b8-2c95a5bddf8b",
   "metadata": {
    "jupyter": {
     "source_hidden": true
    },
    "tags": [
     "hide-input"
    ]
   },
   "outputs": [
    {
     "data": {
      "text/markdown": [
       "Hatchet supports eight different categories for the query language, as shown in Fig. 1.  \n",
       "\n",
       "|Category ID|Category Description|\n",
       "|:---------:|:-------------------|\n",
       "|1          |Quantifier Capabilities|\n",
       "|2          |String Equivalence and Regex Matching Predicates|\n",
       "|3          |String Containment Predicates (contains, starts with, ends with)|\n",
       "|4          |Basic Numeric Comparison Predicates (==, >, >=, etc.)|\n",
       "|5          |Special Value Identification Predicates (NaN, Inf, None)|\n",
       "|6          |Predicate Combination through Conjunction (AND)|\n",
       "|7          |Predicate Combination through Disjunction and Complement (OR, NOT)|\n",
       "|8          |Predicate Combination through Other Operations (e.g., XOR)|\n",
       "\n",
       "**Figure 1**: A table of the Hatchet Query Language capabilities, distinguished into categories and their corresponding category ID.\n",
       "\n",
       "Hatchet offers multiple interfaces to define queries with different trade-offs to verbosity and expressiveness. An entire catalog of queries, use cases, categories and capabilities can be found [here](https://docs.google.com/spreadsheets/d/1fKNlHmDJdDbnE4jyMcaFqdnw6ZSaexgm33rOcVAj0do/edit#gid=0).\n",
       "\n",
       "Hatchet query language consumes a GraphFrame and a sequence of queries. Each query can comprise a **predicate** and a **quantifier**. Hatchet query language finds all **matching paths** from a provided GraphFrame. For example, in Fig.2, for the query (any with A or B), the output would comprise of 2 paths, [1, 2, 4] and [1, 3, 4].\n",
       "\n",
       "![Graph frames and queries](../common/images/hatchet_query_graphframe.PNG)\n",
       "\n",
       "**Figure 2**: A diagram to provide an overview of queries and an example of how queries filter GraphFrames.\n",
       "\n",
       "***\n",
       "\n",
       "\n"
      ],
      "text/plain": [
       "<IPython.core.display.Markdown object>"
      ]
     },
     "metadata": {},
     "output_type": "display_data"
    }
   ],
   "source": [
    "# display documentation for Hatchet GraphFrame\n",
    "from IPython.display import Markdown, display\n",
    "display(Markdown(\"../common/documentation/hatchet-query-language.md\"))"
   ]
  },
  {
   "cell_type": "code",
   "execution_count": 3,
   "id": "f6500d8e",
   "metadata": {
    "jupyter": {
     "source_hidden": true
    },
    "tags": [
     "hide-input"
    ]
   },
   "outputs": [
    {
     "data": {
      "text/markdown": [
       "The **Object-based Dialect** is a formal language that is built around Python’s built-in objects. Queries are composed using Python’s list, tuple, and dict built-in data structures within **Object-based Dialect** of Hatchet query language.\n",
       "\n",
       "## Category 1: Quantifier Capabilities\n",
       "\n",
       "A valid hatchet query requires a **quantifier**. The accepted values for query node quantifiers in the **Object-based Dialect** are:\n",
       "\n",
       "1. `\".\"`: Match a single node\n",
       "2. `\"*\"`: Match 0 or more nodes\n",
       "3. `\"+\"`: Match 1 or more nodes\n",
       "4. `Integer`: Match an exact number of nodes\n"
      ],
      "text/plain": [
       "<IPython.core.display.Markdown object>"
      ]
     },
     "metadata": {},
     "output_type": "display_data"
    }
   ],
   "source": [
    "# display documentation for object-based dialect\n",
    "display(Markdown(\"../common/documentation/object-based-dialect-01.md\"))"
   ]
  },
  {
   "cell_type": "code",
   "execution_count": 2,
   "id": "94bbe95e-ad85-4c1b-8f76-fab2344a7dd0",
   "metadata": {
    "jupyter": {
     "source_hidden": true
    },
    "tags": [
     "hide-input"
    ]
   },
   "outputs": [
    {
     "data": {
      "text/markdown": [
       "### Loading profile data as Hatchet GraphFrame\n",
       "\n",
       "Hatchet queries are only defined on Hatchet GraphFrames. \n",
       "Obtaining a hatchet GraphFrame is straight forward:\n",
       "\n",
       "1. Import hatchet\n",
       "2. Use the appropriate reader for the profile/trace at hand\n",
       "\n",
       "We first load a [Caliper](https://github.com/LLNL/Caliper) profile in JSON format and Caliper is a performance profiling library.\n",
       "\n",
       "This example profile is profiled from [LULESH (Livermore Unstructured Lagrangian Explicit Shock Hydrodynamics)](https://asc.llnl.gov/codes/proxy-apps/lulesh), a performance report data generated by Caliper. LULESH is a highly simplified application designed to solve the Sedov Blast problem, which is a standard hydrodynamics test problem. It performs a hydrodynamics stencil calculation using both MPI and OpenMP to achieve parallelism. \n",
       "\n",
       "This is an interesting profile because it covers a relatively large number of nodes (45 nodes) and also spends considerable time in MPI communication routines."
      ],
      "text/plain": [
       "<IPython.core.display.Markdown object>"
      ]
     },
     "metadata": {},
     "output_type": "display_data"
    }
   ],
   "source": [
    "# display dataset information \n",
    "display(Markdown(\"../common/documentation/dataset-information.md\"))"
   ]
  },
  {
   "cell_type": "code",
   "execution_count": null,
   "id": "04ab3f46",
   "metadata": {},
   "outputs": [],
   "source": [
    "import hatchet as ht\n",
    "gf = ht.GraphFrame.from_caliper(\"../../data/lulesh-16nodes/lulesh-annotation-profile-512cores.json\")"
   ]
  },
  {
   "cell_type": "code",
   "execution_count": 7,
   "id": "d77fd445-2210-42ce-bc6f-f8c644524359",
   "metadata": {
    "jupyter": {
     "source_hidden": true
    },
    "tags": [
     "hide-input"
    ]
   },
   "outputs": [
    {
     "data": {
      "text/markdown": [
       "### Displaying a Hatchet GraphFrame\n",
       "A compact overview of a hatchet GraphFrame can be obtained using the `gf.tree()` function. We use this throughout the notebook to display the differences between an original GraphFrame and the resulting GraphFrame after applying a query."
      ],
      "text/plain": [
       "<IPython.core.display.Markdown object>"
      ]
     },
     "metadata": {},
     "output_type": "display_data"
    }
   ],
   "source": [
    "# display GraphFrame information \n",
    "display(Markdown(\"../common/documentation/graph-tree-information.md\"))"
   ]
  },
  {
   "cell_type": "code",
   "execution_count": null,
   "id": "4d29e959",
   "metadata": {},
   "outputs": [],
   "source": [
    "print(gf.tree())"
   ]
  },
  {
   "cell_type": "code",
   "execution_count": 8,
   "id": "081e828a-4960-467d-bff4-f11333d0a9c7",
   "metadata": {
    "jupyter": {
     "source_hidden": true
    },
    "tags": [
     "hide-input"
    ]
   },
   "outputs": [
    {
     "data": {
      "text/markdown": [
       "### Displaying a DataFrame\n",
       "An additional detail perspective can be obtained by viewing the underlying data using a **DataFrame**. Hatchet **DataFrame** holds all the numerical and categorical data associated with each node. "
      ],
      "text/plain": [
       "<IPython.core.display.Markdown object>"
      ]
     },
     "metadata": {},
     "output_type": "display_data"
    }
   ],
   "source": [
    "# display DataFrame information \n",
    "display(Markdown(\"../common/documentation/dataframe-information.md\"))"
   ]
  },
  {
   "cell_type": "code",
   "execution_count": null,
   "id": "3bc1a4c7",
   "metadata": {},
   "outputs": [],
   "source": [
    "gf.dataframe"
   ]
  },
  {
   "cell_type": "code",
   "execution_count": 9,
   "id": "236ba58b-1906-4873-aa67-519288fc315d",
   "metadata": {
    "jupyter": {
     "source_hidden": true
    },
    "tags": [
     "hide-input"
    ]
   },
   "outputs": [
    {
     "data": {
      "text/markdown": [
       "### Dropping index levels\n",
       "\n",
       "As a precursor to defining queries, we drop the index level of the GraphFrame using the `drop_index_levels()` Hatchet function. Hatchet hierarchical indexing can be of two types, depending on whether there is a single metric per node or multiple set of metrics per node.  \n",
       "\n",
       "If a node contains a single metric, the DataFrame will use an `Index` object containing the node column. If a node has an additional level of information, Hatchet creates a `MultiIndex` to store the information pertaining to multiple sets of metrics per node. `MultiIndex` stores the node column as the \"top\" level of the index, followed by additional information on the levels below. \n",
       "\n",
       "Based on the types of indexing (`Index or MultiIndex`), retrieving data from a DataFrame corresponding to a particular node either retrieves a single or multiple rows. This difference can cause issues when applying query node predicates.\n",
       "Therefore, it is necessary to get rid of all index levels besides the node column through an aggregation operation on the GraphFrame. Then, a query node predicate can be applied to the GraphFrame. "
      ],
      "text/plain": [
       "<IPython.core.display.Markdown object>"
      ]
     },
     "metadata": {},
     "output_type": "display_data"
    }
   ],
   "source": [
    "# why use drop index levels\n",
    "display(Markdown(\"../common/documentation/drop-index-information.md\"))"
   ]
  },
  {
   "cell_type": "code",
   "execution_count": null,
   "id": "f216dbef",
   "metadata": {},
   "outputs": [],
   "source": [
    "gf.drop_index_levels()"
   ]
  },
  {
   "cell_type": "code",
   "execution_count": 8,
   "id": "f8005e85-c669-4ef9-8b99-1366927e7839",
   "metadata": {
    "jupyter": {
     "source_hidden": true
    },
    "tags": [
     "hide-input"
    ]
   },
   "outputs": [
    {
     "data": {
      "text/markdown": [
       "### Use Case 1: Match a single node\n",
       "\n",
       "In the simplest case, a user can use this query type to match all single nodes that belong to function calls of a particular library (e.g., MPI). \n",
       "\n",
       "The following query matches all single nodes where the predicate that the `name` metric `starts with \"MPI_Barrier\"` is satisfied:\n"
      ],
      "text/plain": [
       "<IPython.core.display.Markdown object>"
      ]
     },
     "metadata": {},
     "output_type": "display_data"
    }
   ],
   "source": [
    "# display query type 1 documentation\n",
    "display(Markdown(\"../common/documentation/quantifier-capabilities-01.md\"))"
   ]
  },
  {
   "cell_type": "code",
   "execution_count": null,
   "id": "a1adf78c",
   "metadata": {},
   "outputs": [],
   "source": [
    "# single node with names starting with MPI_Barrier\n",
    "query_1 = [\n",
    "    (\".\", {\"name\": \"MPI_Barrier.*\"}),\n",
    "]"
   ]
  },
  {
   "cell_type": "markdown",
   "id": "e409873f-7736-4d08-8516-84c839a2229d",
   "metadata": {},
   "source": [
    "The above query is passed to Hatchet’s `filter()` function to filter the input GraphFrame. The `filter()` function takes a user-supplied function or query object and applies that to all rows in the DataFrame. The resulting Series or DataFrame is used to filter the DataFrame to only return rows that are true."
   ]
  },
  {
   "cell_type": "code",
   "execution_count": null,
   "id": "878ec2a0",
   "metadata": {},
   "outputs": [],
   "source": [
    "gf_filt = gf.filter(query_1)"
   ]
  },
  {
   "cell_type": "markdown",
   "id": "2040591a-06f6-462f-8528-bcfd0fedd22b",
   "metadata": {},
   "source": [
    "The resulting GraphFrame now only lists the  nodes that matched the query:"
   ]
  },
  {
   "cell_type": "code",
   "execution_count": null,
   "id": "7ef7369a-1968-43a6-b53a-a01b2a4785fe",
   "metadata": {},
   "outputs": [],
   "source": [
    "print(gf_filt.tree())"
   ]
  },
  {
   "cell_type": "markdown",
   "id": "904d2a82-0f48-4071-b015-8f9bd1fc8d89",
   "metadata": {},
   "source": [
    "The query match is also reflected in the DataFrame:"
   ]
  },
  {
   "cell_type": "code",
   "execution_count": null,
   "id": "082afe16",
   "metadata": {
    "scrolled": true
   },
   "outputs": [],
   "source": [
    "gf_filt.dataframe"
   ]
  },
  {
   "cell_type": "code",
   "execution_count": 9,
   "id": "7bf93612-ae66-4f74-a091-55d5ac35806d",
   "metadata": {
    "jupyter": {
     "source_hidden": true
    },
    "tags": [
     "hide-input"
    ]
   },
   "outputs": [
    {
     "data": {
      "text/markdown": [
       "### Use Case 2: Match zero or more nodes\n",
       "\n",
       "In many cases, a user may not know how many nodes to match. For this reason, hatchet provides the `\"*\"` and `\"+\"` literals as a quantifier `match zero or more nodes` and `match one or more nodes`, respectively.\n",
       "\n",
       "This query type filters a GraphFrame with the object syntax to find all query paths with zero or more nodes that meet a query predicate. This notebook contains two examples for this query use case. The purpose of the second example is to illustrate the difference between the query use cases that `match zero or more nodes` and `match one or more nodes`.\n",
       "\n",
       "**Example 1:**\n",
       "\n",
       "For the first example, the following query matches all zero or more nodes where the predicate that the `name` metric `starts with \"Calc\"` is satisfied.\n"
      ],
      "text/plain": [
       "<IPython.core.display.Markdown object>"
      ]
     },
     "metadata": {},
     "output_type": "display_data"
    }
   ],
   "source": [
    "# display query type 2 documentation\n",
    "display(Markdown(\"../common/documentation/quantifier-capabilities-02-01.md\"))"
   ]
  },
  {
   "cell_type": "code",
   "execution_count": null,
   "id": "d6003b64",
   "metadata": {},
   "outputs": [],
   "source": [
    "# zero or more nodes with name starting with Calc\n",
    "query_2_1 = [\n",
    "    (\"*\", {\"name\": \"Calc.*\"}),\n",
    "]"
   ]
  },
  {
   "cell_type": "markdown",
   "id": "3cde55eb-c4d9-4b21-93e6-19300531f57a",
   "metadata": {},
   "source": [
    "Just as before, the above query is passed to Hatchet’s `filter()` function to filter the input GraphFrame."
   ]
  },
  {
   "cell_type": "code",
   "execution_count": null,
   "id": "ba6fef83",
   "metadata": {},
   "outputs": [],
   "source": [
    "gf_filt = gf.filter(query_2_1)"
   ]
  },
  {
   "cell_type": "markdown",
   "id": "4b7775a1-b8d9-4bb8-825b-cecf98a5ee71",
   "metadata": {},
   "source": [
    "Here, instead of matching only single nodes, entire call stacks can be matched. The resulting GraphFrame now only lists the  nodes that matched the query:"
   ]
  },
  {
   "cell_type": "code",
   "execution_count": null,
   "id": "72815615",
   "metadata": {},
   "outputs": [],
   "source": [
    "print(gf_filt.tree())"
   ]
  },
  {
   "cell_type": "markdown",
   "id": "1a81ed50",
   "metadata": {},
   "source": [
    "The query match is also reflected in the DataFrame:"
   ]
  },
  {
   "cell_type": "code",
   "execution_count": null,
   "id": "1377e388",
   "metadata": {},
   "outputs": [],
   "source": [
    "gf_filt.dataframe"
   ]
  },
  {
   "cell_type": "code",
   "execution_count": 12,
   "id": "e5acb37a-c06d-4383-9c49-6c6ae30983ca",
   "metadata": {
    "jupyter": {
     "source_hidden": true
    },
    "tags": [
     "hide-input"
    ]
   },
   "outputs": [
    {
     "data": {
      "text/markdown": [
       "**Example 2:**\n",
       "\n",
       "In some cases, it is necessary to constrain which nodes to match. In other cases, it may be unknown which functions are called before a particular routine.\n",
       "\n",
       "For this second example, the first quantifier (`\".\"`) constrains the filter to single node with the predicate that the metric `name`, `starts with lulesh`. The second quantifier (`\".\"`) all nodes matching any node, before only `matching zero or more nodes` that satisfy the predicate that the metric `name`, `starts with Calc`.  "
      ],
      "text/plain": [
       "<IPython.core.display.Markdown object>"
      ]
     },
     "metadata": {},
     "output_type": "display_data"
    }
   ],
   "source": [
    "# display query type 2 documentation\n",
    "display(Markdown(\"../common/documentation/quantifier-capabilities-02-02.md\"))"
   ]
  },
  {
   "cell_type": "code",
   "execution_count": null,
   "id": "e44f75f7",
   "metadata": {},
   "outputs": [],
   "source": [
    "# zero or more nodes with several query nodes\n",
    "query_2_2 = [\n",
    "    (\".\", {\"name\": \"lulesh.*\"}),\n",
    "    (\".\"),\n",
    "    (\"*\", {\"name\": \"Calc.*\"})\n",
    "]"
   ]
  },
  {
   "cell_type": "markdown",
   "id": "f22a3969",
   "metadata": {},
   "source": [
    "Just as before, the above query is passed to Hatchet’s `filter()` function to filter the input GraphFrame."
   ]
  },
  {
   "cell_type": "code",
   "execution_count": null,
   "id": "65ede8ca",
   "metadata": {},
   "outputs": [],
   "source": [
    "gf_filt = gf.filter(query_2_2)"
   ]
  },
  {
   "cell_type": "markdown",
   "id": "883f7276",
   "metadata": {},
   "source": [
    "The resulting GraphFrame now only lists the  nodes that matched the query:"
   ]
  },
  {
   "cell_type": "code",
   "execution_count": null,
   "id": "2f326371",
   "metadata": {},
   "outputs": [],
   "source": [
    "print(gf_filt.tree())"
   ]
  },
  {
   "cell_type": "code",
   "execution_count": 13,
   "id": "fa8f63f3-e488-497f-aa1a-51f2d70a21c8",
   "metadata": {
    "jupyter": {
     "source_hidden": true
    },
    "tags": [
     "hide-input"
    ]
   },
   "outputs": [
    {
     "data": {
      "text/markdown": [
       "The above graph tree demonstrates that when the query to `match zero or more nodes` is executed with the constraints mentioned above, the node with `name \"TimeIncrement\"` is included, as it satisfies the third quantifier and predicate in the example. This specific node is ommited when the third quantifier in this example is changed to match one or more nodes instead. \n",
       "\n",
       "The query match is also reflected in the DataFrame:"
      ],
      "text/plain": [
       "<IPython.core.display.Markdown object>"
      ]
     },
     "metadata": {},
     "output_type": "display_data"
    }
   ],
   "source": [
    "# display query type 2 documentation\n",
    "display(Markdown(\"../common/documentation/quantifier-capabilities-02-03.md\"))"
   ]
  },
  {
   "cell_type": "code",
   "execution_count": null,
   "id": "6a542c16",
   "metadata": {},
   "outputs": [],
   "source": [
    "gf_filt.dataframe"
   ]
  },
  {
   "cell_type": "code",
   "execution_count": 10,
   "id": "643d343c-a70a-4855-aaa4-35fe6ffb5463",
   "metadata": {
    "jupyter": {
     "source_hidden": true
    },
    "tags": [
     "hide-input"
    ]
   },
   "outputs": [
    {
     "data": {
      "text/markdown": [
       "### Use Case 3: Match one or more nodes\n",
       "\n",
       "This query type filters a GraphFrame with the object syntax to find all query paths with one or more nodes that meet a query predicate. \n",
       "\n",
       "The notebook contains two examples for this query type. The purpose of the second example is to illustrate the difference between the query types that `match zero or more nodes` and `match one or more nodes`.\n",
       "\n",
       "**Example 1:**\n",
       "\n",
       "For the first example, the metric used for the query is `name` and the predicate is that the `name` metric `starts with \"CalcMonotonic\"`."
      ],
      "text/plain": [
       "<IPython.core.display.Markdown object>"
      ]
     },
     "metadata": {},
     "output_type": "display_data"
    }
   ],
   "source": [
    "# display query type 3 documentation\n",
    "display(Markdown(\"../common/documentation/quantifier-capabilities-03-01.md\"))"
   ]
  },
  {
   "cell_type": "code",
   "execution_count": null,
   "id": "5ebf041b",
   "metadata": {},
   "outputs": [],
   "source": [
    "# one or more nodes with name starting with CalcMonotonic\n",
    "query_3_1 = [\n",
    "    (\"+\", {\"name\": \"CalcMonotonic.*\"}),\n",
    "]"
   ]
  },
  {
   "cell_type": "markdown",
   "id": "880e7e5a",
   "metadata": {},
   "source": [
    "Just as before, the above query is passed to Hatchet’s `filter()` function to filter the input GraphFrame."
   ]
  },
  {
   "cell_type": "code",
   "execution_count": null,
   "id": "2b794a30",
   "metadata": {},
   "outputs": [],
   "source": [
    "gf_filt = gf.filter(query_3_1)"
   ]
  },
  {
   "cell_type": "markdown",
   "id": "e336cf06",
   "metadata": {},
   "source": [
    "The resulting GraphFrame now only lists the  nodes that matched the query:"
   ]
  },
  {
   "cell_type": "code",
   "execution_count": null,
   "id": "47d68bd2",
   "metadata": {},
   "outputs": [],
   "source": [
    "print(gf_filt.tree())"
   ]
  },
  {
   "cell_type": "markdown",
   "id": "8e0f8c14-14dc-44fd-a7d0-cae07aaa009f",
   "metadata": {},
   "source": [
    "The query match is also reflected in the DataFrame:"
   ]
  },
  {
   "cell_type": "code",
   "execution_count": null,
   "id": "f3792196",
   "metadata": {
    "scrolled": true,
    "tags": []
   },
   "outputs": [],
   "source": [
    "gf_filt.dataframe"
   ]
  },
  {
   "cell_type": "code",
   "execution_count": 5,
   "id": "307d271b-57b4-4d6b-98a0-17d78f176843",
   "metadata": {
    "jupyter": {
     "source_hidden": true
    },
    "tags": [
     "hide-input"
    ]
   },
   "outputs": [
    {
     "data": {
      "text/markdown": [
       "**Example 2:**\n",
       "\n",
       "For the second example, we re-use the second example from the previous section but replace the final query node to 'match one or more nodes'. The first quantifier (`\".\"`) constrains the filter to a single node with the predicate that the metric `name`, `starts with lulesh`. The second quantifier (`\".\"`) selects all single nodes, before only `matching one or more nodes` that satisfy the predicate that the metric `name`, `starts with Calc`.  \n"
      ],
      "text/plain": [
       "<IPython.core.display.Markdown object>"
      ]
     },
     "metadata": {},
     "output_type": "display_data"
    }
   ],
   "source": [
    "# display query type 3 documentation\n",
    "display(Markdown(\"../common/documentation/quantifier-capabilities-03-02.md\"))"
   ]
  },
  {
   "cell_type": "code",
   "execution_count": null,
   "id": "18f67ac7",
   "metadata": {},
   "outputs": [],
   "source": [
    "# one or more nodes with several query nodes\n",
    "query_3_2 = [\n",
    "    (\".\", {\"name\": \"lulesh.*\"}),\n",
    "    (\".\"),\n",
    "    (\"+\", {\"name\": \"Calc.*\"})\n",
    "]"
   ]
  },
  {
   "cell_type": "markdown",
   "id": "71662c79",
   "metadata": {},
   "source": [
    "Just as before, the above query is passed to Hatchet’s `filter()` function to filter the input GraphFrame."
   ]
  },
  {
   "cell_type": "code",
   "execution_count": null,
   "id": "c800513f",
   "metadata": {},
   "outputs": [],
   "source": [
    "gf_filt = gf.filter(query_3_2)"
   ]
  },
  {
   "cell_type": "markdown",
   "id": "dde17910",
   "metadata": {},
   "source": [
    "The resulting GraphFrame now only lists the  nodes that matched the query:"
   ]
  },
  {
   "cell_type": "code",
   "execution_count": null,
   "id": "846c541b",
   "metadata": {},
   "outputs": [],
   "source": [
    "print(gf_filt.tree())"
   ]
  },
  {
   "cell_type": "code",
   "execution_count": 16,
   "id": "257af639-2198-4abd-8238-83fd143ebc47",
   "metadata": {
    "jupyter": {
     "source_hidden": true
    },
    "tags": [
     "hide-input"
    ]
   },
   "outputs": [
    {
     "data": {
      "text/markdown": [
       "Execution of the second examples for query type 2 (match zero or more nodes) and query type 3 (match one or more nodes) demonstrate the difference between the two query types when used in combination with other quantifiers and predicates. \n",
       "\n",
       "The predicate that the metric `name`, `starts with Calc` for this dataset demonstrates that when we `match one or more nodes`, the filter ommits the node with the `name \"TimeIncrement\"`, as it does not satisfy the third quantifier and predicate in this example. \n",
       "\n",
       "This specific node is included when the third quantifier in this example is changed to match zero or more nodes instead. The query match is also reflected in the DataFrame:"
      ],
      "text/plain": [
       "<IPython.core.display.Markdown object>"
      ]
     },
     "metadata": {},
     "output_type": "display_data"
    }
   ],
   "source": [
    "# display query type 3 documentation\n",
    "display(Markdown(\"../common/documentation/quantifier-capabilities-03-03.md\"))"
   ]
  },
  {
   "cell_type": "code",
   "execution_count": null,
   "id": "6606ab3f",
   "metadata": {
    "scrolled": true
   },
   "outputs": [],
   "source": [
    "gf_filt.dataframe"
   ]
  },
  {
   "cell_type": "code",
   "execution_count": 11,
   "id": "60249e47-1bd6-4d1b-bdee-a9bb585b174a",
   "metadata": {
    "jupyter": {
     "source_hidden": true
    },
    "tags": [
     "hide-input"
    ]
   },
   "outputs": [
    {
     "data": {
      "text/markdown": [
       "### Use Case 4: Match exact number of nodes\n",
       "\n",
       "\n",
       "This query type filters a GraphFrame with the object syntax to find all query paths with an exact number of nodes, provided as an integer, that meets a query predicate.\n",
       "\n",
       "The metric used for the query is `name` and the predicate is that the `name` metric `starts with \"Calc\"`. We have previously applied a query use case to match zero or more nodes that start with the name Calc. However, the user can use the following query to concisely match only those nodes that contain `exactly three nodes` that `start with name Calc`. The resulting GraphFrame should be relatively smaller, considering the original GraphFrame and the previous example."
      ],
      "text/plain": [
       "<IPython.core.display.Markdown object>"
      ]
     },
     "metadata": {},
     "output_type": "display_data"
    }
   ],
   "source": [
    "# display query type 4 documentation\n",
    "display(Markdown(\"../common/documentation/quantifier-capabilities-04.md\"))"
   ]
  },
  {
   "cell_type": "code",
   "execution_count": null,
   "id": "edc988d1",
   "metadata": {},
   "outputs": [],
   "source": [
    "# exactly three nodes with names starting with Calc\n",
    "query_4 = [\n",
    "    (3, {\"name\": \"Calc.*\"}),\n",
    "]"
   ]
  },
  {
   "cell_type": "markdown",
   "id": "9f8a16f9",
   "metadata": {},
   "source": [
    "Just as before, the above query is passed to Hatchet’s `filter()` function to filter the input GraphFrame."
   ]
  },
  {
   "cell_type": "code",
   "execution_count": null,
   "id": "fa3334a5",
   "metadata": {},
   "outputs": [],
   "source": [
    "gf_filt = gf.filter(query_4)"
   ]
  },
  {
   "cell_type": "markdown",
   "id": "f427e977",
   "metadata": {},
   "source": [
    "The resulting GraphFrame now only lists the  nodes that matched the query:"
   ]
  },
  {
   "cell_type": "code",
   "execution_count": null,
   "id": "8a85a901",
   "metadata": {},
   "outputs": [],
   "source": [
    "print(gf_filt.tree())"
   ]
  },
  {
   "cell_type": "markdown",
   "id": "58775e78",
   "metadata": {},
   "source": [
    "The query match is also reflected in the DataFrame:"
   ]
  },
  {
   "cell_type": "code",
   "execution_count": null,
   "id": "917c6953",
   "metadata": {},
   "outputs": [],
   "source": [
    "gf_filt.dataframe"
   ]
  }
 ],
 "metadata": {
  "celltoolbar": "Tags",
  "kernelspec": {
   "display_name": "Python 3 (ipykernel)",
   "language": "python",
   "name": "python3"
  },
  "language_info": {
   "codemirror_mode": {
    "name": "ipython",
    "version": 3
   },
   "file_extension": ".py",
   "mimetype": "text/x-python",
   "name": "python",
   "nbconvert_exporter": "python",
   "pygments_lexer": "ipython3",
   "version": "3.9.12"
  }
 },
 "nbformat": 4,
 "nbformat_minor": 5
}
