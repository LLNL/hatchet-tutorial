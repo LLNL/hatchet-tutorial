{
 "cells": [
  {
   "cell_type": "markdown",
   "id": "909e7d51",
   "metadata": {},
   "source": [
    "# Hatchet Query Language\n",
    "\n",
    "This notebook explores [Hatchet](https://github.com/LLNL/hatchet) queries from its [**String-based Dialect**](https://hatchet.readthedocs.io/en/latest/query_lang.html), specifically **Category 1: Quantifier Capabilities**. The notebook covers different query types that are capable of matching various number of nodes from [GraphFrame](https://hatchet.readthedocs.io/en/latest/user_guide.html) objects."
   ]
  },
  {
   "cell_type": "code",
   "execution_count": 1,
   "id": "f05d40aa-7d57-4c2a-a67c-1bc171822ed1",
   "metadata": {
    "jupyter": {
     "source_hidden": true
    },
    "tags": [
     "hide-input"
    ]
   },
   "outputs": [
    {
     "data": {
      "text/markdown": [
       "Hatchet supports eight different categories for the query language, as shown in Fig. 1.  \n",
       "\n",
       "|Category ID|Category Description|\n",
       "|:---------:|:-------------------|\n",
       "|1          |Quantifier Capabilities|\n",
       "|2          |String Equivalence and Regex Matching Predicates|\n",
       "|3          |String Containment Predicates (contains, starts with, ends with)|\n",
       "|4          |Basic Numeric Comparison Predicates (==, >, >=, etc.)|\n",
       "|5          |Special Value Identification Predicates (NaN, Inf, None)|\n",
       "|6          |Predicate Combination through Conjunction (AND)|\n",
       "|7          |Predicate Combination through Disjunction and Complement (OR, NOT)|\n",
       "|8          |Predicate Combination through Other Operations (e.g., XOR)|\n",
       "\n",
       "**Figure 1**: A table of the Hatchet Query Language capabilities, distinguished into categories and their corresponding category ID.\n",
       "\n",
       "Hatchet offers multiple interfaces to define queries with different trade-offs to verbosity and expressiveness. An entire catalog of queries, use cases, categories and capabilities can be found [here](https://docs.google.com/spreadsheets/d/1fKNlHmDJdDbnE4jyMcaFqdnw6ZSaexgm33rOcVAj0do/edit#gid=0).\n",
       "\n",
       "Hatchet query language consumes a GraphFrame and a sequence of queries. Each query can comprise a **predicate** and a **quantifier**. Hatchet query language finds all **matching paths** from a provided GraphFrame. For example, in Fig.2, for the query (any with A or B), the output would comprise of 2 paths, [1, 2, 4] and [1, 3, 4].\n",
       "\n",
       "![Graph frames and queries](../common/images/hatchet_query_graphframe.png)\n",
       "\n",
       "**Figure 2**: A diagram to provide an overview of queries and an example of how queries filter GraphFrames.\n",
       "\n",
       "***\n",
       "\n",
       "\n"
      ],
      "text/plain": [
       "<IPython.core.display.Markdown object>"
      ]
     },
     "metadata": {},
     "output_type": "display_data"
    }
   ],
   "source": [
    "# display documentation for Hatchet GraphFrame\n",
    "from IPython.display import Markdown, display\n",
    "display(Markdown(\"../common/documentation/hatchet-query-language.md\"))"
   ]
  },
  {
   "cell_type": "code",
   "execution_count": 2,
   "id": "aaad67d8",
   "metadata": {
    "jupyter": {
     "source_hidden": true
    },
    "tags": [
     "hide-input"
    ]
   },
   "outputs": [
    {
     "data": {
      "text/markdown": [
       "The **String-based Dialect** is a formal language that can be used to create queries using a syntax derived from [Cypher](https://dl.acm.org/doi/10.1145/3183713.3190657). Queries generated using the **String-based Dialect** contain two main syntactic pieces: a *MATCH* statement and a *WHERE* statement. The *MATCH* statement starts with the *MATCH* keyword and defines the quantifiers and variable names used to refer to query nodes in the predicates. The *WHERE* statement starts with the *WHERE* keyword and defines one or more predicates. \n",
       "\n",
       "## Category 1: Quantifier Capabilities\n",
       "\n",
       "A valid hatchet query requires a **quantifier**. The accepted values for query node quantifiers in the **Object-based Dialect** are:\n",
       "\n",
       "1. `\".\"`: Match a single node\n",
       "2. `\"*\"`: Match 0 or more nodes\n",
       "3. `\"+\"`: Match 1 or more nodes\n",
       "4. `Integer`: Match an exact number of nodes \n"
      ],
      "text/plain": [
       "<IPython.core.display.Markdown object>"
      ]
     },
     "metadata": {},
     "output_type": "display_data"
    }
   ],
   "source": [
    "# display documentation for object-based dialect\n",
    "display(Markdown(\"../common/documentation/string-based-dialect-01.md\"))"
   ]
  },
  {
   "cell_type": "code",
   "execution_count": 2,
   "id": "d0ce3182",
   "metadata": {
    "jupyter": {
     "source_hidden": true
    },
    "tags": [
     "hide-input"
    ]
   },
   "outputs": [
    {
     "data": {
      "text/markdown": [
       "### Loading profile data as Hatchet GraphFrame\n",
       "\n",
       "Hatchet queries are only defined on Hatchet GraphFrames. \n",
       "Obtaining a hatchet GraphFrame is straight forward:\n",
       "\n",
       "1. Import hatchet\n",
       "2. Use the appropriate reader for the profile/trace at hand\n",
       "\n",
       "We first load a [Caliper](https://github.com/LLNL/Caliper) profile in JSON format, where Caliper is a performance profiling library developed by the Lawrence Livermore National Lab (LLNL).\n",
       "\n",
       "This example profile is profiled from [LULESH (Livermore Unstructured Lagrangian Explicit Shock Hydrodynamics)](https://asc.llnl.gov/codes/proxy-apps/lulesh), a performance report data generated by Caliper. LULESH is a highly simplified application designed to solve the Sedov Blast problem, which is a standard hydrodynamics test problem. It performs a hydrodynamics stencil calculation using both MPI and OpenMP to achieve parallelism. \n",
       "\n",
       "This is an interesting profile because it covers a relatively large number of nodes (45 nodes) and spends considerable time in MPI communication routines.\n"
      ],
      "text/plain": [
       "<IPython.core.display.Markdown object>"
      ]
     },
     "metadata": {},
     "output_type": "display_data"
    }
   ],
   "source": [
    "# display dataset information \n",
    "display(Markdown(\"../common/documentation/dataset-information.md\"))"
   ]
  },
  {
   "cell_type": "code",
   "execution_count": null,
   "id": "04ab3f46",
   "metadata": {},
   "outputs": [],
   "source": [
    "import hatchet as ht\n",
    "gf = ht.GraphFrame.from_caliper(\"../../data/lulesh-16nodes/lulesh-annotation-profile-512cores.json\")"
   ]
  },
  {
   "cell_type": "code",
   "execution_count": 3,
   "id": "b2e4abc3",
   "metadata": {
    "jupyter": {
     "source_hidden": true
    },
    "tags": [
     "hide-input"
    ]
   },
   "outputs": [
    {
     "data": {
      "text/markdown": [
       "### Displaying a Hatchet GraphFrame\n",
       "A compact overview of a hatchet GraphFrame can be obtained using the `gf.tree()` function. We use this throughout the notebook to display the differences between an original GraphFrame and the resulting GraphFrame after applying a query."
      ],
      "text/plain": [
       "<IPython.core.display.Markdown object>"
      ]
     },
     "metadata": {},
     "output_type": "display_data"
    }
   ],
   "source": [
    "# display GraphFrame information \n",
    "display(Markdown(\"../common/documentation/graph-tree-information.md\"))"
   ]
  },
  {
   "cell_type": "code",
   "execution_count": null,
   "id": "671d6ecf",
   "metadata": {
    "tags": []
   },
   "outputs": [],
   "source": [
    "print(gf.tree())"
   ]
  },
  {
   "cell_type": "code",
   "execution_count": 4,
   "id": "9b1384a6",
   "metadata": {
    "jupyter": {
     "source_hidden": true
    },
    "tags": [
     "hide-input"
    ]
   },
   "outputs": [
    {
     "data": {
      "text/markdown": [
       "### Displaying a DataFrame\n",
       "An additional detail perspective can be obtained by viewing the underlying data using a **DataFrame**. A Hatchet **DataFrame** holds all the numerical and categorical data associated with each node. "
      ],
      "text/plain": [
       "<IPython.core.display.Markdown object>"
      ]
     },
     "metadata": {},
     "output_type": "display_data"
    }
   ],
   "source": [
    "# display DataFrame information \n",
    "display(Markdown(\"../common/documentation/dataframe-information.md\"))"
   ]
  },
  {
   "cell_type": "code",
   "execution_count": null,
   "id": "2d616d18",
   "metadata": {},
   "outputs": [],
   "source": [
    "gf.dataframe"
   ]
  },
  {
   "cell_type": "code",
   "execution_count": 5,
   "id": "e9b785c2",
   "metadata": {
    "jupyter": {
     "source_hidden": true
    },
    "tags": [
     "hide-input"
    ]
   },
   "outputs": [
    {
     "data": {
      "text/markdown": [
       "### Dropping index levels\n",
       "\n",
       "As a precursor to defining queries, we drop the index level of the GraphFrame using the `drop_index_levels()` Hatchet function. Hatchet hierarchical indexing can be of two types, depending on whether there is a single metric per node or multiple set of metrics per node.  \n",
       "\n",
       "If a node contains a single metric, the DataFrame will use an `Index` object containing the node column. If a node has an additional level of information, Hatchet creates a `MultiIndex` to store the information pertaining to multiple sets of metrics per node. `MultiIndex` stores the node column as the \"top\" level of the index, followed by additional information on the levels below. \n",
       "\n",
       "Based on the types of indexing (`Index or MultiIndex`), retrieving data from a DataFrame corresponding to a particular node either retrieves a single or multiple rows. This difference can cause issues when applying query node predicates.\n",
       "Therefore, it is necessary to get rid of all index levels besides the node column through an aggregation operation on the GraphFrame. Then, a query node predicate can be applied to the GraphFrame. "
      ],
      "text/plain": [
       "<IPython.core.display.Markdown object>"
      ]
     },
     "metadata": {},
     "output_type": "display_data"
    }
   ],
   "source": [
    "# why use drop index levels\n",
    "display(Markdown(\"../common/documentation/drop-index-information.md\"))"
   ]
  },
  {
   "cell_type": "code",
   "execution_count": 15,
   "id": "3ab3925c",
   "metadata": {},
   "outputs": [],
   "source": [
    "gf.drop_index_levels()"
   ]
  },
  {
   "cell_type": "code",
   "execution_count": 6,
   "id": "32897471",
   "metadata": {
    "jupyter": {
     "source_hidden": true
    },
    "tags": [
     "hide-input"
    ]
   },
   "outputs": [
    {
     "data": {
      "text/markdown": [
       "### Query type 1: Match a single node\n",
       "\n",
       "In the simplest case, a user can use this query type to match all single nodes that belong to function calls of a particular library (e.g., MPI). \n",
       "\n",
       "The following query matches all single nodes where the predicate that the `name` metric `starts with \"MPI_Barrier\"` is satisfied:\n"
      ],
      "text/plain": [
       "<IPython.core.display.Markdown object>"
      ]
     },
     "metadata": {},
     "output_type": "display_data"
    }
   ],
   "source": [
    "# display query type 1 documentation\n",
    "display(Markdown(\"../common/documentation/quantifier-capabilities-01.md\"))"
   ]
  },
  {
   "cell_type": "code",
   "execution_count": 16,
   "id": "4977dacc",
   "metadata": {},
   "outputs": [],
   "source": [
    "# single node with names starting with MPI_Barrier\n",
    "query_1 = \"\"\"\n",
    "MATCH (\".\", p)\n",
    "WHERE p.\"name\"=~\"MPI_Barrier\"\n",
    "\"\"\""
   ]
  },
  {
   "cell_type": "markdown",
   "id": "1f3087b6",
   "metadata": {},
   "source": [
    "The above query is passed to Hatchet’s `filter()` function to filter the input GraphFrame. The `filter()` function takes a user-supplied function or query object and applies that to all rows in the DataFrame. The resulting Series or DataFrame is used to filter the DataFrame to only return rows that are true."
   ]
  },
  {
   "cell_type": "code",
   "execution_count": 17,
   "id": "878ec2a0",
   "metadata": {},
   "outputs": [],
   "source": [
    "gf_filt = gf.filter(query_1)"
   ]
  },
  {
   "cell_type": "markdown",
   "id": "3b07a4d3",
   "metadata": {},
   "source": [
    "The resulting GraphFrame now only lists the  nodes that matched the query:"
   ]
  },
  {
   "cell_type": "code",
   "execution_count": null,
   "id": "7ef7369a-1968-43a6-b53a-a01b2a4785fe",
   "metadata": {},
   "outputs": [],
   "source": [
    "print(gf_filt.tree())"
   ]
  },
  {
   "cell_type": "markdown",
   "id": "f74223c0",
   "metadata": {},
   "source": [
    "The query match is also reflected in the DataFrame:"
   ]
  },
  {
   "cell_type": "code",
   "execution_count": null,
   "id": "11b9b30b",
   "metadata": {},
   "outputs": [],
   "source": [
    "gf_filt.dataframe"
   ]
  },
  {
   "cell_type": "code",
   "execution_count": 7,
   "id": "d131e008",
   "metadata": {
    "jupyter": {
     "source_hidden": true
    },
    "tags": [
     "hide-input"
    ]
   },
   "outputs": [
    {
     "data": {
      "text/markdown": [
       "### Query type 2: Match zero or more nodes\n",
       "\n",
       "In many cases, a user may not know how many nodes to match. For this reason, hatchet provides the `\"*\"` and `\"+\"` literals as a quantifier `match zero or more nodes` and `match one or more nodes`, respectively.\n",
       "\n",
       "This query type filters a GraphFrame with the object syntax to find all query paths with zero or more nodes that meet a query predicate. This notebook contains two examples for this query use case. The purpose of the second example is to illustrate the difference between the query use cases that `match zero or more nodes` and `match one or more nodes`.\n",
       "\n",
       "**Example 1:**\n",
       "\n",
       "For the first example, the following query matches all zero or more nodes where the predicate that the `name` metric `starts with \"Calc\"` is satisfied.\n"
      ],
      "text/plain": [
       "<IPython.core.display.Markdown object>"
      ]
     },
     "metadata": {},
     "output_type": "display_data"
    }
   ],
   "source": [
    "# display query type 2 documentation\n",
    "display(Markdown(\"../common/documentation/quantifier-capabilities-02-01.md\"))"
   ]
  },
  {
   "cell_type": "code",
   "execution_count": 22,
   "id": "d6003b64",
   "metadata": {},
   "outputs": [],
   "source": [
    "# zero or more nodes with name starting with Calc\n",
    "query_2_1 = \"\"\"\n",
    "MATCH (\"*\", p)\n",
    "WHERE p.\"name\"=~\"Calc.*\"\n",
    "\"\"\""
   ]
  },
  {
   "cell_type": "markdown",
   "id": "f7b0e37d",
   "metadata": {},
   "source": [
    "Just as before, the above query is passed to Hatchet’s filter() function to filter the input GraphFrame."
   ]
  },
  {
   "cell_type": "code",
   "execution_count": 23,
   "id": "ba6fef83",
   "metadata": {},
   "outputs": [],
   "source": [
    "gf_filt = gf.filter(query_2_1)"
   ]
  },
  {
   "cell_type": "markdown",
   "id": "42cc8753",
   "metadata": {},
   "source": [
    "Here, instead of matching only single nodes, entire call stacks can be matched. The resulting GraphFrame now only lists the nodes that matched the query:"
   ]
  },
  {
   "cell_type": "code",
   "execution_count": null,
   "id": "29f80bae-7b18-43ef-957f-1ecfa596fe5f",
   "metadata": {},
   "outputs": [],
   "source": [
    "print(gf_filt.tree())"
   ]
  },
  {
   "cell_type": "markdown",
   "id": "e6fd6c19",
   "metadata": {},
   "source": [
    "The query match is also reflected in the DataFrame:"
   ]
  },
  {
   "cell_type": "code",
   "execution_count": null,
   "id": "a3dd6b4b",
   "metadata": {},
   "outputs": [],
   "source": [
    "gf_filt.dataframe"
   ]
  },
  {
   "cell_type": "code",
   "execution_count": 8,
   "id": "f551f252",
   "metadata": {
    "jupyter": {
     "source_hidden": true
    },
    "tags": [
     "hide-input"
    ]
   },
   "outputs": [
    {
     "data": {
      "text/markdown": [
       "**Example 2:**\n",
       "\n",
       "In some cases, it is necessary to constrain which nodes to match. In other cases, it may be unknown which functions are called before a particular routine.\n",
       "\n",
       "For this second example, the first quantifier (`\".\"`) constrains the filter to single node with the predicate that the metric `name`, `starts with lulesh`. The second quantifier (`\".\"`) all nodes matching any node, before only `matching zero or more nodes` that satisfy the predicate that the metric `name`, `starts with Calc`.  "
      ],
      "text/plain": [
       "<IPython.core.display.Markdown object>"
      ]
     },
     "metadata": {},
     "output_type": "display_data"
    }
   ],
   "source": [
    "# display query type 2 documentation\n",
    "display(Markdown(\"../common/documentation/quantifier-capabilities-02-02.md\"))"
   ]
  },
  {
   "cell_type": "code",
   "execution_count": 28,
   "id": "e44f75f7",
   "metadata": {},
   "outputs": [],
   "source": [
    "# zero or more nodes with several query nodes\n",
    "query_2_2 = \"\"\"\n",
    "MATCH (\".\", p)->(\".\")->(\"*\", p1)\n",
    "WHERE p.\"name\"=~\"lulesh.*\" AND\n",
    "    p1.\"name\"=~\"Calc.*\"\n",
    "\"\"\""
   ]
  },
  {
   "cell_type": "markdown",
   "id": "312c5309",
   "metadata": {},
   "source": [
    "Just as before, the above query is passed to Hatchet’s filter() function to filter the input GraphFrame."
   ]
  },
  {
   "cell_type": "code",
   "execution_count": 29,
   "id": "65ede8ca",
   "metadata": {},
   "outputs": [],
   "source": [
    "gf_filt = gf.filter(query_2_2)"
   ]
  },
  {
   "cell_type": "markdown",
   "id": "b6dabcde",
   "metadata": {},
   "source": [
    "The resulting GraphFrame now only lists the nodes that matched the query:"
   ]
  },
  {
   "cell_type": "code",
   "execution_count": null,
   "id": "2f326371",
   "metadata": {
    "tags": []
   },
   "outputs": [],
   "source": [
    "print(gf_filt.tree())"
   ]
  },
  {
   "cell_type": "code",
   "execution_count": 9,
   "id": "98568433",
   "metadata": {
    "jupyter": {
     "source_hidden": true
    },
    "tags": [
     "hide-input"
    ]
   },
   "outputs": [
    {
     "data": {
      "text/markdown": [
       "The above graph tree demonstrates that when the query to `match zero or more nodes` is executed with the constraints mentioned above, the node with `name \"TimeIncrement\"` is included, as it satisfies the third quantifier and predicate in the example. This specific node is omitted when the third quantifier in this example is changed to match one or more nodes instead. \n",
       "\n",
       "The query match is also reflected in the DataFrame: \n"
      ],
      "text/plain": [
       "<IPython.core.display.Markdown object>"
      ]
     },
     "metadata": {},
     "output_type": "display_data"
    }
   ],
   "source": [
    "# display query type 2 documentation\n",
    "display(Markdown(\"../common/documentation/quantifier-capabilities-02-03.md\"))"
   ]
  },
  {
   "cell_type": "code",
   "execution_count": null,
   "id": "8d346558",
   "metadata": {},
   "outputs": [],
   "source": [
    "gf_filt.dataframe"
   ]
  },
  {
   "cell_type": "code",
   "execution_count": 10,
   "id": "67247028",
   "metadata": {
    "jupyter": {
     "source_hidden": true
    },
    "tags": [
     "hide-input"
    ]
   },
   "outputs": [
    {
     "data": {
      "text/markdown": [
       "### Query type 3: Match one or more nodes\n",
       "\n",
       "This query type filters a GraphFrame with the object syntax to find all query paths with one or more nodes that meet a query predicate. \n",
       "\n",
       "The notebook contains two examples for this query type. The purpose of the second example is to illustrate the difference between the query types that `match zero or more nodes` and `match one or more nodes`.\n",
       "\n",
       "**Example 1:**\n",
       "\n",
       "For the first example, the metric used for the query is `name` and the predicate is that the `name` metric `starts with \"CalcMonotonic\"`."
      ],
      "text/plain": [
       "<IPython.core.display.Markdown object>"
      ]
     },
     "metadata": {},
     "output_type": "display_data"
    }
   ],
   "source": [
    "# display query type 3 documentation\n",
    "display(Markdown(\"../common/documentation/quantifier-capabilities-03-01.md\"))"
   ]
  },
  {
   "cell_type": "code",
   "execution_count": 35,
   "id": "5ebf041b",
   "metadata": {},
   "outputs": [],
   "source": [
    "# one or more nodes with name starting with CalcMonotonic\n",
    "query_3_1 = \"\"\"\n",
    "MATCH (\"+\", p)\n",
    "WHERE p.\"name\"=~\"CalcMonotonic.*\"\n",
    "\"\"\""
   ]
  },
  {
   "cell_type": "markdown",
   "id": "0a0c7c53",
   "metadata": {},
   "source": [
    "Just as before, the above query is passed to Hatchet’s `filter()` function to filter the input GraphFrame."
   ]
  },
  {
   "cell_type": "code",
   "execution_count": 36,
   "id": "2b794a30",
   "metadata": {},
   "outputs": [],
   "source": [
    "gf_filt = gf.filter(query_3_1)"
   ]
  },
  {
   "cell_type": "markdown",
   "id": "7e3e3130",
   "metadata": {},
   "source": [
    "The resulting GraphFrame now only lists the nodes that matched the query:"
   ]
  },
  {
   "cell_type": "code",
   "execution_count": null,
   "id": "47d68bd2",
   "metadata": {},
   "outputs": [],
   "source": [
    "print(gf_filt.tree())"
   ]
  },
  {
   "cell_type": "markdown",
   "id": "a050cfaa",
   "metadata": {},
   "source": [
    "The query match is also reflected in the DataFrame:"
   ]
  },
  {
   "cell_type": "code",
   "execution_count": null,
   "id": "e2c8f160",
   "metadata": {},
   "outputs": [],
   "source": [
    "gf_filt.dataframe"
   ]
  },
  {
   "cell_type": "code",
   "execution_count": 11,
   "id": "502aeba7",
   "metadata": {
    "jupyter": {
     "source_hidden": true
    },
    "tags": [
     "hide-input"
    ]
   },
   "outputs": [
    {
     "data": {
      "text/markdown": [
       "**Example 2:**\n",
       "\n",
       "For the second example, we repeat the second example in the previous section but replace the final query node to 'match one or more nodes'. The first quantifier (`\".\"`) constrains the filter to a single node with the predicate that the metric `name`, `starts with lulesh`. The second quantifier (`\".\"`) all nodes matching any node, before only `matching one or more nodes` that satisfy the predicate that the metric `name`, `starts with Calc`.  "
      ],
      "text/plain": [
       "<IPython.core.display.Markdown object>"
      ]
     },
     "metadata": {},
     "output_type": "display_data"
    }
   ],
   "source": [
    "# display query type 3 documentation\n",
    "display(Markdown(\"../common/documentation/quantifier-capabilities-03-02.md\"))"
   ]
  },
  {
   "cell_type": "code",
   "execution_count": 40,
   "id": "18f67ac7",
   "metadata": {},
   "outputs": [],
   "source": [
    "# one or more nodes with several query nodes\n",
    "query_3_2 = \"\"\"\n",
    "MATCH (\".\", p)->(\".\")->(\"+\", p1)\n",
    "WHERE p.\"name\"=~\"lulesh.*\" AND\n",
    "    p1.\"name\"=~\"Calc.*\"\n",
    "\"\"\""
   ]
  },
  {
   "cell_type": "markdown",
   "id": "8ee307a5",
   "metadata": {},
   "source": [
    "Just as before, the above query is passed to Hatchet’s `filter()` function to filter the input GraphFrame."
   ]
  },
  {
   "cell_type": "code",
   "execution_count": 41,
   "id": "c800513f",
   "metadata": {},
   "outputs": [],
   "source": [
    "gf_filt = gf.filter(query_3_2)"
   ]
  },
  {
   "cell_type": "markdown",
   "id": "d8ae0803",
   "metadata": {},
   "source": [
    "The resulting GraphFrame now only lists the nodes that matched the query:"
   ]
  },
  {
   "cell_type": "code",
   "execution_count": null,
   "id": "846c541b",
   "metadata": {},
   "outputs": [],
   "source": [
    "print(gf_filt.tree())"
   ]
  },
  {
   "cell_type": "code",
   "execution_count": 12,
   "id": "e32b1aff",
   "metadata": {
    "jupyter": {
     "source_hidden": true
    },
    "tags": [
     "hide-input"
    ]
   },
   "outputs": [
    {
     "data": {
      "text/markdown": [
       "Execution of the second examples for query type 2 (match zero or more nodes) and query type 3 (match one or more nodes) demonstrate the difference between the two query types when used in combination with other quantifiers and predicates. \n",
       "\n",
       "The predicate that the metric `name`, `starts with Calc` for this dataset demonstrates that when we `match one or more nodes`, the filter omits the node with the `name \"TimeIncrement\"`, as it does not satisfy the third quantifier and predicate in this example. \n",
       "\n",
       "This specific node is included when the third quantifier in this example is changed to match zero or more nodes instead. The query match is also reflected in the DataFrame: \n"
      ],
      "text/plain": [
       "<IPython.core.display.Markdown object>"
      ]
     },
     "metadata": {},
     "output_type": "display_data"
    }
   ],
   "source": [
    "# display query type 3 documentation\n",
    "display(Markdown(\"../common/documentation/quantifier-capabilities-03-03.md\"))"
   ]
  },
  {
   "cell_type": "code",
   "execution_count": null,
   "id": "eba1413f",
   "metadata": {},
   "outputs": [],
   "source": [
    "gf_filt.dataframe"
   ]
  },
  {
   "cell_type": "code",
   "execution_count": 13,
   "id": "6264059e",
   "metadata": {
    "jupyter": {
     "source_hidden": true
    },
    "tags": [
     "hide-input"
    ]
   },
   "outputs": [
    {
     "data": {
      "text/markdown": [
       "### Query type 4: Match exact number of nodes\n",
       "\n",
       "\n",
       "This query type filters a GraphFrame with the object syntax to find all query paths with an exact number of nodes, provided as an integer, that meets a query predicate.\n",
       "\n",
       "The metric used for the query is `name` and the predicate is that the `name` metric `starts with \"Calc\"`. We have previously applied a query use case to match zero or more nodes that start with the name Calc. However, the user can use the following query to concisely match only those nodes that contain `exactly three nodes` that `start with name Calc`. The resulting GraphFrame should be relatively smaller, considering the original GraphFrame and the previous example."
      ],
      "text/plain": [
       "<IPython.core.display.Markdown object>"
      ]
     },
     "metadata": {},
     "output_type": "display_data"
    }
   ],
   "source": [
    "# display query type 4 documentation\n",
    "display(Markdown(\"../common/documentation/quantifier-capabilities-04.md\"))"
   ]
  },
  {
   "cell_type": "code",
   "execution_count": 46,
   "id": "edc988d1",
   "metadata": {},
   "outputs": [],
   "source": [
    "# exactly three nodes with names starting with Calc\n",
    "query_4 = \"\"\"\n",
    "MATCH (3, p)\n",
    "WHERE p.\"name\"=~\"Calc.*\"\n",
    "\"\"\""
   ]
  },
  {
   "cell_type": "markdown",
   "id": "ae8308fc",
   "metadata": {
    "tags": []
   },
   "source": [
    "Just as before, the above query is passed to Hatchet’s `filter()` function to filter the input GraphFrame."
   ]
  },
  {
   "cell_type": "code",
   "execution_count": 47,
   "id": "fa3334a5",
   "metadata": {},
   "outputs": [],
   "source": [
    "gf_filt = gf.filter(query_4)"
   ]
  },
  {
   "cell_type": "markdown",
   "id": "bb06f884",
   "metadata": {},
   "source": [
    "The resulting GraphFrame now only lists the nodes that matched the query:"
   ]
  },
  {
   "cell_type": "code",
   "execution_count": null,
   "id": "8a85a901",
   "metadata": {},
   "outputs": [],
   "source": [
    "print(gf_filt.tree())"
   ]
  },
  {
   "cell_type": "markdown",
   "id": "23df14e5",
   "metadata": {},
   "source": [
    "The query match is also reflected in the DataFrame:"
   ]
  },
  {
   "cell_type": "code",
   "execution_count": null,
   "id": "d59e195d",
   "metadata": {},
   "outputs": [],
   "source": [
    "gf_filt.dataframe"
   ]
  }
 ],
 "metadata": {
  "kernelspec": {
   "display_name": "Python 3 (ipykernel)",
   "language": "python",
   "name": "python3"
  },
  "language_info": {
   "codemirror_mode": {
    "name": "ipython",
    "version": 3
   },
   "file_extension": ".py",
   "mimetype": "text/x-python",
   "name": "python",
   "nbconvert_exporter": "python",
   "pygments_lexer": "ipython3",
   "version": "3.9.12"
  }
 },
 "nbformat": 4,
 "nbformat_minor": 5
}
