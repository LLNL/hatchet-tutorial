{
 "cells": [
  {
   "cell_type": "markdown",
   "id": "867a7f76-f842-4705-8d9b-a3aa606d4820",
   "metadata": {
    "tags": []
   },
   "source": [
    "# Hatchet Query Language\n",
    "\n",
    "This notebook explores [Hatchet](https://github.com/LLNL/hatchet) queries from its [**String-based Dialect**](https://hatchet.readthedocs.io/en/latest/query_lang.html), specifically **Category 5: Special Value Identification Predicates**. The notebook covers different query types that are capable of identifying nodes from [GraphFrame](https://hatchet.readthedocs.io/en/latest/user_guide.html) objects containing special values (NaN, Inf, None) using query node predicates."
   ]
  },
  {
   "cell_type": "code",
   "execution_count": 1,
   "id": "38e44596-0364-47a4-8339-7c00d4bb84e5",
   "metadata": {
    "jupyter": {
     "source_hidden": true
    },
    "tags": [
     "hide-input"
    ]
   },
   "outputs": [
    {
     "data": {
      "text/markdown": [
       "Hatchet supports eight different categories for the query language, as shown in Fig. 1.  \n",
       "\n",
       "|Category ID|Category Description|\n",
       "|:---------:|:-------------------|\n",
       "|1          |Quantifier Capabilities|\n",
       "|2          |String Equivalence and Regex Matching Predicates|\n",
       "|3          |String Containment Predicates (contains, starts with, ends with)|\n",
       "|4          |Basic Numeric Comparison Predicates (==, >, >=, etc.)|\n",
       "|5          |Special Value Identification Predicates (NaN, Inf, None)|\n",
       "|6          |Predicate Combination through Conjunction (AND)|\n",
       "|7          |Predicate Combination through Disjunction and Complement (OR, NOT)|\n",
       "|8          |Predicate Combination through Other Operations (e.g., XOR)|\n",
       "\n",
       "**Figure 1**: A table of the Hatchet Query Language capabilities, distinguished into categories and their corresponding category ID.\n",
       "\n",
       "Hatchet offers multiple interfaces to define queries with different trade-offs to verbosity and expressiveness. An entire catalog of queries, use cases, categories and capabilities can be found [here](https://docs.google.com/spreadsheets/d/1fKNlHmDJdDbnE4jyMcaFqdnw6ZSaexgm33rOcVAj0do/edit#gid=0).\n",
       "\n",
       "Hatchet query language consumes a GraphFrame and a sequence of queries. Each query can comprise a **predicate** and a **quantifier**. Hatchet query language finds all **matching paths** from a provided GraphFrame. For example, in Fig.2, for the query (any with A or B), the output would comprise of 2 paths, [1, 2, 4] and [1, 3, 4].\n",
       "\n",
       "![Graph frames and queries](../common/images/hatchet_query_graphframe.PNG)\n",
       "\n",
       "**Figure 2**: A diagram to provide an overview of queries and an example of how queries filter GraphFrames.\n",
       "\n",
       "***\n",
       "\n",
       "\n"
      ],
      "text/plain": [
       "<IPython.core.display.Markdown object>"
      ]
     },
     "metadata": {},
     "output_type": "display_data"
    }
   ],
   "source": [
    "# display documentation for Hatchet GraphFrame\n",
    "from IPython.display import Markdown, display\n",
    "display(Markdown(\"../common/documentation/hatchet-query-language.md\"))"
   ]
  },
  {
   "cell_type": "code",
   "execution_count": 2,
   "id": "0fa09d2c-5bd8-42ad-a373-6cae3938a2b8",
   "metadata": {
    "jupyter": {
     "source_hidden": true
    },
    "tags": [
     "hide-input"
    ]
   },
   "outputs": [
    {
     "data": {
      "text/markdown": [
       "The **String-based Dialect** is a formal language that can be used to create queries using a syntax derived from [Cypher](https://dl.acm.org/doi/10.1145/3183713.3190657). Queries generated using the **String-based Dialect** contain two main syntactic pieces: a *MATCH* statement and a *WHERE* statement. The *MATCH* statement starts with the *MATCH* keyword and defines the quantifiers and variable names used to refer to query nodes in the predicates. The *WHERE* statement starts with the *WHERE* keyword and defines one or more predicates. \n",
       "\n",
       "## Category 5: Special Value Identification Predicates (NaN, Inf, None)\n",
       "\n",
       "Category 5 expands on using query node predicates to indentify and filter GraphFrame nodes with special values such as NaN, Inf, or None.\n",
       "\n",
       "The String-based Dialect of the Hatchet Query Language allows us to check if:\n",
       "\n",
       "1. Check if numeric metric is NaN in query node predicates\n",
       "2. Check if numeric metric is not NaN in query node predicates\n",
       "3. Check if numeric metric is infinity in query node predicates\n",
       "4. Check if numeric metric is not infinity in query node predicates\n",
       "5. Check if metric is None (i.e., Python keyword None) in query node predicates\n",
       "6. Check if metric is not None (i.e., Python keyword None) in query node predicates\n"
      ],
      "text/plain": [
       "<IPython.core.display.Markdown object>"
      ]
     },
     "metadata": {},
     "output_type": "display_data"
    }
   ],
   "source": [
    "# display documentation for object-based dialect\n",
    "display(Markdown(\"../common/documentation/string-based-dialect-05.md\"))"
   ]
  },
  {
   "cell_type": "code",
   "execution_count": 3,
   "id": "5a29963e-6dfd-470d-a43b-612a1f17d197",
   "metadata": {
    "jupyter": {
     "source_hidden": true
    },
    "tags": [
     "hide-input"
    ]
   },
   "outputs": [
    {
     "data": {
      "text/markdown": [
       "### Loading profile data as Hatchet GraphFrame\n",
       "\n",
       "Hatchet queries are only defined on Hatchet GraphFrames. \n",
       "Obtaining a hatchet GraphFrame is straight forward:\n",
       "\n",
       "1. Import hatchet\n",
       "2. Use the appropriate reader for the profile/trace at hand\n",
       "\n",
       "We first load a [Caliper](https://github.com/LLNL/Caliper) profile in JSON format, where Caliper is a performance profiling library developed by the Lawrence Livermore National Lab (LLNL).\n",
       "\n",
       "This example profile is profiled from [LULESH (Livermore Unstructured Lagrangian Explicit Shock Hydrodynamics)](https://asc.llnl.gov/codes/proxy-apps/lulesh), a performance report data generated by Caliper. LULESH is a highly simplified application designed to solve the Sedov Blast problem, which is a standard hydrodynamics test problem. It performs a hydrodynamics stencil calculation using both MPI and OpenMP to achieve parallelism. \n",
       "\n",
       "This is an interesting profile because it covers a relatively large number of nodes (45 nodes) and spends considerable time in MPI communication routines.\n"
      ],
      "text/plain": [
       "<IPython.core.display.Markdown object>"
      ]
     },
     "metadata": {},
     "output_type": "display_data"
    }
   ],
   "source": [
    "# display dataset information \n",
    "display(Markdown(\"../common/documentation/dataset-information.md\"))"
   ]
  },
  {
   "cell_type": "markdown",
   "id": "5c4e3f1c-e8ea-4c53-bb77-dd9905efff34",
   "metadata": {},
   "source": [
    "In this notebook, we also import an additional profile dataset as we perform some GraphFrame operations for some of the use cases. The two profiles are similar but, one does not contain any MPI function call nodes."
   ]
  },
  {
   "cell_type": "code",
   "execution_count": null,
   "id": "80169650-83e8-4074-b239-7b81196b981f",
   "metadata": {},
   "outputs": [],
   "source": [
    "import hatchet as ht\n",
    "gf = ht.GraphFrame.from_caliper(\"../../data/lulesh-16nodes/lulesh-annotation-profile-512cores.json\")\n",
    "gf1 = ht.GraphFrame.from_caliper(\"../../data/lulesh-16nodes/lulesh-annotation-profile-512cores-nompi.json\")"
   ]
  },
  {
   "cell_type": "code",
   "execution_count": 5,
   "id": "07aef03b-17e6-4d53-949a-9cd738ffce7a",
   "metadata": {
    "jupyter": {
     "source_hidden": true
    },
    "tags": [
     "hide-input"
    ]
   },
   "outputs": [
    {
     "data": {
      "text/markdown": [
       "### Displaying a Hatchet GraphFrame\n",
       "A compact overview of a hatchet GraphFrame can be obtained using the `gf.tree()` function. We use this throughout the notebook to display the differences between an original GraphFrame and the resulting GraphFrame after applying a query."
      ],
      "text/plain": [
       "<IPython.core.display.Markdown object>"
      ]
     },
     "metadata": {},
     "output_type": "display_data"
    }
   ],
   "source": [
    "# display GraphFrame information \n",
    "display(Markdown(\"../common/documentation/graph-tree-information.md\"))"
   ]
  },
  {
   "cell_type": "code",
   "execution_count": null,
   "id": "dd81d714-8b68-476e-a55c-d5e23d965765",
   "metadata": {},
   "outputs": [],
   "source": [
    "print(gf.tree())"
   ]
  },
  {
   "cell_type": "code",
   "execution_count": 7,
   "id": "1658348d-0ff6-4398-ae0f-94d1116d3e49",
   "metadata": {
    "jupyter": {
     "source_hidden": true
    },
    "tags": [
     "hide-input"
    ]
   },
   "outputs": [
    {
     "data": {
      "text/markdown": [
       "### Displaying a DataFrame\n",
       "An additional detail perspective can be obtained by viewing the underlying data using a **DataFrame**. A Hatchet **DataFrame** holds all the numerical and categorical data associated with each node. "
      ],
      "text/plain": [
       "<IPython.core.display.Markdown object>"
      ]
     },
     "metadata": {},
     "output_type": "display_data"
    }
   ],
   "source": [
    "# display DataFrame information \n",
    "display(Markdown(\"../common/documentation/dataframe-information.md\"))"
   ]
  },
  {
   "cell_type": "code",
   "execution_count": null,
   "id": "caa3dba8-87bb-4f68-b8b9-b5f395484c46",
   "metadata": {
    "tags": []
   },
   "outputs": [],
   "source": [
    "gf.dataframe"
   ]
  },
  {
   "cell_type": "code",
   "execution_count": 9,
   "id": "b62d1696-6012-498c-b0e4-0f1cdc68397a",
   "metadata": {
    "jupyter": {
     "source_hidden": true
    },
    "tags": [
     "hide-input"
    ]
   },
   "outputs": [
    {
     "data": {
      "text/markdown": [
       "### Dropping index levels\n",
       "\n",
       "As a precursor to defining queries, we drop the index level of the GraphFrame using the `drop_index_levels()` Hatchet function. Hatchet hierarchical indexing can be of two types, depending on whether there is a single metric per node or multiple set of metrics per node.  \n",
       "\n",
       "If a node contains a single metric, the DataFrame will use an `Index` object containing the node column. If a node has an additional level of information, Hatchet creates a `MultiIndex` to store the information pertaining to multiple sets of metrics per node. `MultiIndex` stores the node column as the \"top\" level of the index, followed by additional information on the levels below. \n",
       "\n",
       "Based on the types of indexing (`Index or MultiIndex`), retrieving data from a DataFrame corresponding to a particular node either retrieves a single or multiple rows. This difference can cause issues when applying query node predicates.\n",
       "Therefore, it is necessary to get rid of all index levels besides the node column through an aggregation operation on the GraphFrame. Then, a query node predicate can be applied to the GraphFrame. "
      ],
      "text/plain": [
       "<IPython.core.display.Markdown object>"
      ]
     },
     "metadata": {},
     "output_type": "display_data"
    }
   ],
   "source": [
    "# why use drop index levels\n",
    "display(Markdown(\"../common/documentation/drop-index-information.md\"))"
   ]
  },
  {
   "cell_type": "code",
   "execution_count": null,
   "id": "0edea415-0f53-4ade-8a43-1e9f021fa983",
   "metadata": {},
   "outputs": [],
   "source": [
    "gf.drop_index_levels()\n",
    "gf1.drop_index_levels()"
   ]
  },
  {
   "cell_type": "code",
   "execution_count": 49,
   "id": "ddfa4a5b-3129-4fe0-99c3-e21aaec76d9d",
   "metadata": {
    "jupyter": {
     "source_hidden": true
    },
    "tags": [
     "hide-input"
    ]
   },
   "outputs": [
    {
     "data": {
      "text/markdown": [
       "### Query type 1: Check if numeric metric is NaN in query node predicates\n",
       "\n",
       "This query type allows a user to indentify GraphFrame nodes with a NaN value. When a user subtracts or divides two GraphFrames that don't contain the same nodes, the nodes that are not present in both GraphFrames are changed to hold **NaN** values. An example of this can be seen on Fig. 1 below.\n",
       "\n",
       "![Production of NaN nodes](../common/images/nan_production.PNG)\n",
       "\n",
       "**Figure 1**: Visual example of GraphFrame operations that produce nodes with NaN value.\n",
       "\n",
       "\n",
       "Such query type covers cases where an operation on GraphFrames produce nodes with NaN as their value. The ability to filter the resulting GraphFrame allow users to focus on nodes that aren't shared between the GraphFrames. \n",
       "\n",
       "Here, we use the second profile dataset stored as \"gf1\" for a `subtraction of GraphFrames`. Given that the only difference between the node names of the two profiles is that one GraphFrame does not contain any MPI nodes, the resulting GraphFrame must contain MPI nodes with nan value for their time metric.\n",
       "\n",
       "\n",
       "\n",
       "\n"
      ],
      "text/plain": [
       "<IPython.core.display.Markdown object>"
      ]
     },
     "metadata": {},
     "output_type": "display_data"
    }
   ],
   "source": [
    "# display query type 1 documentation\n",
    "display(Markdown(\"../common/documentation/special-value-identification-01-01.md\"))"
   ]
  },
  {
   "cell_type": "code",
   "execution_count": null,
   "id": "603d3064-fce3-433b-8dc7-a43c9e0e2fc5",
   "metadata": {},
   "outputs": [],
   "source": [
    "print(gf1.tree())"
   ]
  },
  {
   "cell_type": "code",
   "execution_count": null,
   "id": "a9bb9e46-6b8a-4a05-a31b-5c52c1866519",
   "metadata": {},
   "outputs": [],
   "source": [
    "# subtraction of two GraphFrames\n",
    "gf1 -= gf"
   ]
  },
  {
   "cell_type": "code",
   "execution_count": null,
   "id": "b2c98c24-95b8-4b03-a836-2eafc8a5babf",
   "metadata": {},
   "outputs": [],
   "source": [
    "# print resulting GraphFrame to view NaN nodes\n",
    "print(gf1.tree())"
   ]
  },
  {
   "cell_type": "code",
   "execution_count": 15,
   "id": "93c8c8ec-a6bf-43c5-a626-05f3df11ae39",
   "metadata": {
    "jupyter": {
     "source_hidden": true
    },
    "tags": [
     "hide-input"
    ]
   },
   "outputs": [
    {
     "data": {
      "text/markdown": [
       "The following query identifies all GraphFrame nodes where the time metric `is NaN`, using the query node predicate. \n",
       "\n"
      ],
      "text/plain": [
       "<IPython.core.display.Markdown object>"
      ]
     },
     "metadata": {},
     "output_type": "display_data"
    }
   ],
   "source": [
    "# display query type 1 documentation\n",
    "display(Markdown(\"../common/documentation/special-value-identification-01-02.md\"))"
   ]
  },
  {
   "cell_type": "code",
   "execution_count": null,
   "id": "24ae01cf-764a-48e0-b41d-5a15f92e4c08",
   "metadata": {},
   "outputs": [],
   "source": [
    "query_1 = \"\"\"\n",
    "MATCH (\"*\", p)\n",
    "WHERE p.\"time\" IS NAN\n",
    "\"\"\""
   ]
  },
  {
   "cell_type": "markdown",
   "id": "60f3588d-6380-40fd-9abb-99b3edaacba5",
   "metadata": {},
   "source": [
    "The above query is passed to Hatchet’s `filter()` function to filter the input GraphFrame. The `filter()` function takes a user-supplied function or query object and applies that to all rows in the DataFrame. The resulting Series or DataFrame is used to filter the DataFrame to only return rows that are true."
   ]
  },
  {
   "cell_type": "code",
   "execution_count": null,
   "id": "55c24fce-aed0-4d02-88c3-4275fa461c07",
   "metadata": {},
   "outputs": [],
   "source": [
    "gf_filt = gf1.filter(query_1)"
   ]
  },
  {
   "cell_type": "markdown",
   "id": "08e65848-b036-48f4-831d-dedd12db6be3",
   "metadata": {},
   "source": [
    "The resulting GraphFrame now only lists the  nodes that matched the query:"
   ]
  },
  {
   "cell_type": "code",
   "execution_count": null,
   "id": "851658d4-6f33-4f73-983c-ca5815ea863b",
   "metadata": {},
   "outputs": [],
   "source": [
    "print(gf_filt.tree())"
   ]
  },
  {
   "cell_type": "markdown",
   "id": "5f64080f-80f9-4043-95bc-e5ce26aae041",
   "metadata": {},
   "source": [
    "The query match is also reflected in the DataFrame:"
   ]
  },
  {
   "cell_type": "code",
   "execution_count": null,
   "id": "04e34b41-839e-43e3-aa86-8b70d8f0dcb4",
   "metadata": {},
   "outputs": [],
   "source": [
    "gf_filt.dataframe"
   ]
  },
  {
   "cell_type": "code",
   "execution_count": 20,
   "id": "8dcd653e-3660-4e8e-a301-e889bd265e85",
   "metadata": {
    "jupyter": {
     "source_hidden": true
    },
    "tags": [
     "hide-input"
    ]
   },
   "outputs": [
    {
     "data": {
      "text/markdown": [
       "### Query type 2: Check if numeric metric is not NaN in query node predicates\n",
       "\n",
       "This query type allows a user to indentify GraphFrame nodes that `do not contain a NaN value`. Such queries allow users to focus on nodes that are shared between the GraphFrames after an operation is carried out between two GraphFrames. \n",
       "\n"
      ],
      "text/plain": [
       "<IPython.core.display.Markdown object>"
      ]
     },
     "metadata": {},
     "output_type": "display_data"
    }
   ],
   "source": [
    "# display query type 1 documentation\n",
    "display(Markdown(\"../common/documentation/special-value-identification-02.md\"))"
   ]
  },
  {
   "cell_type": "code",
   "execution_count": null,
   "id": "78e43fa5-41ab-47da-b17b-60cc292d258e",
   "metadata": {},
   "outputs": [],
   "source": [
    "query_2 = \"\"\"\n",
    "MATCH (\"*\", p)\n",
    "WHERE p.\"time\" IS NOT NAN\n",
    "\"\"\""
   ]
  },
  {
   "cell_type": "markdown",
   "id": "8c32888e-541c-4a48-a3d0-c28395f248a5",
   "metadata": {},
   "source": [
    "Just as before, the above query is passed to Hatchet’s `filter()` function to filter the input GraphFrame."
   ]
  },
  {
   "cell_type": "code",
   "execution_count": null,
   "id": "0b3f97eb-2683-4103-b6c0-a1ad20e613c7",
   "metadata": {},
   "outputs": [],
   "source": [
    "gf_filt = gf1.filter(query_2)"
   ]
  },
  {
   "cell_type": "markdown",
   "id": "a8274d8e-45ea-4d90-b6e8-ebfd356e2054",
   "metadata": {},
   "source": [
    "The resulting graph frame now only lists the  node/s that matched the query:"
   ]
  },
  {
   "cell_type": "code",
   "execution_count": null,
   "id": "cc84c647-af16-449b-a33b-fda581261595",
   "metadata": {},
   "outputs": [],
   "source": [
    "print(gf_filt.tree())"
   ]
  },
  {
   "cell_type": "markdown",
   "id": "3efc0a61-b873-4ef2-827c-a10d5e8a30af",
   "metadata": {},
   "source": [
    "The query match is also reflected in the dataframe:"
   ]
  },
  {
   "cell_type": "code",
   "execution_count": null,
   "id": "ede5f10a-c62d-4596-9f8e-1a39117ab4bb",
   "metadata": {},
   "outputs": [],
   "source": [
    "gf_filt.dataframe"
   ]
  },
  {
   "cell_type": "code",
   "execution_count": 25,
   "id": "b2091b99-562c-498e-ae96-3b760307aa63",
   "metadata": {
    "jupyter": {
     "source_hidden": true
    },
    "tags": [
     "hide-input"
    ]
   },
   "outputs": [
    {
     "data": {
      "text/markdown": [
       "### Query type 3: Check if numeric metric is infinity in query node predicates\n",
       "\n",
       "Similar to query type 1, where certain operations on GraphFrames create nodes with NaN values, some operations can produce GraphFrame nodes with INF values. This query type covers cases where an operation on GraphFrames produce nodes with INF. \n",
       "\n",
       "From the graph tree and DataFrame of the dataset for this notebook, we determine that none of the nodes contain an INF. Therefore, we manually add INF to specific rows of the DataFrame below to successfully demonstrate this query type.\n",
       "\n",
       "1. Import the Python numpy library\n",
       "2. Set the time metric of all MPI functions to INF\n",
       "\n",
       "\n"
      ],
      "text/plain": [
       "<IPython.core.display.Markdown object>"
      ]
     },
     "metadata": {},
     "output_type": "display_data"
    }
   ],
   "source": [
    "# display query type 1 documentation\n",
    "display(Markdown(\"../common/documentation/special-value-identification-03-01.md\"))"
   ]
  },
  {
   "cell_type": "code",
   "execution_count": null,
   "id": "b8d35dc7-e7f8-45ee-b020-ba0ac1a9dc5b",
   "metadata": {},
   "outputs": [],
   "source": [
    "import numpy as np\n",
    "gf.dataframe.loc[gf.dataframe.name == \"MPI_Barrier\", 'time'] = np.inf\n",
    "gf.dataframe.loc[gf.dataframe.name == \"MPI_Finalize\", 'time'] = np.inf\n",
    "gf.dataframe.loc[gf.dataframe.name == \"MPI_Irecv\", 'time'] = np.inf\n",
    "gf.dataframe.loc[gf.dataframe.name == \"MPI_Isend\", 'time'] = np.inf\n",
    "gf.dataframe.loc[gf.dataframe.name == \"MPI_Reduce\", 'time'] = np.inf\n",
    "gf.dataframe.loc[gf.dataframe.name == \"MPI_Wait\", 'time'] = np.inf\n",
    "gf.dataframe.loc[gf.dataframe.name == \"MPI_Waitall\", 'time'] = np.inf\n",
    "gf.dataframe.loc[gf.dataframe.name == \"MPI_Allreduce\", 'time'] = np.inf"
   ]
  },
  {
   "cell_type": "code",
   "execution_count": 27,
   "id": "b1978a77-5e2f-4210-b8de-9af5bdf2c4a0",
   "metadata": {
    "jupyter": {
     "source_hidden": true
    },
    "tags": [
     "hide-input"
    ]
   },
   "outputs": [
    {
     "data": {
      "text/markdown": [
       "The following query identifies all GraphFrame nodes where the time metric `is NaN`, using the query node predicate. \n",
       "\n"
      ],
      "text/plain": [
       "<IPython.core.display.Markdown object>"
      ]
     },
     "metadata": {},
     "output_type": "display_data"
    }
   ],
   "source": [
    "# display query type 1 documentation\n",
    "display(Markdown(\"../common/documentation/special-value-identification-01-02.md\"))"
   ]
  },
  {
   "cell_type": "code",
   "execution_count": null,
   "id": "078b9ff7-cf20-47d4-ac97-e6dceab50bd2",
   "metadata": {},
   "outputs": [],
   "source": [
    "query_3 = \"\"\"\n",
    "MATCH (\"*\", p)\n",
    "WHERE p.\"time\" IS INF\n",
    "\"\"\""
   ]
  },
  {
   "cell_type": "markdown",
   "id": "12e1d26a-127f-4cdc-9c9b-d2dc3a2c916e",
   "metadata": {},
   "source": [
    "Just as before, the above query is passed to Hatchet’s `filter()` function to filter the input GraphFrame."
   ]
  },
  {
   "cell_type": "code",
   "execution_count": null,
   "id": "2026f107-dbf4-4626-8064-7574b55d32a0",
   "metadata": {},
   "outputs": [],
   "source": [
    "gf_filt = gf.filter(query_3)"
   ]
  },
  {
   "cell_type": "markdown",
   "id": "61c00cd5-8fed-4a78-a877-e9d2836a2e7b",
   "metadata": {},
   "source": [
    "The resulting graph frame now only lists the  node/s that matched the query:"
   ]
  },
  {
   "cell_type": "code",
   "execution_count": null,
   "id": "c8971d7f-8da8-4fba-b520-a78b7d5d9c30",
   "metadata": {},
   "outputs": [],
   "source": [
    "print(gf_filt.tree())"
   ]
  },
  {
   "cell_type": "markdown",
   "id": "df3ca53a-2aec-4bb2-8be9-fd1ae33bf712",
   "metadata": {},
   "source": [
    "The query match is also reflected in the dataframe:"
   ]
  },
  {
   "cell_type": "code",
   "execution_count": null,
   "id": "ccf10d1e-ec4d-423e-acc0-26aaebcf80fd",
   "metadata": {},
   "outputs": [],
   "source": [
    "gf_filt.dataframe"
   ]
  },
  {
   "cell_type": "code",
   "execution_count": 32,
   "id": "677d7880-49eb-4a79-a434-ff1daea298c7",
   "metadata": {
    "jupyter": {
     "source_hidden": true
    },
    "tags": [
     "hide-input"
    ]
   },
   "outputs": [
    {
     "data": {
      "text/markdown": [
       "### Query type 4: Check if numeric metric is not infinity in query node predicates\n",
       "\n",
       "This query type allows a user to indentify GraphFrame nodes that `do not contain an INF value`. \n",
       "\n"
      ],
      "text/plain": [
       "<IPython.core.display.Markdown object>"
      ]
     },
     "metadata": {},
     "output_type": "display_data"
    }
   ],
   "source": [
    "# display query type 1 documentation\n",
    "display(Markdown(\"../common/documentation/special-value-identification-04.md\"))"
   ]
  },
  {
   "cell_type": "code",
   "execution_count": null,
   "id": "986f91e5-6cd3-4d48-a20e-3871d0d49d42",
   "metadata": {},
   "outputs": [],
   "source": [
    "query_4 = \"\"\"\n",
    "MATCH (\"*\", p)\n",
    "WHERE p.\"time\" IS NOT INF\n",
    "\"\"\""
   ]
  },
  {
   "cell_type": "markdown",
   "id": "ca26193c-c00e-4e4c-ad86-1ccea8aff06f",
   "metadata": {},
   "source": [
    "Just as before, the above query is passed to Hatchet’s `filter()` function to filter the input GraphFrame."
   ]
  },
  {
   "cell_type": "code",
   "execution_count": null,
   "id": "8c68be76-2b2c-41fb-82f4-bffd35e4974b",
   "metadata": {},
   "outputs": [],
   "source": [
    "gf_filt = gf.filter(query_4)"
   ]
  },
  {
   "cell_type": "markdown",
   "id": "8575e616-9b57-4efa-9c0c-94a6c0e8d10a",
   "metadata": {},
   "source": [
    "The resulting graph frame now only lists the  node/s that matched the query:"
   ]
  },
  {
   "cell_type": "code",
   "execution_count": null,
   "id": "a719b1fe-6e81-44fe-8319-7e9181e0e34d",
   "metadata": {},
   "outputs": [],
   "source": [
    "print(gf_filt.tree())"
   ]
  },
  {
   "cell_type": "markdown",
   "id": "64caf860-0e84-4824-9bf1-f139d98dac7c",
   "metadata": {},
   "source": [
    "The query match is also reflected in the dataframe:"
   ]
  },
  {
   "cell_type": "code",
   "execution_count": null,
   "id": "a1359540-5463-43b1-ac12-497528a20639",
   "metadata": {},
   "outputs": [],
   "source": [
    "gf_filt.dataframe"
   ]
  },
  {
   "cell_type": "code",
   "execution_count": 37,
   "id": "664e4452-fbbd-4a7b-9ca1-b0e4879c48e7",
   "metadata": {
    "jupyter": {
     "source_hidden": true
    },
    "tags": [
     "hide-input"
    ]
   },
   "outputs": [
    {
     "data": {
      "text/markdown": [
       "### Query type 5: Check if metric is None (i.e., Python keyword None) in query node predicates\n",
       "\n",
       "Similar to query type 1 and 2, where certain operations on GraphFrames create nodes with NaN and INF values, respectively, some operations can produce GraphFrame nodes with None values. This query type covers cases where an operation on GraphFrames produce nodes with None. \n",
       "\n",
       "From the graph tree and DataFrame of the dataset for this notebook, we determine that none of the nodes contain an INF. Therefore, we manually add INF to specific rows of the DataFrame below. Before we carry on with this step, note that Python only allows object types to hold a None value. Any other variable type automatically sets a None to NaN. To align our demonstration with this feature of Python, we apply our query only on the name metric while also not interferring with any reference to the name metric carried out by the Hatcher Query Language. \n",
       "\n",
       "1. Create a column in the DataFrame called \"name_copy\" that is identical to the name column  \n",
       "2. Set the name_copy metric of all MPI functions to None\n",
       "\n"
      ],
      "text/plain": [
       "<IPython.core.display.Markdown object>"
      ]
     },
     "metadata": {},
     "output_type": "display_data"
    }
   ],
   "source": [
    "# display query type 1 documentation\n",
    "display(Markdown(\"../common/documentation/special-value-identification-05-01.md\"))"
   ]
  },
  {
   "cell_type": "code",
   "execution_count": null,
   "id": "e4c272c1-4add-4333-9775-ec6af2fa4400",
   "metadata": {},
   "outputs": [],
   "source": [
    "gf.dataframe['name_copy'] = gf.dataframe['name']\n",
    "\n",
    "gf.dataframe.loc[gf.dataframe.name == \"MPI_Barrier\", 'name_copy'] = None\n",
    "gf.dataframe.loc[gf.dataframe.name == \"MPI_Finalize\", 'name_copy'] = None\n",
    "gf.dataframe.loc[gf.dataframe.name == \"MPI_Irecv\", 'name_copy'] = None\n",
    "gf.dataframe.loc[gf.dataframe.name == \"MPI_Isend\", 'name_copy'] = None\n",
    "gf.dataframe.loc[gf.dataframe.name == \"MPI_Reduce\", 'name_copy'] = None\n",
    "gf.dataframe.loc[gf.dataframe.name == \"MPI_Wait\", 'name_copy'] = None\n",
    "gf.dataframe.loc[gf.dataframe.name == \"MPI_Waitall\", 'name_copy'] = None\n",
    "gf.dataframe.loc[gf.dataframe.name == \"MPI_Allreduce\", 'name_copy'] = None"
   ]
  },
  {
   "cell_type": "code",
   "execution_count": 39,
   "id": "ef5fef04-2ef6-4d54-b76c-4745629c3330",
   "metadata": {
    "jupyter": {
     "source_hidden": true
    },
    "tags": [
     "hide-input"
    ]
   },
   "outputs": [
    {
     "data": {
      "text/markdown": [
       "The following query identifies all GraphFrame nodes where the time metric `is None`, using the query node predicate. \n",
       "\n"
      ],
      "text/plain": [
       "<IPython.core.display.Markdown object>"
      ]
     },
     "metadata": {},
     "output_type": "display_data"
    }
   ],
   "source": [
    "# display query type 1 documentation\n",
    "display(Markdown(\"../common/documentation/special-value-identification-05-02.md\"))"
   ]
  },
  {
   "cell_type": "code",
   "execution_count": null,
   "id": "c37a8ca2-f3b5-44fc-a60a-1ef99c6a07ea",
   "metadata": {
    "tags": []
   },
   "outputs": [],
   "source": [
    "query_5 = \"\"\"\n",
    "MATCH (\"*\", p)\n",
    "WHERE p.\"name_copy\" IS NONE\n",
    "\"\"\""
   ]
  },
  {
   "cell_type": "markdown",
   "id": "de943cea-ec3d-4f1d-9d07-f17dce6dfc97",
   "metadata": {},
   "source": [
    "Just as before, the above query is passed to Hatchet’s `filter()` function to filter the input GraphFrame."
   ]
  },
  {
   "cell_type": "code",
   "execution_count": null,
   "id": "fe437ff5-292e-4b59-a7a6-51af4f81892b",
   "metadata": {},
   "outputs": [],
   "source": [
    "gf_filt = gf.filter(query_5)"
   ]
  },
  {
   "cell_type": "markdown",
   "id": "1f596cfb-3aec-4ee7-91bf-5b2bf3dfc76a",
   "metadata": {},
   "source": [
    "The resulting graph frame now only lists the  node/s that matched the query:"
   ]
  },
  {
   "cell_type": "code",
   "execution_count": null,
   "id": "00b5d435-c0a0-4d61-8411-4987c5ed4ab2",
   "metadata": {},
   "outputs": [],
   "source": [
    "print(gf_filt.tree())"
   ]
  },
  {
   "cell_type": "markdown",
   "id": "6a80f42c-1ceb-4399-b56a-eb890febac77",
   "metadata": {},
   "source": [
    "The query match is also reflected in the dataframe:"
   ]
  },
  {
   "cell_type": "code",
   "execution_count": null,
   "id": "abd99ca9-d7c7-4d53-b212-73a6f873441c",
   "metadata": {},
   "outputs": [],
   "source": [
    "gf_filt.dataframe"
   ]
  },
  {
   "cell_type": "code",
   "execution_count": 44,
   "id": "03571d9c-5e95-48af-a7b1-23efb16cc5f1",
   "metadata": {
    "jupyter": {
     "source_hidden": true
    },
    "tags": [
     "hide-input"
    ]
   },
   "outputs": [
    {
     "data": {
      "text/markdown": [
       "### Query type 6: Check if metric is not None (i.e., Python keyword None) in query node predicates\n",
       "\n",
       "This query type allows a user to indentify GraphFrame nodes that `do not contain a None value`. \n",
       "\n"
      ],
      "text/plain": [
       "<IPython.core.display.Markdown object>"
      ]
     },
     "metadata": {},
     "output_type": "display_data"
    }
   ],
   "source": [
    "# display query type 1 documentation\n",
    "display(Markdown(\"../common/documentation/special-value-identification-06.md\"))"
   ]
  },
  {
   "cell_type": "code",
   "execution_count": null,
   "id": "0bfc0925-cf9f-43ab-b8f9-e32100f3e7fb",
   "metadata": {},
   "outputs": [],
   "source": [
    "query_6 = \"\"\"\n",
    "MATCH (\"*\", p)\n",
    "WHERE p.\"name_copy\" IS NOT NONE\n",
    "\"\"\""
   ]
  },
  {
   "cell_type": "markdown",
   "id": "98a11ae2-fc73-4987-8842-0a9a63fc8f64",
   "metadata": {},
   "source": [
    "Just as before, the above query is passed to Hatchet’s `filter()` function to filter the input GraphFrame."
   ]
  },
  {
   "cell_type": "code",
   "execution_count": null,
   "id": "61004dd6-68ff-42dd-acbe-d682beb070e6",
   "metadata": {},
   "outputs": [],
   "source": [
    "gf_filt = gf.filter(query_6)"
   ]
  },
  {
   "cell_type": "markdown",
   "id": "e6aa642a-505e-461c-a547-e6e6448221be",
   "metadata": {},
   "source": [
    "The resulting graph frame now only lists the  node/s that matched the query:"
   ]
  },
  {
   "cell_type": "code",
   "execution_count": null,
   "id": "9c6de75d-5f7e-4898-b0c5-fb60bf5d22c9",
   "metadata": {},
   "outputs": [],
   "source": [
    "print(gf_filt.tree())"
   ]
  },
  {
   "cell_type": "markdown",
   "id": "b1234797-e820-46f3-bf91-7f8d0fd494fc",
   "metadata": {},
   "source": [
    "The query match is also reflected in the dataframe:"
   ]
  },
  {
   "cell_type": "code",
   "execution_count": null,
   "id": "0fdf1b18-056f-4825-8853-9bf744506604",
   "metadata": {},
   "outputs": [],
   "source": [
    "gf_filt.dataframe"
   ]
  }
 ],
 "metadata": {
  "kernelspec": {
   "display_name": "Python 3 (ipykernel)",
   "language": "python",
   "name": "python3"
  },
  "language_info": {
   "codemirror_mode": {
    "name": "ipython",
    "version": 3
   },
   "file_extension": ".py",
   "mimetype": "text/x-python",
   "name": "python",
   "nbconvert_exporter": "python",
   "pygments_lexer": "ipython3",
   "version": "3.9.12"
  }
 },
 "nbformat": 4,
 "nbformat_minor": 5
}
