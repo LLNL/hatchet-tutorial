{
 "cells": [
  {
   "cell_type": "code",
   "execution_count": null,
   "metadata": {},
   "outputs": [],
   "source": [
    "import hatchet as ht\n",
    "\n",
    "dirname = '../data/hpctoolkit-kripke-database-2589696'\n",
    "\n",
    "gf = ht.GraphFrame.from_hpctoolkit(dirname)\n",
    "gf.drop_index_levels()"
   ]
  },
  {
   "cell_type": "code",
   "execution_count": null,
   "metadata": {},
   "outputs": [],
   "source": [
    "grouped = gf.dataframe.groupby('name').sum()\n",
    "\n",
    "sorted_df = grouped.sort_values(by=['time'], ascending=False)\n",
    "display(sorted_df)"
   ]
  },
  {
   "cell_type": "code",
   "execution_count": null,
   "metadata": {},
   "outputs": [],
   "source": [
    "grouped = gf.dataframe.groupby('module').sum()\n",
    "\n",
    "sorted_df = grouped.sort_values(by=['time'], ascending=False)\n",
    "display(sorted_df)"
   ]
  },
  {
   "cell_type": "code",
   "execution_count": null,
   "metadata": {},
   "outputs": [],
   "source": [
    "grouped = gf.dataframe.groupby('file').sum()\n",
    "\n",
    "sorted_df = grouped.sort_values(by=['time'], ascending=False)\n",
    "display(sorted_df)"
   ]
  }
 ],
 "metadata": {
  "kernelspec": {
   "display_name": "Python 3 (ipykernel)",
   "language": "python",
   "name": "python3"
  },
  "language_info": {
   "codemirror_mode": {
    "name": "ipython",
    "version": 3
   },
   "file_extension": ".py",
   "mimetype": "text/x-python",
   "name": "python",
   "nbconvert_exporter": "python",
   "pygments_lexer": "ipython3",
   "version": "3.9.4"
  }
 },
 "nbformat": 4,
 "nbformat_minor": 2
}
