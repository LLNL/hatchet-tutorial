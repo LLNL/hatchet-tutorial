{
 "cells": [
  {
   "cell_type": "code",
   "execution_count": null,
   "metadata": {},
   "outputs": [],
   "source": [
    "import sys\n",
    "import os\n",
    "import platform\n",
    "\n",
    "import pandas as pd\n",
    "import numpy as np\n",
    "from IPython.display import display, HTML\n",
    "\n",
    "import hatchet as ht"
   ]
  },
  {
   "cell_type": "markdown",
   "metadata": {},
   "source": [
    "# Load in a single data file and visualize the tree and dataframe"
   ]
  },
  {
   "cell_type": "code",
   "execution_count": null,
   "metadata": {},
   "outputs": [],
   "source": [
    "# Path to a Caliper JSON-split file\n",
    "caliper_file = \"../data/lulesh-1node/lulesh-annotation-profile-1core-nompi.json\"\n",
    "\n",
    "# Read file into a Hatchet GraphFrame using from_caliper() API\n",
    "gf = ht.GraphFrame.from_caliper(caliper_file)"
   ]
  },
  {
   "cell_type": "code",
   "execution_count": null,
   "metadata": {},
   "outputs": [],
   "source": [
    "# Display numeric metric columns (such as inclusive and exlusive time), which can be visualized on the tree\n",
    "gf.show_metric_columns()"
   ]
  },
  {
   "cell_type": "code",
   "execution_count": null,
   "metadata": {},
   "outputs": [],
   "source": [
    "# Print the terminal tree representation using exclusive time\n",
    "print(gf.tree(metric_column=\"time\"))"
   ]
  },
  {
   "cell_type": "code",
   "execution_count": null,
   "metadata": {},
   "outputs": [],
   "source": [
    "# Get the man page of different parameters for Hatchet's tree function\n",
    "help(gf.tree)"
   ]
  },
  {
   "cell_type": "code",
   "execution_count": null,
   "metadata": {},
   "outputs": [],
   "source": [
    "# Print the dataframe of metrics\n",
    "display(gf.dataframe)"
   ]
  },
  {
   "cell_type": "markdown",
   "metadata": {},
   "source": [
    "# Filter and squash a tree"
   ]
  },
  {
   "cell_type": "code",
   "execution_count": null,
   "metadata": {},
   "outputs": [],
   "source": [
    "# Filter the tree to keep nodes with a time value greater than 300,000 sec\n",
    "filter_func = lambda x: x[\"time\"] > 300e3\n",
    "filter_gf = gf.filter(filter_func,\n",
    "                      squash=False)"
   ]
  },
  {
   "cell_type": "code",
   "execution_count": null,
   "metadata": {},
   "outputs": [],
   "source": [
    "display(HTML(filter_gf.dataframe.to_html()))"
   ]
  },
  {
   "cell_type": "code",
   "execution_count": null,
   "metadata": {},
   "outputs": [],
   "source": [
    "squash_gf = filter_gf.squash()"
   ]
  },
  {
   "cell_type": "code",
   "execution_count": null,
   "metadata": {},
   "outputs": [],
   "source": [
    "# Compare size of input graph and filtered graph\n",
    "print(f\"Input Graph Size                       : {len(gf.graph)}\")\n",
    "print(f\"Result (after filter/squash) Graph Size: {len(squash_gf.graph)}\")"
   ]
  },
  {
   "cell_type": "code",
   "execution_count": null,
   "metadata": {},
   "outputs": [],
   "source": [
    "# Print the resulting tree\n",
    "print(squash_gf.tree(metric_column=\"time\"))"
   ]
  },
  {
   "cell_type": "code",
   "execution_count": null,
   "metadata": {},
   "outputs": [],
   "source": [
    "# Another filter example by function name, filter and squash in a single step\n",
    "squash_gf = gf.filter(lambda x: x[\"name\"] in (\"main\", \"lulesh.cycle\"))\n",
    "print(squash_gf.tree(metric_column=\"time\"))"
   ]
  },
  {
   "cell_type": "markdown",
   "metadata": {},
   "source": [
    "# Filter using callpath query language"
   ]
  },
  {
   "cell_type": "code",
   "execution_count": null,
   "metadata": {},
   "outputs": [],
   "source": [
    "# Aggregate metrics across ranks (in this case, we only have data for rank 0, so this will\n",
    "# drop the rank index column)\n",
    "gf.drop_index_levels(function=np.max)\n",
    "\n",
    "# Define call path query\n",
    "query = [{\"name\": \"LagrangeNodal\"}, \"*\"]\n",
    "\n",
    "# Filter and squash the tree\n",
    "query_gf = gf.filter(query, squash=True)\n",
    "\n",
    "# Print the resulting tree\n",
    "print(query_gf.tree(metric_column=\"time\"))"
   ]
  },
  {
   "cell_type": "markdown",
   "metadata": {},
   "source": [
    "# Aggregate data across ranks and/or threads"
   ]
  },
  {
   "cell_type": "code",
   "execution_count": null,
   "metadata": {},
   "outputs": [],
   "source": [
    "# Path to a Caliper file\n",
    "caliper_file = \"../data/lulesh-1node/lulesh-annotation-profile-27cores.json\"\n",
    "\n",
    "# Read file into a Hatchet GraphFrame\n",
    "gf = ht.GraphFrame.from_caliper(caliper_file)\n",
    "\n",
    "display(HTML(gf.dataframe.to_html()))"
   ]
  },
  {
   "cell_type": "code",
   "execution_count": null,
   "metadata": {},
   "outputs": [],
   "source": [
    "gf.drop_index_levels(function=np.max)\n",
    "display(gf.dataframe)"
   ]
  },
  {
   "cell_type": "code",
   "execution_count": null,
   "metadata": {},
   "outputs": [],
   "source": [
    "# Print the resulting dataframe of metrics\n",
    "display(HTML(gf.dataframe.to_html()))"
   ]
  },
  {
   "cell_type": "markdown",
   "metadata": {},
   "source": [
    "# Calculate speedup between two trees"
   ]
  },
  {
   "cell_type": "code",
   "execution_count": null,
   "metadata": {},
   "outputs": [],
   "source": [
    "# Add cali-query to PATH\n",
    "cali_query_path = \"../Caliper-2.5.0/install/bin\"\n",
    "os.environ[\"PATH\"] += os.pathsep + cali_query_path\n",
    "\n",
    "# Define caliper query for filtering profile\n",
    "grouping_attribute = \"prop:nested\"\n",
    "default_metric = \"avg#inclusive#sum#time.duration\"\n",
    "query = \"select %s,sum(%s) group by %s format json-split\" % (grouping_attribute, default_metric, grouping_attribute)"
   ]
  },
  {
   "cell_type": "code",
   "execution_count": null,
   "metadata": {},
   "outputs": [],
   "source": [
    "# Path to Caliper files\n",
    "cali_file1 = \"../data/cDPu64825TuLB5ujG_0.cali\"\n",
    "cali_file2 = \"../data/cjDCIuaXAoayBi9Lr_2.cali\"\n",
    "\n",
    "# Read Caliper files into a Hatchet GraphFrame using from_caliper() API\n",
    "gf = ht.GraphFrame.from_caliper(cali_file1, query)   # 1 rank\n",
    "gf2 = ht.GraphFrame.from_caliper(cali_file2, query)  # 64 ranks"
   ]
  },
  {
   "cell_type": "code",
   "execution_count": null,
   "metadata": {},
   "outputs": [],
   "source": [
    "# Print the tree representation using the exclusive time metric\n",
    "print(gf.tree(metric_column=\"time (inc)\"))"
   ]
  },
  {
   "cell_type": "code",
   "execution_count": null,
   "metadata": {},
   "outputs": [],
   "source": [
    "# Print the tree representation using the exclusive time metric\n",
    "print(gf2.tree(metric_column=\"time (inc)\"))"
   ]
  },
  {
   "cell_type": "code",
   "execution_count": null,
   "metadata": {},
   "outputs": [],
   "source": [
    "# Compute the speedup of 1 rank to 64 ranks\n",
    "gf3 = gf / gf2"
   ]
  },
  {
   "cell_type": "code",
   "execution_count": null,
   "metadata": {},
   "outputs": [],
   "source": [
    "# Print the resulting tree\n",
    "# Two things to note here:\n",
    "# 1) The MPI nodes are annotated with a green arrow that points to the right. This indicates that those\n",
    "#    nodes exist only in the right tree (i.e., 64 ranks). By right tree, we are referring to the position\n",
    "#    in the equation gf3 = gf / gf2 as shown in the above cell.\n",
    "# 2) Nodes with good speedup are highlighted in red, but may be preferred to color these nodes in green.\n",
    "print(gf3.tree(metric_column=\"time (inc)\"))"
   ]
  },
  {
   "cell_type": "code",
   "execution_count": null,
   "metadata": {},
   "outputs": [],
   "source": [
    "# Print resulting tree, but reverse the color scheme, so red identifies nodes with poor scaling (low values)\n",
    "print(gf3.tree(metric_column=\"time (inc)\",\n",
    "               invert_colormap=True))"
   ]
  },
  {
   "cell_type": "code",
   "execution_count": null,
   "metadata": {},
   "outputs": [],
   "source": [
    "# Print the resulting dataframe of metrics\n",
    "display(gf3.dataframe)"
   ]
  }
 ],
 "metadata": {
  "kernelspec": {
   "display_name": "Python 3 (ipykernel)",
   "language": "python",
   "name": "python3"
  },
  "language_info": {
   "codemirror_mode": {
    "name": "ipython",
    "version": 3
   },
   "file_extension": ".py",
   "mimetype": "text/x-python",
   "name": "python",
   "nbconvert_exporter": "python",
   "pygments_lexer": "ipython3",
   "version": "3.9.4"
  }
 },
 "nbformat": 4,
 "nbformat_minor": 2
}
