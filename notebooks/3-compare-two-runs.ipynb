{
 "cells": [
  {
   "cell_type": "code",
   "execution_count": null,
   "metadata": {},
   "outputs": [],
   "source": [
    "import hatchet as ht\n",
    "\n",
    "filename1 = '../data/lulesh-1node/lulesh-annotation-profile-1core-nompi.json'\n",
    "filename2 = '../data/lulesh-1node/lulesh-annotation-profile-27cores.json'\n",
    "\n",
    "gf1 = ht.GraphFrame.from_caliper(filename1)\n",
    "gf1.drop_index_levels()\n",
    "\n",
    "gf2 = ht.GraphFrame.from_caliper(filename2)\n",
    "gf2.drop_index_levels()"
   ]
  },
  {
   "cell_type": "code",
   "execution_count": null,
   "metadata": {},
   "outputs": [],
   "source": [
    "print(gf1.tree())\n",
    "print(gf2.tree())\n",
    "\n",
    "gf3 = gf2 - gf1\n",
    "print(gf3.tree())"
   ]
  },
  {
   "cell_type": "code",
   "execution_count": null,
   "metadata": {},
   "outputs": [],
   "source": [
    "sorted_df = gf3.dataframe.sort_values(by=['time'], ascending=False)\n",
    "display(sorted_df)"
   ]
  }
 ],
 "metadata": {
  "kernelspec": {
   "display_name": "Python 3 (ipykernel)",
   "language": "python",
   "name": "python3"
  },
  "language_info": {
   "codemirror_mode": {
    "name": "ipython",
    "version": 3
   },
   "file_extension": ".py",
   "mimetype": "text/x-python",
   "name": "python",
   "nbconvert_exporter": "python",
   "pygments_lexer": "ipython3",
   "version": "3.9.4"
  }
 },
 "nbformat": 4,
 "nbformat_minor": 2
}
